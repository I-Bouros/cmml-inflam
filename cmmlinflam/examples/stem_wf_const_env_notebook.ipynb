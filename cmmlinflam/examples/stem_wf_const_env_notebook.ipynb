{
 "cells": [
  {
   "cell_type": "markdown",
   "source": [
    "# STEM Cell Population Wright-Fisher Algorithm with Constant Environment\n",
    "\n",
    "In this example notebook we present an example of how to forward simulate a population of STEM cells in the context of a fixed size tumor. We assume a constant number of cells in the population at all times -- only the counts of the different species of cells change in time:\n",
    "\n",
    "- wild type (WT)\n",
    "- with cell intrinsic mutations that increase fitness (A)\n",
    "- with mutations that give evolutionary advantage based on environmental factors such as level of cytokines (B).\n",
    "\n",
    "Fot the purposes of this notebook we consider the environmental conditions such that the B cells always have a selective advantage over their wilde type counterpart."
   ],
   "metadata": {}
  },
  {
   "cell_type": "code",
   "execution_count": 1,
   "source": [
    "# Load necessary libraries\n",
    "import os\n",
    "import numpy as np\n",
    "import pandas as pd\n",
    "from scipy.stats import gamma\n",
    "import cmmlinflam as ci\n",
    "import matplotlib\n",
    "import plotly.graph_objects as go\n",
    "from matplotlib import pyplot as plt"
   ],
   "outputs": [],
   "metadata": {}
  },
  {
   "cell_type": "markdown",
   "source": [
    "## Define STEM cell population"
   ],
   "metadata": {}
  },
  {
   "cell_type": "code",
   "execution_count": 2,
   "source": [
    "# Set initial population state WT - A - B\n",
    "initial_population = [99, 1, 0]\n",
    "\n",
    "# Set baseline growth rate\n",
    "alpha = 0.5\n",
    "\n",
    "# Set selective advantages for mutated cells\n",
    "s = 0.1\n",
    "r = 0.01\n",
    "\n",
    "# Set mutation rates\n",
    "mu_A = 0.002\n",
    "mu_B = 0.003\n",
    "\n",
    "# Coalesce into paramater vector\n",
    "parameters = initial_population\n",
    "parameters.extend([alpha, s, r, mu_A, mu_B])"
   ],
   "outputs": [],
   "metadata": {}
  },
  {
   "cell_type": "code",
   "execution_count": 3,
   "source": [
    "# Instantiate algorithm\n",
    "algorithm = ci.StemWF()\n",
    "\n",
    "# Select start and end times\n",
    "start_time = 1\n",
    "end_time = 100\n",
    "\n",
    "times = list(range(start_time, end_time+1))\n",
    "\n",
    "output_algorithm = algorithm.simulate_fixed_times(parameters, start_time, end_time)"
   ],
   "outputs": [],
   "metadata": {}
  },
  {
   "cell_type": "markdown",
   "source": [
    "## Plot output of Wright-Fisher for the different species of cells"
   ],
   "metadata": {}
  },
  {
   "cell_type": "code",
   "execution_count": 4,
   "source": [
    "from plotly.subplots import make_subplots\n",
    "\n",
    "colours = ['blue', 'red', 'green', 'purple', 'orange', 'black', 'gray', 'pink']\n",
    "species = ['WT', 'A', 'B']"
   ],
   "outputs": [],
   "metadata": {}
  },
  {
   "cell_type": "code",
   "execution_count": 5,
   "source": [
    "# Trace names - represent the type of cells for the simulation\n",
    "trace_name = ['{} cell counts'.format(s) for s in species]\n",
    "\n",
    "# Names of panels\n",
    "panels = ['{} only'.format(s) for s in species]\n",
    "panels.append('Combined')\n",
    "\n",
    "fig = go.Figure()\n",
    "fig = make_subplots(rows=int(np.ceil(len(panels)/2)), cols=2, subplot_titles=tuple('{}'.format(p) for p in panels))\n",
    "\n",
    "# Add traces to the separate counts panels\n",
    "for s, spec in enumerate(species):\n",
    "    fig.add_trace(\n",
    "        go.Scatter(\n",
    "            y=output_algorithm[:, s],\n",
    "            x=times,\n",
    "            mode='lines',\n",
    "            name=trace_name[s],\n",
    "            line_color=colours[s]\n",
    "        ),\n",
    "        row= int(np.floor(s / 2)) + 1,\n",
    "        col= s % 2 + 1\n",
    "    )\n",
    "\n",
    "# Add traces to last total panel\n",
    "for s, spec in enumerate(species):\n",
    "    fig.add_trace(\n",
    "        go.Scatter(\n",
    "            y=output_algorithm[:, s],\n",
    "            x=times,\n",
    "            mode='lines',\n",
    "            name=trace_name[s],\n",
    "            line_color=colours[s],\n",
    "            showlegend=False\n",
    "        ),\n",
    "        row=int(np.ceil(len(panels)/2)),\n",
    "        col=2\n",
    "    )\n",
    "\n",
    "for p, _ in enumerate(panels):\n",
    "    fig.add_hline(\n",
    "        y=sum(initial_population),\n",
    "        line_dash='dot',\n",
    "        annotation_text='Total population', fillcolor='black',\n",
    "        annotation_position='top right',\n",
    "        row= int(np.floor(p / 2)) + 1,\n",
    "        col= p % 2 + 1)\n",
    "    \n",
    "    fig.update_yaxes(ticks='outside', tickcolor='black', ticklen=7.5, title_text='Percentage (%) of population', row=int(np.floor(p / 2)) + 1, col=p % 2 + 1)\n",
    "    fig.update_xaxes(ticks='outside', tickcolor='black', ticklen=7.5, title_text='Number of Generations', row=int(np.floor(p / 2)) + 1, col=p % 2 + 1)\n",
    "\n",
    "\n",
    "# Add axis labels\n",
    "fig.update_layout(\n",
    "    title='Counts of different cell types over time: IC = {}, α = {}, s = {}, r = {}, μA = {}, μB = {}'.format(parameters[0:3], parameters[3], parameters[4], parameters[5], parameters[6], parameters[7]),\n",
    "    width=1100, \n",
    "    height=600,\n",
    "    plot_bgcolor='white',\n",
    "    xaxis=dict(\n",
    "        linecolor='black'\n",
    "        ),\n",
    "    yaxis=dict(\n",
    "        linecolor='black',\n",
    "        range = [0, sum(initial_population)+10],\n",
    "        tickvals=np.arange(0, sum(initial_population)+1, 25).tolist(),\n",
    "        ticktext=['0', '25', '50', '75', '100']),\n",
    "    xaxis2=dict(\n",
    "        linecolor='black'\n",
    "        ),\n",
    "    yaxis2=dict(\n",
    "        linecolor='black',\n",
    "        range = [0, sum(initial_population)+10],\n",
    "        tickvals=np.arange(0, sum(initial_population)+1, 25).tolist(),\n",
    "        ticktext=['0', '25', '50', '75', '100']),\n",
    "    xaxis3=dict(\n",
    "        linecolor='black'\n",
    "        ),\n",
    "    yaxis3=dict(\n",
    "        linecolor='black',\n",
    "        range = [0, sum(initial_population)+10],\n",
    "        tickvals=np.arange(0, sum(initial_population)+1, 25).tolist(),\n",
    "        ticktext=['0', '25', '50', '75', '100']),\n",
    "    xaxis4=dict(\n",
    "        linecolor='black'\n",
    "        ),\n",
    "    yaxis4=dict(\n",
    "        linecolor='black',\n",
    "        range = [0, sum(initial_population)+10],\n",
    "        tickvals=np.arange(0, sum(initial_population)+1, 25).tolist(),\n",
    "        ticktext=['0', '25', '50', '75', '100']),\n",
    "    #legend=dict(\n",
    "    #    orientation=\"h\",\n",
    "    #    yanchor=\"bottom\",\n",
    "    #    y=1.02,\n",
    "    #    xanchor=\"right\",\n",
    "    #    x=1\n",
    "    #)\n",
    "    )\n",
    "\n",
    "fig.write_image('images/Stem-counts-wf.pdf')\n",
    "fig.show()"
   ],
   "outputs": [
    {
     "output_type": "display_data",
     "data": {
      "application/vnd.plotly.v1+json": {
       "config": {
        "plotlyServerURL": "https://plot.ly"
       },
       "data": [
        {
         "line": {
          "color": "blue"
         },
         "mode": "lines",
         "name": "WT cell counts",
         "type": "scatter",
         "x": [
          1,
          2,
          3,
          4,
          5,
          6,
          7,
          8,
          9,
          10,
          11,
          12,
          13,
          14,
          15,
          16,
          17,
          18,
          19,
          20,
          21,
          22,
          23,
          24,
          25,
          26,
          27,
          28,
          29,
          30,
          31,
          32,
          33,
          34,
          35,
          36,
          37,
          38,
          39,
          40,
          41,
          42,
          43,
          44,
          45,
          46,
          47,
          48,
          49,
          50,
          51,
          52,
          53,
          54,
          55,
          56,
          57,
          58,
          59,
          60,
          61,
          62,
          63,
          64,
          65,
          66,
          67,
          68,
          69,
          70,
          71,
          72,
          73,
          74,
          75,
          76,
          77,
          78,
          79,
          80,
          81,
          82,
          83,
          84,
          85,
          86,
          87,
          88,
          89,
          90,
          91,
          92,
          93,
          94,
          95,
          96,
          97,
          98,
          99,
          100
         ],
         "xaxis": "x",
         "y": [
          99,
          96,
          97,
          98,
          100,
          99,
          99,
          99,
          98,
          98,
          97,
          95,
          93,
          95,
          92,
          92,
          90,
          86,
          89,
          91,
          90,
          85,
          76,
          72,
          73,
          65,
          65,
          62,
          54,
          42,
          34,
          30,
          19,
          18,
          14,
          10,
          9,
          12,
          10,
          7,
          5,
          7,
          9,
          4,
          3,
          3,
          3,
          4,
          7,
          3,
          4,
          1,
          1,
          0,
          0,
          0,
          0,
          0,
          0,
          0,
          0,
          0,
          0,
          0,
          0,
          0,
          0,
          0,
          0,
          0,
          0,
          0,
          0,
          0,
          0,
          0,
          0,
          0,
          0,
          0,
          0,
          0,
          0,
          0,
          0,
          0,
          0,
          0,
          0,
          0,
          0,
          0,
          0,
          0,
          0,
          0,
          0,
          0,
          0,
          0
         ],
         "yaxis": "y"
        },
        {
         "line": {
          "color": "red"
         },
         "mode": "lines",
         "name": "A cell counts",
         "type": "scatter",
         "x": [
          1,
          2,
          3,
          4,
          5,
          6,
          7,
          8,
          9,
          10,
          11,
          12,
          13,
          14,
          15,
          16,
          17,
          18,
          19,
          20,
          21,
          22,
          23,
          24,
          25,
          26,
          27,
          28,
          29,
          30,
          31,
          32,
          33,
          34,
          35,
          36,
          37,
          38,
          39,
          40,
          41,
          42,
          43,
          44,
          45,
          46,
          47,
          48,
          49,
          50,
          51,
          52,
          53,
          54,
          55,
          56,
          57,
          58,
          59,
          60,
          61,
          62,
          63,
          64,
          65,
          66,
          67,
          68,
          69,
          70,
          71,
          72,
          73,
          74,
          75,
          76,
          77,
          78,
          79,
          80,
          81,
          82,
          83,
          84,
          85,
          86,
          87,
          88,
          89,
          90,
          91,
          92,
          93,
          94,
          95,
          96,
          97,
          98,
          99,
          100
         ],
         "xaxis": "x2",
         "y": [
          1,
          4,
          3,
          2,
          0,
          1,
          0,
          0,
          0,
          1,
          1,
          1,
          0,
          0,
          2,
          2,
          3,
          4,
          4,
          2,
          4,
          9,
          16,
          23,
          24,
          31,
          30,
          35,
          44,
          55,
          60,
          63,
          73,
          78,
          86,
          90,
          91,
          88,
          90,
          93,
          95,
          93,
          91,
          96,
          97,
          97,
          97,
          96,
          93,
          97,
          96,
          98,
          99,
          100,
          100,
          100,
          100,
          100,
          100,
          100,
          100,
          100,
          100,
          100,
          100,
          100,
          100,
          100,
          100,
          100,
          100,
          100,
          100,
          100,
          100,
          100,
          100,
          100,
          100,
          100,
          100,
          100,
          100,
          100,
          100,
          100,
          100,
          100,
          100,
          100,
          100,
          100,
          100,
          100,
          100,
          100,
          100,
          100,
          100,
          100
         ],
         "yaxis": "y2"
        },
        {
         "line": {
          "color": "green"
         },
         "mode": "lines",
         "name": "B cell counts",
         "type": "scatter",
         "x": [
          1,
          2,
          3,
          4,
          5,
          6,
          7,
          8,
          9,
          10,
          11,
          12,
          13,
          14,
          15,
          16,
          17,
          18,
          19,
          20,
          21,
          22,
          23,
          24,
          25,
          26,
          27,
          28,
          29,
          30,
          31,
          32,
          33,
          34,
          35,
          36,
          37,
          38,
          39,
          40,
          41,
          42,
          43,
          44,
          45,
          46,
          47,
          48,
          49,
          50,
          51,
          52,
          53,
          54,
          55,
          56,
          57,
          58,
          59,
          60,
          61,
          62,
          63,
          64,
          65,
          66,
          67,
          68,
          69,
          70,
          71,
          72,
          73,
          74,
          75,
          76,
          77,
          78,
          79,
          80,
          81,
          82,
          83,
          84,
          85,
          86,
          87,
          88,
          89,
          90,
          91,
          92,
          93,
          94,
          95,
          96,
          97,
          98,
          99,
          100
         ],
         "xaxis": "x3",
         "y": [
          0,
          0,
          0,
          0,
          0,
          0,
          1,
          1,
          2,
          1,
          2,
          4,
          7,
          5,
          6,
          6,
          7,
          10,
          7,
          7,
          6,
          6,
          8,
          5,
          3,
          4,
          5,
          3,
          2,
          3,
          6,
          7,
          8,
          4,
          0,
          0,
          0,
          0,
          0,
          0,
          0,
          0,
          0,
          0,
          0,
          0,
          0,
          0,
          0,
          0,
          0,
          1,
          0,
          0,
          0,
          0,
          0,
          0,
          0,
          0,
          0,
          0,
          0,
          0,
          0,
          0,
          0,
          0,
          0,
          0,
          0,
          0,
          0,
          0,
          0,
          0,
          0,
          0,
          0,
          0,
          0,
          0,
          0,
          0,
          0,
          0,
          0,
          0,
          0,
          0,
          0,
          0,
          0,
          0,
          0,
          0,
          0,
          0,
          0,
          0
         ],
         "yaxis": "y3"
        },
        {
         "line": {
          "color": "blue"
         },
         "mode": "lines",
         "name": "WT cell counts",
         "showlegend": false,
         "type": "scatter",
         "x": [
          1,
          2,
          3,
          4,
          5,
          6,
          7,
          8,
          9,
          10,
          11,
          12,
          13,
          14,
          15,
          16,
          17,
          18,
          19,
          20,
          21,
          22,
          23,
          24,
          25,
          26,
          27,
          28,
          29,
          30,
          31,
          32,
          33,
          34,
          35,
          36,
          37,
          38,
          39,
          40,
          41,
          42,
          43,
          44,
          45,
          46,
          47,
          48,
          49,
          50,
          51,
          52,
          53,
          54,
          55,
          56,
          57,
          58,
          59,
          60,
          61,
          62,
          63,
          64,
          65,
          66,
          67,
          68,
          69,
          70,
          71,
          72,
          73,
          74,
          75,
          76,
          77,
          78,
          79,
          80,
          81,
          82,
          83,
          84,
          85,
          86,
          87,
          88,
          89,
          90,
          91,
          92,
          93,
          94,
          95,
          96,
          97,
          98,
          99,
          100
         ],
         "xaxis": "x4",
         "y": [
          99,
          96,
          97,
          98,
          100,
          99,
          99,
          99,
          98,
          98,
          97,
          95,
          93,
          95,
          92,
          92,
          90,
          86,
          89,
          91,
          90,
          85,
          76,
          72,
          73,
          65,
          65,
          62,
          54,
          42,
          34,
          30,
          19,
          18,
          14,
          10,
          9,
          12,
          10,
          7,
          5,
          7,
          9,
          4,
          3,
          3,
          3,
          4,
          7,
          3,
          4,
          1,
          1,
          0,
          0,
          0,
          0,
          0,
          0,
          0,
          0,
          0,
          0,
          0,
          0,
          0,
          0,
          0,
          0,
          0,
          0,
          0,
          0,
          0,
          0,
          0,
          0,
          0,
          0,
          0,
          0,
          0,
          0,
          0,
          0,
          0,
          0,
          0,
          0,
          0,
          0,
          0,
          0,
          0,
          0,
          0,
          0,
          0,
          0,
          0
         ],
         "yaxis": "y4"
        },
        {
         "line": {
          "color": "red"
         },
         "mode": "lines",
         "name": "A cell counts",
         "showlegend": false,
         "type": "scatter",
         "x": [
          1,
          2,
          3,
          4,
          5,
          6,
          7,
          8,
          9,
          10,
          11,
          12,
          13,
          14,
          15,
          16,
          17,
          18,
          19,
          20,
          21,
          22,
          23,
          24,
          25,
          26,
          27,
          28,
          29,
          30,
          31,
          32,
          33,
          34,
          35,
          36,
          37,
          38,
          39,
          40,
          41,
          42,
          43,
          44,
          45,
          46,
          47,
          48,
          49,
          50,
          51,
          52,
          53,
          54,
          55,
          56,
          57,
          58,
          59,
          60,
          61,
          62,
          63,
          64,
          65,
          66,
          67,
          68,
          69,
          70,
          71,
          72,
          73,
          74,
          75,
          76,
          77,
          78,
          79,
          80,
          81,
          82,
          83,
          84,
          85,
          86,
          87,
          88,
          89,
          90,
          91,
          92,
          93,
          94,
          95,
          96,
          97,
          98,
          99,
          100
         ],
         "xaxis": "x4",
         "y": [
          1,
          4,
          3,
          2,
          0,
          1,
          0,
          0,
          0,
          1,
          1,
          1,
          0,
          0,
          2,
          2,
          3,
          4,
          4,
          2,
          4,
          9,
          16,
          23,
          24,
          31,
          30,
          35,
          44,
          55,
          60,
          63,
          73,
          78,
          86,
          90,
          91,
          88,
          90,
          93,
          95,
          93,
          91,
          96,
          97,
          97,
          97,
          96,
          93,
          97,
          96,
          98,
          99,
          100,
          100,
          100,
          100,
          100,
          100,
          100,
          100,
          100,
          100,
          100,
          100,
          100,
          100,
          100,
          100,
          100,
          100,
          100,
          100,
          100,
          100,
          100,
          100,
          100,
          100,
          100,
          100,
          100,
          100,
          100,
          100,
          100,
          100,
          100,
          100,
          100,
          100,
          100,
          100,
          100,
          100,
          100,
          100,
          100,
          100,
          100
         ],
         "yaxis": "y4"
        },
        {
         "line": {
          "color": "green"
         },
         "mode": "lines",
         "name": "B cell counts",
         "showlegend": false,
         "type": "scatter",
         "x": [
          1,
          2,
          3,
          4,
          5,
          6,
          7,
          8,
          9,
          10,
          11,
          12,
          13,
          14,
          15,
          16,
          17,
          18,
          19,
          20,
          21,
          22,
          23,
          24,
          25,
          26,
          27,
          28,
          29,
          30,
          31,
          32,
          33,
          34,
          35,
          36,
          37,
          38,
          39,
          40,
          41,
          42,
          43,
          44,
          45,
          46,
          47,
          48,
          49,
          50,
          51,
          52,
          53,
          54,
          55,
          56,
          57,
          58,
          59,
          60,
          61,
          62,
          63,
          64,
          65,
          66,
          67,
          68,
          69,
          70,
          71,
          72,
          73,
          74,
          75,
          76,
          77,
          78,
          79,
          80,
          81,
          82,
          83,
          84,
          85,
          86,
          87,
          88,
          89,
          90,
          91,
          92,
          93,
          94,
          95,
          96,
          97,
          98,
          99,
          100
         ],
         "xaxis": "x4",
         "y": [
          0,
          0,
          0,
          0,
          0,
          0,
          1,
          1,
          2,
          1,
          2,
          4,
          7,
          5,
          6,
          6,
          7,
          10,
          7,
          7,
          6,
          6,
          8,
          5,
          3,
          4,
          5,
          3,
          2,
          3,
          6,
          7,
          8,
          4,
          0,
          0,
          0,
          0,
          0,
          0,
          0,
          0,
          0,
          0,
          0,
          0,
          0,
          0,
          0,
          0,
          0,
          1,
          0,
          0,
          0,
          0,
          0,
          0,
          0,
          0,
          0,
          0,
          0,
          0,
          0,
          0,
          0,
          0,
          0,
          0,
          0,
          0,
          0,
          0,
          0,
          0,
          0,
          0,
          0,
          0,
          0,
          0,
          0,
          0,
          0,
          0,
          0,
          0,
          0,
          0,
          0,
          0,
          0,
          0,
          0,
          0,
          0,
          0,
          0,
          0
         ],
         "yaxis": "y4"
        }
       ],
       "layout": {
        "annotations": [
         {
          "font": {
           "size": 16
          },
          "showarrow": false,
          "text": "WT only",
          "x": 0.225,
          "xanchor": "center",
          "xref": "paper",
          "y": 1,
          "yanchor": "bottom",
          "yref": "paper"
         },
         {
          "font": {
           "size": 16
          },
          "showarrow": false,
          "text": "A only",
          "x": 0.775,
          "xanchor": "center",
          "xref": "paper",
          "y": 1,
          "yanchor": "bottom",
          "yref": "paper"
         },
         {
          "font": {
           "size": 16
          },
          "showarrow": false,
          "text": "B only",
          "x": 0.225,
          "xanchor": "center",
          "xref": "paper",
          "y": 0.375,
          "yanchor": "bottom",
          "yref": "paper"
         },
         {
          "font": {
           "size": 16
          },
          "showarrow": false,
          "text": "Combined",
          "x": 0.775,
          "xanchor": "center",
          "xref": "paper",
          "y": 0.375,
          "yanchor": "bottom",
          "yref": "paper"
         },
         {
          "showarrow": false,
          "text": "Total population",
          "x": 1,
          "xanchor": "right",
          "xref": "x domain",
          "y": 100.615,
          "yanchor": "bottom",
          "yref": "y"
         },
         {
          "showarrow": false,
          "text": "Total population",
          "x": 1,
          "xanchor": "right",
          "xref": "x2 domain",
          "y": 100.615,
          "yanchor": "bottom",
          "yref": "y2"
         },
         {
          "showarrow": false,
          "text": "Total population",
          "x": 1,
          "xanchor": "right",
          "xref": "x3 domain",
          "y": 100.615,
          "yanchor": "bottom",
          "yref": "y3"
         },
         {
          "showarrow": false,
          "text": "Total population",
          "x": 1,
          "xanchor": "right",
          "xref": "x4 domain",
          "y": 100.615,
          "yanchor": "bottom",
          "yref": "y4"
         }
        ],
        "height": 600,
        "plot_bgcolor": "white",
        "shapes": [
         {
          "fillcolor": "black",
          "line": {
           "dash": "dot"
          },
          "type": "line",
          "x0": 0,
          "x1": 1,
          "xref": "x domain",
          "y0": 100.615,
          "y1": 100.615,
          "yref": "y"
         },
         {
          "fillcolor": "black",
          "line": {
           "dash": "dot"
          },
          "type": "line",
          "x0": 0,
          "x1": 1,
          "xref": "x2 domain",
          "y0": 100.615,
          "y1": 100.615,
          "yref": "y2"
         },
         {
          "fillcolor": "black",
          "line": {
           "dash": "dot"
          },
          "type": "line",
          "x0": 0,
          "x1": 1,
          "xref": "x3 domain",
          "y0": 100.615,
          "y1": 100.615,
          "yref": "y3"
         },
         {
          "fillcolor": "black",
          "line": {
           "dash": "dot"
          },
          "type": "line",
          "x0": 0,
          "x1": 1,
          "xref": "x4 domain",
          "y0": 100.615,
          "y1": 100.615,
          "yref": "y4"
         }
        ],
        "template": {
         "data": {
          "bar": [
           {
            "error_x": {
             "color": "#2a3f5f"
            },
            "error_y": {
             "color": "#2a3f5f"
            },
            "marker": {
             "line": {
              "color": "#E5ECF6",
              "width": 0.5
             }
            },
            "type": "bar"
           }
          ],
          "barpolar": [
           {
            "marker": {
             "line": {
              "color": "#E5ECF6",
              "width": 0.5
             }
            },
            "type": "barpolar"
           }
          ],
          "carpet": [
           {
            "aaxis": {
             "endlinecolor": "#2a3f5f",
             "gridcolor": "white",
             "linecolor": "white",
             "minorgridcolor": "white",
             "startlinecolor": "#2a3f5f"
            },
            "baxis": {
             "endlinecolor": "#2a3f5f",
             "gridcolor": "white",
             "linecolor": "white",
             "minorgridcolor": "white",
             "startlinecolor": "#2a3f5f"
            },
            "type": "carpet"
           }
          ],
          "choropleth": [
           {
            "colorbar": {
             "outlinewidth": 0,
             "ticks": ""
            },
            "type": "choropleth"
           }
          ],
          "contour": [
           {
            "colorbar": {
             "outlinewidth": 0,
             "ticks": ""
            },
            "colorscale": [
             [
              0,
              "#0d0887"
             ],
             [
              0.1111111111111111,
              "#46039f"
             ],
             [
              0.2222222222222222,
              "#7201a8"
             ],
             [
              0.3333333333333333,
              "#9c179e"
             ],
             [
              0.4444444444444444,
              "#bd3786"
             ],
             [
              0.5555555555555556,
              "#d8576b"
             ],
             [
              0.6666666666666666,
              "#ed7953"
             ],
             [
              0.7777777777777778,
              "#fb9f3a"
             ],
             [
              0.8888888888888888,
              "#fdca26"
             ],
             [
              1,
              "#f0f921"
             ]
            ],
            "type": "contour"
           }
          ],
          "contourcarpet": [
           {
            "colorbar": {
             "outlinewidth": 0,
             "ticks": ""
            },
            "type": "contourcarpet"
           }
          ],
          "heatmap": [
           {
            "colorbar": {
             "outlinewidth": 0,
             "ticks": ""
            },
            "colorscale": [
             [
              0,
              "#0d0887"
             ],
             [
              0.1111111111111111,
              "#46039f"
             ],
             [
              0.2222222222222222,
              "#7201a8"
             ],
             [
              0.3333333333333333,
              "#9c179e"
             ],
             [
              0.4444444444444444,
              "#bd3786"
             ],
             [
              0.5555555555555556,
              "#d8576b"
             ],
             [
              0.6666666666666666,
              "#ed7953"
             ],
             [
              0.7777777777777778,
              "#fb9f3a"
             ],
             [
              0.8888888888888888,
              "#fdca26"
             ],
             [
              1,
              "#f0f921"
             ]
            ],
            "type": "heatmap"
           }
          ],
          "heatmapgl": [
           {
            "colorbar": {
             "outlinewidth": 0,
             "ticks": ""
            },
            "colorscale": [
             [
              0,
              "#0d0887"
             ],
             [
              0.1111111111111111,
              "#46039f"
             ],
             [
              0.2222222222222222,
              "#7201a8"
             ],
             [
              0.3333333333333333,
              "#9c179e"
             ],
             [
              0.4444444444444444,
              "#bd3786"
             ],
             [
              0.5555555555555556,
              "#d8576b"
             ],
             [
              0.6666666666666666,
              "#ed7953"
             ],
             [
              0.7777777777777778,
              "#fb9f3a"
             ],
             [
              0.8888888888888888,
              "#fdca26"
             ],
             [
              1,
              "#f0f921"
             ]
            ],
            "type": "heatmapgl"
           }
          ],
          "histogram": [
           {
            "marker": {
             "colorbar": {
              "outlinewidth": 0,
              "ticks": ""
             }
            },
            "type": "histogram"
           }
          ],
          "histogram2d": [
           {
            "colorbar": {
             "outlinewidth": 0,
             "ticks": ""
            },
            "colorscale": [
             [
              0,
              "#0d0887"
             ],
             [
              0.1111111111111111,
              "#46039f"
             ],
             [
              0.2222222222222222,
              "#7201a8"
             ],
             [
              0.3333333333333333,
              "#9c179e"
             ],
             [
              0.4444444444444444,
              "#bd3786"
             ],
             [
              0.5555555555555556,
              "#d8576b"
             ],
             [
              0.6666666666666666,
              "#ed7953"
             ],
             [
              0.7777777777777778,
              "#fb9f3a"
             ],
             [
              0.8888888888888888,
              "#fdca26"
             ],
             [
              1,
              "#f0f921"
             ]
            ],
            "type": "histogram2d"
           }
          ],
          "histogram2dcontour": [
           {
            "colorbar": {
             "outlinewidth": 0,
             "ticks": ""
            },
            "colorscale": [
             [
              0,
              "#0d0887"
             ],
             [
              0.1111111111111111,
              "#46039f"
             ],
             [
              0.2222222222222222,
              "#7201a8"
             ],
             [
              0.3333333333333333,
              "#9c179e"
             ],
             [
              0.4444444444444444,
              "#bd3786"
             ],
             [
              0.5555555555555556,
              "#d8576b"
             ],
             [
              0.6666666666666666,
              "#ed7953"
             ],
             [
              0.7777777777777778,
              "#fb9f3a"
             ],
             [
              0.8888888888888888,
              "#fdca26"
             ],
             [
              1,
              "#f0f921"
             ]
            ],
            "type": "histogram2dcontour"
           }
          ],
          "mesh3d": [
           {
            "colorbar": {
             "outlinewidth": 0,
             "ticks": ""
            },
            "type": "mesh3d"
           }
          ],
          "parcoords": [
           {
            "line": {
             "colorbar": {
              "outlinewidth": 0,
              "ticks": ""
             }
            },
            "type": "parcoords"
           }
          ],
          "pie": [
           {
            "automargin": true,
            "type": "pie"
           }
          ],
          "scatter": [
           {
            "marker": {
             "colorbar": {
              "outlinewidth": 0,
              "ticks": ""
             }
            },
            "type": "scatter"
           }
          ],
          "scatter3d": [
           {
            "line": {
             "colorbar": {
              "outlinewidth": 0,
              "ticks": ""
             }
            },
            "marker": {
             "colorbar": {
              "outlinewidth": 0,
              "ticks": ""
             }
            },
            "type": "scatter3d"
           }
          ],
          "scattercarpet": [
           {
            "marker": {
             "colorbar": {
              "outlinewidth": 0,
              "ticks": ""
             }
            },
            "type": "scattercarpet"
           }
          ],
          "scattergeo": [
           {
            "marker": {
             "colorbar": {
              "outlinewidth": 0,
              "ticks": ""
             }
            },
            "type": "scattergeo"
           }
          ],
          "scattergl": [
           {
            "marker": {
             "colorbar": {
              "outlinewidth": 0,
              "ticks": ""
             }
            },
            "type": "scattergl"
           }
          ],
          "scattermapbox": [
           {
            "marker": {
             "colorbar": {
              "outlinewidth": 0,
              "ticks": ""
             }
            },
            "type": "scattermapbox"
           }
          ],
          "scatterpolar": [
           {
            "marker": {
             "colorbar": {
              "outlinewidth": 0,
              "ticks": ""
             }
            },
            "type": "scatterpolar"
           }
          ],
          "scatterpolargl": [
           {
            "marker": {
             "colorbar": {
              "outlinewidth": 0,
              "ticks": ""
             }
            },
            "type": "scatterpolargl"
           }
          ],
          "scatterternary": [
           {
            "marker": {
             "colorbar": {
              "outlinewidth": 0,
              "ticks": ""
             }
            },
            "type": "scatterternary"
           }
          ],
          "surface": [
           {
            "colorbar": {
             "outlinewidth": 0,
             "ticks": ""
            },
            "colorscale": [
             [
              0,
              "#0d0887"
             ],
             [
              0.1111111111111111,
              "#46039f"
             ],
             [
              0.2222222222222222,
              "#7201a8"
             ],
             [
              0.3333333333333333,
              "#9c179e"
             ],
             [
              0.4444444444444444,
              "#bd3786"
             ],
             [
              0.5555555555555556,
              "#d8576b"
             ],
             [
              0.6666666666666666,
              "#ed7953"
             ],
             [
              0.7777777777777778,
              "#fb9f3a"
             ],
             [
              0.8888888888888888,
              "#fdca26"
             ],
             [
              1,
              "#f0f921"
             ]
            ],
            "type": "surface"
           }
          ],
          "table": [
           {
            "cells": {
             "fill": {
              "color": "#EBF0F8"
             },
             "line": {
              "color": "white"
             }
            },
            "header": {
             "fill": {
              "color": "#C8D4E3"
             },
             "line": {
              "color": "white"
             }
            },
            "type": "table"
           }
          ]
         },
         "layout": {
          "annotationdefaults": {
           "arrowcolor": "#2a3f5f",
           "arrowhead": 0,
           "arrowwidth": 1
          },
          "autotypenumbers": "strict",
          "coloraxis": {
           "colorbar": {
            "outlinewidth": 0,
            "ticks": ""
           }
          },
          "colorscale": {
           "diverging": [
            [
             0,
             "#8e0152"
            ],
            [
             0.1,
             "#c51b7d"
            ],
            [
             0.2,
             "#de77ae"
            ],
            [
             0.3,
             "#f1b6da"
            ],
            [
             0.4,
             "#fde0ef"
            ],
            [
             0.5,
             "#f7f7f7"
            ],
            [
             0.6,
             "#e6f5d0"
            ],
            [
             0.7,
             "#b8e186"
            ],
            [
             0.8,
             "#7fbc41"
            ],
            [
             0.9,
             "#4d9221"
            ],
            [
             1,
             "#276419"
            ]
           ],
           "sequential": [
            [
             0,
             "#0d0887"
            ],
            [
             0.1111111111111111,
             "#46039f"
            ],
            [
             0.2222222222222222,
             "#7201a8"
            ],
            [
             0.3333333333333333,
             "#9c179e"
            ],
            [
             0.4444444444444444,
             "#bd3786"
            ],
            [
             0.5555555555555556,
             "#d8576b"
            ],
            [
             0.6666666666666666,
             "#ed7953"
            ],
            [
             0.7777777777777778,
             "#fb9f3a"
            ],
            [
             0.8888888888888888,
             "#fdca26"
            ],
            [
             1,
             "#f0f921"
            ]
           ],
           "sequentialminus": [
            [
             0,
             "#0d0887"
            ],
            [
             0.1111111111111111,
             "#46039f"
            ],
            [
             0.2222222222222222,
             "#7201a8"
            ],
            [
             0.3333333333333333,
             "#9c179e"
            ],
            [
             0.4444444444444444,
             "#bd3786"
            ],
            [
             0.5555555555555556,
             "#d8576b"
            ],
            [
             0.6666666666666666,
             "#ed7953"
            ],
            [
             0.7777777777777778,
             "#fb9f3a"
            ],
            [
             0.8888888888888888,
             "#fdca26"
            ],
            [
             1,
             "#f0f921"
            ]
           ]
          },
          "colorway": [
           "#636efa",
           "#EF553B",
           "#00cc96",
           "#ab63fa",
           "#FFA15A",
           "#19d3f3",
           "#FF6692",
           "#B6E880",
           "#FF97FF",
           "#FECB52"
          ],
          "font": {
           "color": "#2a3f5f"
          },
          "geo": {
           "bgcolor": "white",
           "lakecolor": "white",
           "landcolor": "#E5ECF6",
           "showlakes": true,
           "showland": true,
           "subunitcolor": "white"
          },
          "hoverlabel": {
           "align": "left"
          },
          "hovermode": "closest",
          "mapbox": {
           "style": "light"
          },
          "paper_bgcolor": "white",
          "plot_bgcolor": "#E5ECF6",
          "polar": {
           "angularaxis": {
            "gridcolor": "white",
            "linecolor": "white",
            "ticks": ""
           },
           "bgcolor": "#E5ECF6",
           "radialaxis": {
            "gridcolor": "white",
            "linecolor": "white",
            "ticks": ""
           }
          },
          "scene": {
           "xaxis": {
            "backgroundcolor": "#E5ECF6",
            "gridcolor": "white",
            "gridwidth": 2,
            "linecolor": "white",
            "showbackground": true,
            "ticks": "",
            "zerolinecolor": "white"
           },
           "yaxis": {
            "backgroundcolor": "#E5ECF6",
            "gridcolor": "white",
            "gridwidth": 2,
            "linecolor": "white",
            "showbackground": true,
            "ticks": "",
            "zerolinecolor": "white"
           },
           "zaxis": {
            "backgroundcolor": "#E5ECF6",
            "gridcolor": "white",
            "gridwidth": 2,
            "linecolor": "white",
            "showbackground": true,
            "ticks": "",
            "zerolinecolor": "white"
           }
          },
          "shapedefaults": {
           "line": {
            "color": "#2a3f5f"
           }
          },
          "ternary": {
           "aaxis": {
            "gridcolor": "white",
            "linecolor": "white",
            "ticks": ""
           },
           "baxis": {
            "gridcolor": "white",
            "linecolor": "white",
            "ticks": ""
           },
           "bgcolor": "#E5ECF6",
           "caxis": {
            "gridcolor": "white",
            "linecolor": "white",
            "ticks": ""
           }
          },
          "title": {
           "x": 0.05
          },
          "xaxis": {
           "automargin": true,
           "gridcolor": "white",
           "linecolor": "white",
           "ticks": "",
           "title": {
            "standoff": 15
           },
           "zerolinecolor": "white",
           "zerolinewidth": 2
          },
          "yaxis": {
           "automargin": true,
           "gridcolor": "white",
           "linecolor": "white",
           "ticks": "",
           "title": {
            "standoff": 15
           },
           "zerolinecolor": "white",
           "zerolinewidth": 2
          }
         }
        },
        "title": {
         "text": "Counts of different cell types over time: IC = [99, 1, 0], α = 0.5, s = 0.1, r = 0.01, μA = 0.002, μB = 0.003"
        },
        "width": 1000,
        "xaxis": {
         "anchor": "y",
         "domain": [
          0,
          0.45
         ],
         "linecolor": "black"
        },
        "xaxis2": {
         "anchor": "y2",
         "domain": [
          0.55,
          1
         ],
         "linecolor": "black"
        },
        "xaxis3": {
         "anchor": "y3",
         "domain": [
          0,
          0.45
         ],
         "linecolor": "black"
        },
        "xaxis4": {
         "anchor": "y4",
         "domain": [
          0.55,
          1
         ],
         "linecolor": "black"
        },
        "yaxis": {
         "anchor": "x",
         "domain": [
          0.625,
          1
         ],
         "linecolor": "black",
         "range": [
          0,
          110.615
         ],
         "ticktext": [
          "0",
          "25",
          "50",
          "75",
          "100"
         ],
         "tickvals": [
          0,
          25,
          50,
          75,
          100
         ]
        },
        "yaxis2": {
         "anchor": "x2",
         "domain": [
          0.625,
          1
         ],
         "linecolor": "black",
         "range": [
          0,
          110.615
         ],
         "ticktext": [
          "0",
          "25",
          "50",
          "75",
          "100"
         ],
         "tickvals": [
          0,
          25,
          50,
          75,
          100
         ]
        },
        "yaxis3": {
         "anchor": "x3",
         "domain": [
          0,
          0.375
         ],
         "linecolor": "black",
         "range": [
          0,
          110.615
         ],
         "ticktext": [
          "0",
          "25",
          "50",
          "75",
          "100"
         ],
         "tickvals": [
          0,
          25,
          50,
          75,
          100
         ]
        },
        "yaxis4": {
         "anchor": "x4",
         "domain": [
          0,
          0.375
         ],
         "linecolor": "black",
         "range": [
          0,
          110.615
         ],
         "ticktext": [
          "0",
          "25",
          "50",
          "75",
          "100"
         ],
         "tickvals": [
          0,
          25,
          50,
          75,
          100
         ]
        }
       }
      }
     },
     "metadata": {}
    }
   ],
   "metadata": {}
  },
  {
   "cell_type": "markdown",
   "source": [
    "## Compute mean time to illness and mean environment state at debut"
   ],
   "metadata": {}
  },
  {
   "cell_type": "code",
   "execution_count": 6,
   "source": [
    "# Select stopping criterion\n",
    "criterion = [[0, None, None], ['more', None, None]]\n",
    "\n",
    "# Select number of simulations\n",
    "num_simulations =1000\n",
    "\n",
    "computation_time = np.empty(num_simulations, dtype=np.int)\n",
    "final_state = np.empty((num_simulations, 3), dtype=np.int)\n",
    "\n",
    "for s in range(num_simulations):\n",
    "    computation_time[s], final_state[s, :] = algorithm.simulate_criterion(parameters, criterion)\n",
    "\n",
    "mean_computation_time = np.mean(computation_time)\n",
    "mean_final_state = np.mean(final_state, axis=0)\n",
    "\n",
    "print('Average time to illness: ', mean_computation_time)\n",
    "print('Average system state right before illness: ', mean_final_state)"
   ],
   "outputs": [
    {
     "output_type": "stream",
     "name": "stdout",
     "text": [
      "Average time to illness:  53.327\n",
      "Average system state right before illness:  [ 0.    96.741  3.259]\n"
     ]
    }
   ],
   "metadata": {}
  },
  {
   "cell_type": "code",
   "execution_count": 7,
   "source": [
    "# Plot transition probabilities\n",
    "sep_algo = ci.StemWF()\n",
    "\n",
    "sep_algo.N = int(np.sum(np.asarray(initial_population)))\n",
    "\n",
    "sep_algo.alpha_A = alpha + s\n",
    "sep_algo.alpha_B = alpha + r\n",
    "sep_algo.alpha_WT = alpha\n",
    "\n",
    "sep_algo.mu_A = mu_A\n",
    "sep_algo.mu_B = mu_B\n",
    "\n",
    "# Assuming no Bs in the population\n",
    "trans_prob = np.empty((sep_algo.N+1, 6))\n",
    "\n",
    "for i in range(sep_algo.N+1):\n",
    "    trans_prob[i, 0] = sep_algo._prob_A_to_B(i, sep_algo.N - i, 0)\n",
    "    trans_prob[i, 1] = sep_algo._prob_A_to_WT(i, sep_algo.N - i, 0)\n",
    "    trans_prob[i, 2] = sep_algo._prob_B_to_A(i, sep_algo.N - i, 0)\n",
    "    trans_prob[i, 3] = sep_algo._prob_B_to_WT(i, sep_algo.N - i, 0)\n",
    "    trans_prob[i, 4] = sep_algo._prob_WT_to_A(i, sep_algo.N - i, 0)\n",
    "    trans_prob[i, 5] = sep_algo._prob_WT_to_B(i, sep_algo.N - i, 0)"
   ],
   "outputs": [],
   "metadata": {}
  },
  {
   "cell_type": "code",
   "execution_count": 8,
   "source": [
    "# Trace names - represent the transition probabilities used for the simulation\n",
    "trace_name = ['A->B', 'A->WT', 'B->A', 'B->WT', 'WT->A', 'WT->B']\n",
    "\n",
    "fig = go.Figure()\n",
    "\n",
    "# Add traces of the transition probabilities\n",
    "for c in range(trans_prob.shape[1]):\n",
    "    fig.add_trace(\n",
    "        go.Scatter(\n",
    "            y=trans_prob[:, c],\n",
    "            x=list(range(sep_algo.N+1)),\n",
    "            mode='lines',\n",
    "            name=trace_name[c],\n",
    "            line_color=colours[c]\n",
    "        )\n",
    "    )\n",
    "\n",
    "fig.update_layout(\n",
    "    title='Transition probabilities for edge case with no B cells',\n",
    "    width=1000, \n",
    "    height=600,\n",
    "    plot_bgcolor='white',\n",
    "    xaxis=dict(linecolor='black'),\n",
    "    yaxis=dict(linecolor='black'),\n",
    "    )"
   ],
   "outputs": [
    {
     "output_type": "display_data",
     "data": {
      "application/vnd.plotly.v1+json": {
       "config": {
        "plotlyServerURL": "https://plot.ly"
       },
       "data": [
        {
         "line": {
          "color": "blue"
         },
         "mode": "lines",
         "name": "A->B",
         "type": "scatter",
         "x": [
          0,
          1,
          2,
          3,
          4,
          5,
          6,
          7,
          8,
          9,
          10,
          11,
          12,
          13,
          14,
          15,
          16,
          17,
          18,
          19,
          20,
          21,
          22,
          23,
          24,
          25,
          26,
          27,
          28,
          29,
          30,
          31,
          32,
          33,
          34,
          35,
          36,
          37,
          38,
          39,
          40,
          41,
          42,
          43,
          44,
          45,
          46,
          47,
          48,
          49,
          50,
          51,
          52,
          53,
          54,
          55,
          56,
          57,
          58,
          59,
          60,
          61,
          62,
          63,
          64,
          65,
          66,
          67,
          68,
          69,
          70,
          71,
          72,
          73,
          74,
          75,
          76,
          77,
          78,
          79,
          80,
          81,
          82,
          83,
          84,
          85,
          86,
          87,
          88,
          89,
          90,
          91,
          92,
          93,
          94,
          95,
          96,
          97,
          98,
          99,
          100
         ],
         "y": [
          0,
          0,
          0,
          0,
          0,
          0,
          0,
          0,
          0,
          0,
          0,
          0,
          0,
          0,
          0,
          0,
          0,
          0,
          0,
          0,
          0,
          0,
          0,
          0,
          0,
          0,
          0,
          0,
          0,
          0,
          0,
          0,
          0,
          0,
          0,
          0,
          0,
          0,
          0,
          0,
          0,
          0,
          0,
          0,
          0,
          0,
          0,
          0,
          0,
          0,
          0,
          0,
          0,
          0,
          0,
          0,
          0,
          0,
          0,
          0,
          0,
          0,
          0,
          0,
          0,
          0,
          0,
          0,
          0,
          0,
          0,
          0,
          0,
          0,
          0,
          0,
          0,
          0,
          0,
          0,
          0,
          0,
          0,
          0,
          0,
          0,
          0,
          0,
          0,
          0,
          0,
          0,
          0,
          0,
          0,
          0,
          0,
          0,
          0,
          0,
          0
         ]
        },
        {
         "line": {
          "color": "red"
         },
         "mode": "lines",
         "name": "A->WT",
         "type": "scatter",
         "x": [
          0,
          1,
          2,
          3,
          4,
          5,
          6,
          7,
          8,
          9,
          10,
          11,
          12,
          13,
          14,
          15,
          16,
          17,
          18,
          19,
          20,
          21,
          22,
          23,
          24,
          25,
          26,
          27,
          28,
          29,
          30,
          31,
          32,
          33,
          34,
          35,
          36,
          37,
          38,
          39,
          40,
          41,
          42,
          43,
          44,
          45,
          46,
          47,
          48,
          49,
          50,
          51,
          52,
          53,
          54,
          55,
          56,
          57,
          58,
          59,
          60,
          61,
          62,
          63,
          64,
          65,
          66,
          67,
          68,
          69,
          70,
          71,
          72,
          73,
          74,
          75,
          76,
          77,
          78,
          79,
          80,
          81,
          82,
          83,
          84,
          85,
          86,
          87,
          88,
          89,
          90,
          91,
          92,
          93,
          94,
          95,
          96,
          97,
          98,
          99,
          100
         ],
         "y": [
          0,
          0.00000497746359309153,
          0.000009954875857562887,
          0.00001493223520674966,
          0.00001990953998791087,
          0.000024886788478753092,
          0.000029863978883732812,
          0.000034841109330120383,
          0.000039818177863807386,
          0.00004479518244483778,
          0.00004977212094264117,
          0.00005474899113094502,
          0.000059725790682340106,
          0.0000647025171624714,
          0.00006967916802382393,
          0.0000746557405990702,
          0.00007963223209394279,
          0.00008460863957959188,
          0.00008958495998438414,
          0.0000945611900850943,
          0.00009953732649743654,
          0.00010451336566587735,
          0.00010948930385266507,
          0.00011446513712600524,
          0.00011944086134730302,
          0.00012441647215738578,
          0.00012939196496160918,
          0.00013436733491373993,
          0.00013934257689849676,
          0.00014431768551261638,
          0.00014929265504429838,
          0.00015426747945086327,
          0.0001592421523344415,
          0.00016421666691548604,
          0.00016919101600387974,
          0.0001741651919673771,
          0.00017913918669708998,
          0.000184112991569689,
          0.00018908659740594956,
          0.00019405999442522422,
          0.0001990331721953659,
          0.00020400611957756265,
          0.00020897882466547107,
          0.00021395127471794778,
          0.0002189234560845805,
          0.0002238953541231021,
          0.0002288669531076376,
          0.0002338382361265732,
          0.00023880918496865263,
          0.00024377977999568616,
          0.00024875,
          0.00025371982204444804,
          0.00025868922128244657,
          0.0002636581707550582,
          0.0002686266411616381,
          0.00027359460059993334,
          0.0002785620142707813,
          0.00028352884414165134,
          0.00028849504856217863,
          0.00029346058182350214,
          0.0002984253936515871,
          0.0003033894286226962,
          0.0003083526254866884,
          0.0003133149163807311,
          0.00031827622591214526,
          0.0003232364700842496,
          0.0003281955550329257,
          0.00033315337553381594,
          0.0003381098132300581,
          0.0003430647345175538,
          0.00034801798800799464,
          0.0003529694014679025,
          0.00035791877810291916,
          0.00036286589201791063,
          0.00036781048263141713,
          0.00037275224775224777,
          0.00037769083492882706,
          0.0003826258305467495,
          0.0003875567459596877,
          0.00039248299966712635,
          0.0003974038941587619,
          0.0004023185854658189,
          0.0004072260425909494,
          0.0004121249926613046,
          0.00041701384557814644,
          0.00042189058862653804,
          0.0004267526360786549,
          0.00043159660964945924,
          0.0004364180096361521,
          0.00044121070749162067,
          0.00044596613545816737,
          0.000450671938944807,
          0.0004553096244715245,
          0.00045985020587817696,
          0.0004642455327597617,
          0.00046840931615460855,
          0.0004721700444883836,
          0.00047513127666557267,
          0.00047612304687500004,
          0.0004695185891325072,
          0
         ]
        },
        {
         "line": {
          "color": "green"
         },
         "mode": "lines",
         "name": "B->A",
         "type": "scatter",
         "x": [
          0,
          1,
          2,
          3,
          4,
          5,
          6,
          7,
          8,
          9,
          10,
          11,
          12,
          13,
          14,
          15,
          16,
          17,
          18,
          19,
          20,
          21,
          22,
          23,
          24,
          25,
          26,
          27,
          28,
          29,
          30,
          31,
          32,
          33,
          34,
          35,
          36,
          37,
          38,
          39,
          40,
          41,
          42,
          43,
          44,
          45,
          46,
          47,
          48,
          49,
          50,
          51,
          52,
          53,
          54,
          55,
          56,
          57,
          58,
          59,
          60,
          61,
          62,
          63,
          64,
          65,
          66,
          67,
          68,
          69,
          70,
          71,
          72,
          73,
          74,
          75,
          76,
          77,
          78,
          79,
          80,
          81,
          82,
          83,
          84,
          85,
          86,
          87,
          88,
          89,
          90,
          91,
          92,
          93,
          94,
          95,
          96,
          97,
          98,
          99,
          100
         ],
         "y": [
          0,
          0,
          0,
          0,
          0,
          0,
          0,
          0,
          0,
          0,
          0,
          0,
          0,
          0,
          0,
          0,
          0,
          0,
          0,
          0,
          0,
          0,
          0,
          0,
          0,
          0,
          0,
          0,
          0,
          0,
          0,
          0,
          0,
          0,
          0,
          0,
          0,
          0,
          0,
          0,
          0,
          0,
          0,
          0,
          0,
          0,
          0,
          0,
          0,
          0,
          0,
          0,
          0,
          0,
          0,
          0,
          0,
          0,
          0,
          0,
          0,
          0,
          0,
          0,
          0,
          0,
          0,
          0,
          0,
          0,
          0,
          0,
          0,
          0,
          0,
          0,
          0,
          0,
          0,
          0,
          0,
          0,
          0,
          0,
          0,
          0,
          0,
          0,
          0,
          0,
          0,
          0,
          0,
          0,
          0,
          0,
          0,
          0,
          0,
          0,
          0
         ]
        },
        {
         "line": {
          "color": "purple"
         },
         "mode": "lines",
         "name": "B->WT",
         "type": "scatter",
         "x": [
          0,
          1,
          2,
          3,
          4,
          5,
          6,
          7,
          8,
          9,
          10,
          11,
          12,
          13,
          14,
          15,
          16,
          17,
          18,
          19,
          20,
          21,
          22,
          23,
          24,
          25,
          26,
          27,
          28,
          29,
          30,
          31,
          32,
          33,
          34,
          35,
          36,
          37,
          38,
          39,
          40,
          41,
          42,
          43,
          44,
          45,
          46,
          47,
          48,
          49,
          50,
          51,
          52,
          53,
          54,
          55,
          56,
          57,
          58,
          59,
          60,
          61,
          62,
          63,
          64,
          65,
          66,
          67,
          68,
          69,
          70,
          71,
          72,
          73,
          74,
          75,
          76,
          77,
          78,
          79,
          80,
          81,
          82,
          83,
          84,
          85,
          86,
          87,
          88,
          89,
          90,
          91,
          92,
          93,
          94,
          95,
          96,
          97,
          98,
          99,
          100
         ],
         "y": [
          0,
          0,
          0,
          0,
          0,
          0,
          0,
          0,
          0,
          0,
          0,
          0,
          0,
          0,
          0,
          0,
          0,
          0,
          0,
          0,
          0,
          0,
          0,
          0,
          0,
          0,
          0,
          0,
          0,
          0,
          0,
          0,
          0,
          0,
          0,
          0,
          0,
          0,
          0,
          0,
          0,
          0,
          0,
          0,
          0,
          0,
          0,
          0,
          0,
          0,
          0,
          0,
          0,
          0,
          0,
          0,
          0,
          0,
          0,
          0,
          0,
          0,
          0,
          0,
          0,
          0,
          0,
          0,
          0,
          0,
          0,
          0,
          0,
          0,
          0,
          0,
          0,
          0,
          0,
          0,
          0,
          0,
          0,
          0,
          0,
          0,
          0,
          0,
          0,
          0,
          0,
          0,
          0,
          0,
          0,
          0,
          0,
          0,
          0,
          0,
          0
         ]
        },
        {
         "line": {
          "color": "orange"
         },
         "mode": "lines",
         "name": "WT->A",
         "type": "scatter",
         "x": [
          0,
          1,
          2,
          3,
          4,
          5,
          6,
          7,
          8,
          9,
          10,
          11,
          12,
          13,
          14,
          15,
          16,
          17,
          18,
          19,
          20,
          21,
          22,
          23,
          24,
          25,
          26,
          27,
          28,
          29,
          30,
          31,
          32,
          33,
          34,
          35,
          36,
          37,
          38,
          39,
          40,
          41,
          42,
          43,
          44,
          45,
          46,
          47,
          48,
          49,
          50,
          51,
          52,
          53,
          54,
          55,
          56,
          57,
          58,
          59,
          60,
          61,
          62,
          63,
          64,
          65,
          66,
          67,
          68,
          69,
          70,
          71,
          72,
          73,
          74,
          75,
          76,
          77,
          78,
          79,
          80,
          81,
          82,
          83,
          84,
          85,
          86,
          87,
          88,
          89,
          90,
          91,
          92,
          93,
          94,
          95,
          96,
          97,
          98,
          99,
          100
         ],
         "y": [
          0,
          0.00994994982365009,
          0.019899797247631495,
          0.02984953910657741,
          0.039799172103299495,
          0.04974869280185351,
          0.05969809762016263,
          0.06964738282216508,
          0.07959654450944997,
          0.08954557861234182,
          0.09949448088039128,
          0.10944324687222491,
          0.11939187194470338,
          0.12934035124133253,
          0.13928867967986602,
          0.14923685193903372,
          0.1591848624443227,
          0.16913270535273062,
          0.17908037453640444,
          0.1890278635650681,
          0.19897516568713267,
          0.20892227380937306,
          0.21886918047504234,
          0.22881587784028165,
          0.23876235764866927,
          0.24870861120373458,
          0.25865462933924516,
          0.26860040238705346,
          0.2785459201422657,
          0.2884911718254695,
          0.2984361460417262,
          0.30838083073599976,
          0.31832521314465595,
          0.32826927974262127,
          0.33821301618574207,
          0.3481564072478264,
          0.3580994367517894,
          0.36804208749424483,
          0.3779843411628057,
          0.3879261782452573,
          0.39786757792965494,
          0.4078085179942703,
          0.4177489746861636,
          0.4276889225869844,
          0.43762833446440697,
          0.44756718110737337,
          0.45750543114304765,
          0.467443050833066,
          0.47738000384630175,
          0.48731625100492165,
          0.49725175000000005,
          0.5071864550723454,
          0.5171203166534727,
          0.5270532809607897,
          0.53698528954004,
          0.5469162787468059,
          0.5568461791573877,
          0.5667749148975747,
          0.5767024028756427,
          0.5866285519032407,
          0.5965532616845789,
          0.6064764216503038,
          0.6163979096074924,
          0.626317590171021,
          0.6362353129338592,
          0.6461509103241467,
          0.6560641950846662,
          0.665974957294727,
          0.6758829608345307,
          0.6857879391663173,
          0.6956895902731512,
          0.7055875705523585,
          0.7154814874027549,
          0.725370890167635,
          0.7352552589916999,
          0.745133991008991,
          0.7550063830849912,
          0.7648716100664437,
          0.7747286971127656,
          0.7845764841409483,
          0.7944135796305541,
          0.8042382998791446,
          0.8140485880656609,
          0.823841904831797,
          0.8336150779593364,
          0.8433640921183905,
          0.8530837888287262,
          0.8627674284728082,
          0.8724060342249543,
          0.8819873797445422,
          0.8914943725099601,
          0.900902365335693,
          0.9101744640636658,
          0.9192528418287661,
          0.9280414394440767,
          0.9363681119920713,
          0.9438906969846762,
          0.9498183016081391,
          0.9518168652343749,
          0.9386610915157293,
          0.002
         ]
        },
        {
         "line": {
          "color": "black"
         },
         "mode": "lines",
         "name": "WT->B",
         "type": "scatter",
         "x": [
          0,
          1,
          2,
          3,
          4,
          5,
          6,
          7,
          8,
          9,
          10,
          11,
          12,
          13,
          14,
          15,
          16,
          17,
          18,
          19,
          20,
          21,
          22,
          23,
          24,
          25,
          26,
          27,
          28,
          29,
          30,
          31,
          32,
          33,
          34,
          35,
          36,
          37,
          38,
          39,
          40,
          41,
          42,
          43,
          44,
          45,
          46,
          47,
          48,
          49,
          50,
          51,
          52,
          53,
          54,
          55,
          56,
          57,
          58,
          59,
          60,
          61,
          62,
          63,
          64,
          65,
          66,
          67,
          68,
          69,
          70,
          71,
          72,
          73,
          74,
          75,
          76,
          77,
          78,
          79,
          80,
          81,
          82,
          83,
          84,
          85,
          86,
          87,
          88,
          89,
          90,
          91,
          92,
          93,
          94,
          95,
          96,
          97,
          98,
          99,
          100
         ],
         "y": [
          0,
          1.5159018099867613e-10,
          6.125449199607972e-10,
          1.3924272585685845e-9,
          2.501198490943577e-9,
          3.949239113264178e-9,
          5.747371109881221e-9,
          7.906881676474071e-9,
          1.0439548489527827e-8,
          1.3357666641014082e-8,
          1.6674077367718988e-8,
          2.0402198716291407e-8,
          2.4556058297901365e-8,
          2.9150328300541615e-8,
          3.420036294262715e-8,
          3.9722238568822454e-8,
          4.573279660815092e-8,
          5.224968963563827e-8,
          5.92914308022643e-8,
          6.687744692413146e-8,
          7.502813555083156e-8,
          8.376492636537464e-8,
          9.311034730416047e-8,
          1.0308809582580907e-7,
          1.1372311580277463e-7,
          1.2504168056018671e-7,
          1.3707148264301937e-7,
          1.4984173095632873e-7,
          1.6338325599488734e-7,
          1.777286239591992e-7,
          1.9291226064589882e-7,
          2.089705861034198e-7,
          2.2594216116030715e-7,
          2.438678470656734e-7,
          2.627909796314258e-7,
          2.827575594367931e-7,
          3.0381645985059233e-7,
          3.260196548494134e-7,
          3.4942246886494163e-7,
          3.740838511862795e-7,
          4.0006667777962995e-7,
          4.2743808377549117e-7,
          4.5626983032142366e-7,
          4.866387100170196e-7,
          5.186269957495446e-7,
          5.523229384489499e-7,
          5.87821320097785e-7,
          6.252240692869408e-7,
          6.646409477287587e-7,
          7.06190317457205e-7,
          7.5e-7,
          7.962082406481501e-7,
          8.449647931336196e-7,
          8.96432142629194e-7,
          9.507868880966874e-7,
          0.0000010082213087434732,
          0.0000010689451438440215,
          0.000001133187620619899,
          0.0000012011997714721005,
          0.0000012732570899070933,
          0.0000013496625843539113,
          0.0000014307503011970984,
          0.0000015168894033463118,
          0.0000016084889093021371,
          0.000001706003220969623,
          0.0000018099385977438243,
          0.0000019208607714016933,
          0.0000020394039434230852,
          0.0000021662814666749953,
          0.000002302298591186047,
          0.000002448367754830113,
          0.0000026055270321491334,
          0.0000027749625294411534,
          0.0000029580357473263517,
          0.0000031563172456194284,
          0.000003371628371628372,
          0.000003606093398817947,
          0.000003862205237330091,
          0.000004142909024877429,
          0.000004451709543963099,
          0.000004792810783824265,
          0.000005171299458777784,
          0.000005593389529724933,
          0.000006066752774026889,
          0.000006600972932518398,
          0.000007208180911207184,
          0.000007903961242519235,
          0.000008708675308736672,
          0.000009649443429141052,
          0.00001076320318869463,
          0.00001210159362549801,
          0.000013739077535670835,
          0.000015787117632429743,
          0.000018420417435751814,
          0.000021929185969556587,
          0.000026833498513379586,
          0.000034167078596144336,
          0.000046319330489005576,
          0.000070341796875,
          0.00014014775977121068,
          0.003
         ]
        }
       ],
       "layout": {
        "height": 600,
        "plot_bgcolor": "white",
        "template": {
         "data": {
          "bar": [
           {
            "error_x": {
             "color": "#2a3f5f"
            },
            "error_y": {
             "color": "#2a3f5f"
            },
            "marker": {
             "line": {
              "color": "#E5ECF6",
              "width": 0.5
             }
            },
            "type": "bar"
           }
          ],
          "barpolar": [
           {
            "marker": {
             "line": {
              "color": "#E5ECF6",
              "width": 0.5
             }
            },
            "type": "barpolar"
           }
          ],
          "carpet": [
           {
            "aaxis": {
             "endlinecolor": "#2a3f5f",
             "gridcolor": "white",
             "linecolor": "white",
             "minorgridcolor": "white",
             "startlinecolor": "#2a3f5f"
            },
            "baxis": {
             "endlinecolor": "#2a3f5f",
             "gridcolor": "white",
             "linecolor": "white",
             "minorgridcolor": "white",
             "startlinecolor": "#2a3f5f"
            },
            "type": "carpet"
           }
          ],
          "choropleth": [
           {
            "colorbar": {
             "outlinewidth": 0,
             "ticks": ""
            },
            "type": "choropleth"
           }
          ],
          "contour": [
           {
            "colorbar": {
             "outlinewidth": 0,
             "ticks": ""
            },
            "colorscale": [
             [
              0,
              "#0d0887"
             ],
             [
              0.1111111111111111,
              "#46039f"
             ],
             [
              0.2222222222222222,
              "#7201a8"
             ],
             [
              0.3333333333333333,
              "#9c179e"
             ],
             [
              0.4444444444444444,
              "#bd3786"
             ],
             [
              0.5555555555555556,
              "#d8576b"
             ],
             [
              0.6666666666666666,
              "#ed7953"
             ],
             [
              0.7777777777777778,
              "#fb9f3a"
             ],
             [
              0.8888888888888888,
              "#fdca26"
             ],
             [
              1,
              "#f0f921"
             ]
            ],
            "type": "contour"
           }
          ],
          "contourcarpet": [
           {
            "colorbar": {
             "outlinewidth": 0,
             "ticks": ""
            },
            "type": "contourcarpet"
           }
          ],
          "heatmap": [
           {
            "colorbar": {
             "outlinewidth": 0,
             "ticks": ""
            },
            "colorscale": [
             [
              0,
              "#0d0887"
             ],
             [
              0.1111111111111111,
              "#46039f"
             ],
             [
              0.2222222222222222,
              "#7201a8"
             ],
             [
              0.3333333333333333,
              "#9c179e"
             ],
             [
              0.4444444444444444,
              "#bd3786"
             ],
             [
              0.5555555555555556,
              "#d8576b"
             ],
             [
              0.6666666666666666,
              "#ed7953"
             ],
             [
              0.7777777777777778,
              "#fb9f3a"
             ],
             [
              0.8888888888888888,
              "#fdca26"
             ],
             [
              1,
              "#f0f921"
             ]
            ],
            "type": "heatmap"
           }
          ],
          "heatmapgl": [
           {
            "colorbar": {
             "outlinewidth": 0,
             "ticks": ""
            },
            "colorscale": [
             [
              0,
              "#0d0887"
             ],
             [
              0.1111111111111111,
              "#46039f"
             ],
             [
              0.2222222222222222,
              "#7201a8"
             ],
             [
              0.3333333333333333,
              "#9c179e"
             ],
             [
              0.4444444444444444,
              "#bd3786"
             ],
             [
              0.5555555555555556,
              "#d8576b"
             ],
             [
              0.6666666666666666,
              "#ed7953"
             ],
             [
              0.7777777777777778,
              "#fb9f3a"
             ],
             [
              0.8888888888888888,
              "#fdca26"
             ],
             [
              1,
              "#f0f921"
             ]
            ],
            "type": "heatmapgl"
           }
          ],
          "histogram": [
           {
            "marker": {
             "colorbar": {
              "outlinewidth": 0,
              "ticks": ""
             }
            },
            "type": "histogram"
           }
          ],
          "histogram2d": [
           {
            "colorbar": {
             "outlinewidth": 0,
             "ticks": ""
            },
            "colorscale": [
             [
              0,
              "#0d0887"
             ],
             [
              0.1111111111111111,
              "#46039f"
             ],
             [
              0.2222222222222222,
              "#7201a8"
             ],
             [
              0.3333333333333333,
              "#9c179e"
             ],
             [
              0.4444444444444444,
              "#bd3786"
             ],
             [
              0.5555555555555556,
              "#d8576b"
             ],
             [
              0.6666666666666666,
              "#ed7953"
             ],
             [
              0.7777777777777778,
              "#fb9f3a"
             ],
             [
              0.8888888888888888,
              "#fdca26"
             ],
             [
              1,
              "#f0f921"
             ]
            ],
            "type": "histogram2d"
           }
          ],
          "histogram2dcontour": [
           {
            "colorbar": {
             "outlinewidth": 0,
             "ticks": ""
            },
            "colorscale": [
             [
              0,
              "#0d0887"
             ],
             [
              0.1111111111111111,
              "#46039f"
             ],
             [
              0.2222222222222222,
              "#7201a8"
             ],
             [
              0.3333333333333333,
              "#9c179e"
             ],
             [
              0.4444444444444444,
              "#bd3786"
             ],
             [
              0.5555555555555556,
              "#d8576b"
             ],
             [
              0.6666666666666666,
              "#ed7953"
             ],
             [
              0.7777777777777778,
              "#fb9f3a"
             ],
             [
              0.8888888888888888,
              "#fdca26"
             ],
             [
              1,
              "#f0f921"
             ]
            ],
            "type": "histogram2dcontour"
           }
          ],
          "mesh3d": [
           {
            "colorbar": {
             "outlinewidth": 0,
             "ticks": ""
            },
            "type": "mesh3d"
           }
          ],
          "parcoords": [
           {
            "line": {
             "colorbar": {
              "outlinewidth": 0,
              "ticks": ""
             }
            },
            "type": "parcoords"
           }
          ],
          "pie": [
           {
            "automargin": true,
            "type": "pie"
           }
          ],
          "scatter": [
           {
            "marker": {
             "colorbar": {
              "outlinewidth": 0,
              "ticks": ""
             }
            },
            "type": "scatter"
           }
          ],
          "scatter3d": [
           {
            "line": {
             "colorbar": {
              "outlinewidth": 0,
              "ticks": ""
             }
            },
            "marker": {
             "colorbar": {
              "outlinewidth": 0,
              "ticks": ""
             }
            },
            "type": "scatter3d"
           }
          ],
          "scattercarpet": [
           {
            "marker": {
             "colorbar": {
              "outlinewidth": 0,
              "ticks": ""
             }
            },
            "type": "scattercarpet"
           }
          ],
          "scattergeo": [
           {
            "marker": {
             "colorbar": {
              "outlinewidth": 0,
              "ticks": ""
             }
            },
            "type": "scattergeo"
           }
          ],
          "scattergl": [
           {
            "marker": {
             "colorbar": {
              "outlinewidth": 0,
              "ticks": ""
             }
            },
            "type": "scattergl"
           }
          ],
          "scattermapbox": [
           {
            "marker": {
             "colorbar": {
              "outlinewidth": 0,
              "ticks": ""
             }
            },
            "type": "scattermapbox"
           }
          ],
          "scatterpolar": [
           {
            "marker": {
             "colorbar": {
              "outlinewidth": 0,
              "ticks": ""
             }
            },
            "type": "scatterpolar"
           }
          ],
          "scatterpolargl": [
           {
            "marker": {
             "colorbar": {
              "outlinewidth": 0,
              "ticks": ""
             }
            },
            "type": "scatterpolargl"
           }
          ],
          "scatterternary": [
           {
            "marker": {
             "colorbar": {
              "outlinewidth": 0,
              "ticks": ""
             }
            },
            "type": "scatterternary"
           }
          ],
          "surface": [
           {
            "colorbar": {
             "outlinewidth": 0,
             "ticks": ""
            },
            "colorscale": [
             [
              0,
              "#0d0887"
             ],
             [
              0.1111111111111111,
              "#46039f"
             ],
             [
              0.2222222222222222,
              "#7201a8"
             ],
             [
              0.3333333333333333,
              "#9c179e"
             ],
             [
              0.4444444444444444,
              "#bd3786"
             ],
             [
              0.5555555555555556,
              "#d8576b"
             ],
             [
              0.6666666666666666,
              "#ed7953"
             ],
             [
              0.7777777777777778,
              "#fb9f3a"
             ],
             [
              0.8888888888888888,
              "#fdca26"
             ],
             [
              1,
              "#f0f921"
             ]
            ],
            "type": "surface"
           }
          ],
          "table": [
           {
            "cells": {
             "fill": {
              "color": "#EBF0F8"
             },
             "line": {
              "color": "white"
             }
            },
            "header": {
             "fill": {
              "color": "#C8D4E3"
             },
             "line": {
              "color": "white"
             }
            },
            "type": "table"
           }
          ]
         },
         "layout": {
          "annotationdefaults": {
           "arrowcolor": "#2a3f5f",
           "arrowhead": 0,
           "arrowwidth": 1
          },
          "autotypenumbers": "strict",
          "coloraxis": {
           "colorbar": {
            "outlinewidth": 0,
            "ticks": ""
           }
          },
          "colorscale": {
           "diverging": [
            [
             0,
             "#8e0152"
            ],
            [
             0.1,
             "#c51b7d"
            ],
            [
             0.2,
             "#de77ae"
            ],
            [
             0.3,
             "#f1b6da"
            ],
            [
             0.4,
             "#fde0ef"
            ],
            [
             0.5,
             "#f7f7f7"
            ],
            [
             0.6,
             "#e6f5d0"
            ],
            [
             0.7,
             "#b8e186"
            ],
            [
             0.8,
             "#7fbc41"
            ],
            [
             0.9,
             "#4d9221"
            ],
            [
             1,
             "#276419"
            ]
           ],
           "sequential": [
            [
             0,
             "#0d0887"
            ],
            [
             0.1111111111111111,
             "#46039f"
            ],
            [
             0.2222222222222222,
             "#7201a8"
            ],
            [
             0.3333333333333333,
             "#9c179e"
            ],
            [
             0.4444444444444444,
             "#bd3786"
            ],
            [
             0.5555555555555556,
             "#d8576b"
            ],
            [
             0.6666666666666666,
             "#ed7953"
            ],
            [
             0.7777777777777778,
             "#fb9f3a"
            ],
            [
             0.8888888888888888,
             "#fdca26"
            ],
            [
             1,
             "#f0f921"
            ]
           ],
           "sequentialminus": [
            [
             0,
             "#0d0887"
            ],
            [
             0.1111111111111111,
             "#46039f"
            ],
            [
             0.2222222222222222,
             "#7201a8"
            ],
            [
             0.3333333333333333,
             "#9c179e"
            ],
            [
             0.4444444444444444,
             "#bd3786"
            ],
            [
             0.5555555555555556,
             "#d8576b"
            ],
            [
             0.6666666666666666,
             "#ed7953"
            ],
            [
             0.7777777777777778,
             "#fb9f3a"
            ],
            [
             0.8888888888888888,
             "#fdca26"
            ],
            [
             1,
             "#f0f921"
            ]
           ]
          },
          "colorway": [
           "#636efa",
           "#EF553B",
           "#00cc96",
           "#ab63fa",
           "#FFA15A",
           "#19d3f3",
           "#FF6692",
           "#B6E880",
           "#FF97FF",
           "#FECB52"
          ],
          "font": {
           "color": "#2a3f5f"
          },
          "geo": {
           "bgcolor": "white",
           "lakecolor": "white",
           "landcolor": "#E5ECF6",
           "showlakes": true,
           "showland": true,
           "subunitcolor": "white"
          },
          "hoverlabel": {
           "align": "left"
          },
          "hovermode": "closest",
          "mapbox": {
           "style": "light"
          },
          "paper_bgcolor": "white",
          "plot_bgcolor": "#E5ECF6",
          "polar": {
           "angularaxis": {
            "gridcolor": "white",
            "linecolor": "white",
            "ticks": ""
           },
           "bgcolor": "#E5ECF6",
           "radialaxis": {
            "gridcolor": "white",
            "linecolor": "white",
            "ticks": ""
           }
          },
          "scene": {
           "xaxis": {
            "backgroundcolor": "#E5ECF6",
            "gridcolor": "white",
            "gridwidth": 2,
            "linecolor": "white",
            "showbackground": true,
            "ticks": "",
            "zerolinecolor": "white"
           },
           "yaxis": {
            "backgroundcolor": "#E5ECF6",
            "gridcolor": "white",
            "gridwidth": 2,
            "linecolor": "white",
            "showbackground": true,
            "ticks": "",
            "zerolinecolor": "white"
           },
           "zaxis": {
            "backgroundcolor": "#E5ECF6",
            "gridcolor": "white",
            "gridwidth": 2,
            "linecolor": "white",
            "showbackground": true,
            "ticks": "",
            "zerolinecolor": "white"
           }
          },
          "shapedefaults": {
           "line": {
            "color": "#2a3f5f"
           }
          },
          "ternary": {
           "aaxis": {
            "gridcolor": "white",
            "linecolor": "white",
            "ticks": ""
           },
           "baxis": {
            "gridcolor": "white",
            "linecolor": "white",
            "ticks": ""
           },
           "bgcolor": "#E5ECF6",
           "caxis": {
            "gridcolor": "white",
            "linecolor": "white",
            "ticks": ""
           }
          },
          "title": {
           "x": 0.05
          },
          "xaxis": {
           "automargin": true,
           "gridcolor": "white",
           "linecolor": "white",
           "ticks": "",
           "title": {
            "standoff": 15
           },
           "zerolinecolor": "white",
           "zerolinewidth": 2
          },
          "yaxis": {
           "automargin": true,
           "gridcolor": "white",
           "linecolor": "white",
           "ticks": "",
           "title": {
            "standoff": 15
           },
           "zerolinecolor": "white",
           "zerolinewidth": 2
          }
         }
        },
        "title": {
         "text": "Transition probabilities for edge case with no B cells"
        },
        "width": 1000,
        "xaxis": {
         "linecolor": "black"
        },
        "yaxis": {
         "linecolor": "black"
        }
       }
      }
     },
     "metadata": {}
    }
   ],
   "metadata": {}
  },
  {
   "cell_type": "code",
   "execution_count": null,
   "source": [],
   "outputs": [],
   "metadata": {}
  }
 ],
 "metadata": {
  "kernelspec": {
   "name": "python3",
   "display_name": "Python 3.8.5 64-bit ('base': conda)"
  },
  "language_info": {
   "codemirror_mode": {
    "name": "ipython",
    "version": 3
   },
   "file_extension": ".py",
   "mimetype": "text/x-python",
   "name": "python",
   "nbconvert_exporter": "python",
   "pygments_lexer": "ipython3",
   "version": "3.8.5"
  },
  "metadata": {
   "interpreter": {
    "hash": "7812ea015bdcee6f23a998adcdd2ef97c151c0c241b7b7070987d9313e41299d"
   }
  },
  "widgets": {
   "application/vnd.jupyter.widget-state+json": {
    "state": {},
    "version_major": 2,
    "version_minor": 0
   }
  },
  "interpreter": {
   "hash": "34783718b96b00301f03fbc7cc717743f1d89135027a4004f1427440c34696d4"
  }
 },
 "nbformat": 4,
 "nbformat_minor": 2
}