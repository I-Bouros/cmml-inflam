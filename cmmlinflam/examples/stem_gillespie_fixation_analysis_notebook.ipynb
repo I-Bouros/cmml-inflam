{
 "metadata": {
  "language_info": {
   "codemirror_mode": {
    "name": "ipython",
    "version": 3
   },
   "file_extension": ".py",
   "mimetype": "text/x-python",
   "name": "python",
   "nbconvert_exporter": "python",
   "pygments_lexer": "ipython3",
   "version": "3.8.5"
  },
  "orig_nbformat": 2,
  "kernelspec": {
   "name": "python385jvsc74a57bd034783718b96b00301f03fbc7cc717743f1d89135027a4004f1427440c34696d4",
   "display_name": "Python 3.8.5 64-bit ('base': conda)"
  },
  "metadata": {
   "interpreter": {
    "hash": "7812ea015bdcee6f23a998adcdd2ef97c151c0c241b7b7070987d9313e41299d"
   }
  }
 },
 "nbformat": 4,
 "nbformat_minor": 2,
 "cells": [
  {
   "source": [
    "# STEM Cell Population Gillespie Algorithm Fixation Analysis\n",
    "\n",
    "In this example notebook we present an example of how to forward simulate a population of STEM cells in the context of a fixed size tumor. We assume a constant number of cells in the population at all times -- only the counts of the different species of cells change in time:\n",
    "\n",
    "- wild type (WT)\n",
    "- with cell intrinsic mutations that increase fitness (A)\n",
    "- with mutations that give evolutionary advantage based on environmental factors such as level of cytokines (B).\n",
    "\n",
    "Fot the purposes of this notebook we consider the environmental conditions such that the B cells always have a selectional advantage over their wilde type counterpart."
   ],
   "cell_type": "markdown",
   "metadata": {}
  },
  {
   "cell_type": "code",
   "execution_count": 1,
   "metadata": {},
   "outputs": [],
   "source": [
    "# Load necessary libraries\n",
    "import os\n",
    "import numpy as np\n",
    "import pandas as pd\n",
    "from scipy.stats import gamma\n",
    "import cmmlinflam as ci\n",
    "import matplotlib\n",
    "import plotly.graph_objects as go\n",
    "from matplotlib import pyplot as plt"
   ]
  },
  {
   "source": [
    "## Plot output of Gillespie for the different species of cells"
   ],
   "cell_type": "markdown",
   "metadata": {}
  },
  {
   "cell_type": "code",
   "execution_count": 2,
   "metadata": {},
   "outputs": [],
   "source": [
    "from plotly.subplots import make_subplots\n",
    "\n",
    "colours = ['blue', 'red', 'green', 'purple', 'orange', 'black', 'gray', 'pink']\n",
    "species = ['WT', 'A', 'B']"
   ]
  },
  {
   "source": [
    "## Compute mean time to fixation and probability of fixation of A cells when no B are present"
   ],
   "cell_type": "markdown",
   "metadata": {}
  },
  {
   "source": [
    "## No selectional advatange + No mutation\n",
    "\n",
    "### Start from 1/2 and 1/2 WT ws A"
   ],
   "cell_type": "markdown",
   "metadata": {}
  },
  {
   "cell_type": "code",
   "execution_count": 3,
   "metadata": {},
   "outputs": [],
   "source": [
    "# Set initial population state WT - A - B\n",
    "initial_population = [50, 50, 0]\n",
    "\n",
    "# Set baseline growth rate\n",
    "alpha = 0.5\n",
    "\n",
    "# Set selectional advantages for mutated cells\n",
    "s = 0\n",
    "r = 0\n",
    "\n",
    "# Set mutation rates\n",
    "mu_A = 0\n",
    "mu_B = 0\n",
    "\n",
    "# Coalesce into paramater vector\n",
    "parameters = initial_population\n",
    "parameters.extend([alpha, s, r, mu_A, mu_B])"
   ]
  },
  {
   "cell_type": "code",
   "execution_count": 4,
   "metadata": {
    "tags": []
   },
   "outputs": [
    {
     "output_type": "stream",
     "name": "stdout",
     "text": [
      "Average time to illness:  6997.665\nProbability of fixation of cell type A:  0.528\n"
     ]
    }
   ],
   "source": [
    "# Instantiate algorithm\n",
    "algorithm = ci.StemGillespie()\n",
    "\n",
    "# Select number of simulations\n",
    "num_simulations = 1000\n",
    "\n",
    "computation_time = np.empty(num_simulations, dtype=np.int)\n",
    "fixed_state = np.empty((num_simulations), dtype=np.str)\n",
    "\n",
    "for sim in range(num_simulations):\n",
    "    computation_time[sim], fixed_state[sim] = algorithm.simulate_fixation(parameters)\n",
    "\n",
    "mean_computation_time = np.mean(computation_time)\n",
    "prob_fix = (fixed_state == 'A').sum()/num_simulations\n",
    "\n",
    "print('Average time to illness: ', mean_computation_time)\n",
    "print('Probability of fixation of cell type A: ', prob_fix)"
   ]
  },
  {
   "source": [
    "### Start from 1 A vs all other WT"
   ],
   "cell_type": "markdown",
   "metadata": {}
  },
  {
   "cell_type": "code",
   "execution_count": 5,
   "metadata": {},
   "outputs": [],
   "source": [
    "# Set initial population state WT - A - B\n",
    "initial_population = [99, 1, 0]\n",
    "\n",
    "# Set baseline growth rate\n",
    "alpha = 0.5\n",
    "\n",
    "# Set selectional advantages for mutated cells\n",
    "s = 0\n",
    "r = 0\n",
    "\n",
    "# Set mutation rates\n",
    "mu_A = 0\n",
    "mu_B = 0\n",
    "\n",
    "# Coalesce into paramater vector\n",
    "parameters = initial_population\n",
    "parameters.extend([alpha, s, r, mu_A, mu_B])"
   ]
  },
  {
   "cell_type": "code",
   "execution_count": 6,
   "metadata": {},
   "outputs": [
    {
     "output_type": "stream",
     "name": "stdout",
     "text": [
      "Average time to illness:  483.931\nProbability of fixation of cell type A:  0.01\n"
     ]
    }
   ],
   "source": [
    "# Instantiate algorithm\n",
    "algorithm = ci.StemGillespie()\n",
    "\n",
    "# Select number of simulations\n",
    "num_simulations = 1000\n",
    "\n",
    "computation_time = np.empty(num_simulations, dtype=np.int)\n",
    "fixed_state = np.empty((num_simulations), dtype=np.str)\n",
    "\n",
    "for sim in range(num_simulations):\n",
    "    computation_time[sim], fixed_state[sim] = algorithm.simulate_fixation(parameters)\n",
    "\n",
    "mean_computation_time = np.mean(computation_time)\n",
    "prob_fix = (fixed_state == 'A').sum()/num_simulations\n",
    "\n",
    "print('Average time to illness: ', mean_computation_time)\n",
    "print('Probability of fixation of cell type A: ', prob_fix)"
   ]
  },
  {
   "source": [
    "### Plot transition probability curves"
   ],
   "cell_type": "markdown",
   "metadata": {}
  },
  {
   "cell_type": "code",
   "execution_count": 7,
   "metadata": {},
   "outputs": [],
   "source": [
    "# Plot transition probabilities\n",
    "sep_algo = ci.StemGillespie()\n",
    "\n",
    "sep_algo.N = int(np.sum(np.asarray(initial_population)))\n",
    "\n",
    "sep_algo.alpha_A = alpha + s\n",
    "sep_algo.alpha_B = alpha + r\n",
    "sep_algo.alpha_WT = alpha\n",
    "\n",
    "sep_algo.mu_A = mu_A\n",
    "sep_algo.mu_B = mu_B\n",
    "\n",
    "# Assuming no Bs in the population\n",
    "trans_prob = np.empty((sep_algo.N+1, 2))\n",
    "\n",
    "for i in range(sep_algo.N+1):\n",
    "    trans_prob[i, 0] = sep_algo._prob_A_to_WT(i, sep_algo.N - i, 0)\n",
    "    trans_prob[i, 1] = sep_algo._prob_WT_to_A(i, sep_algo.N - i, 0)"
   ]
  },
  {
   "cell_type": "code",
   "execution_count": 8,
   "metadata": {},
   "outputs": [
    {
     "output_type": "display_data",
     "data": {
      "application/vnd.plotly.v1+json": {
       "config": {
        "plotlyServerURL": "https://plot.ly"
       },
       "data": [
        {
         "line": {
          "color": "blue"
         },
         "mode": "lines",
         "name": "A->WT",
         "type": "scatter",
         "x": [
          0,
          1,
          2,
          3,
          4,
          5,
          6,
          7,
          8,
          9,
          10,
          11,
          12,
          13,
          14,
          15,
          16,
          17,
          18,
          19,
          20,
          21,
          22,
          23,
          24,
          25,
          26,
          27,
          28,
          29,
          30,
          31,
          32,
          33,
          34,
          35,
          36,
          37,
          38,
          39,
          40,
          41,
          42,
          43,
          44,
          45,
          46,
          47,
          48,
          49,
          50,
          51,
          52,
          53,
          54,
          55,
          56,
          57,
          58,
          59,
          60,
          61,
          62,
          63,
          64,
          65,
          66,
          67,
          68,
          69,
          70,
          71,
          72,
          73,
          74,
          75,
          76,
          77,
          78,
          79,
          80,
          81,
          82,
          83,
          84,
          85,
          86,
          87,
          88,
          89,
          90,
          91,
          92,
          93,
          94,
          95,
          96,
          97,
          98,
          99,
          100
         ],
         "y": [
          0,
          0.0099,
          0.0196,
          0.029099999999999997,
          0.0384,
          0.0475,
          0.05639999999999999,
          0.0651,
          0.0736,
          0.0819,
          0.09000000000000001,
          0.0979,
          0.1056,
          0.1131,
          0.12040000000000001,
          0.1275,
          0.1344,
          0.1411,
          0.14759999999999998,
          0.1539,
          0.16000000000000003,
          0.1659,
          0.1716,
          0.1771,
          0.1824,
          0.1875,
          0.19240000000000002,
          0.1971,
          0.2016,
          0.20589999999999997,
          0.21,
          0.21389999999999998,
          0.21760000000000002,
          0.22110000000000002,
          0.22440000000000002,
          0.22749999999999998,
          0.2304,
          0.2331,
          0.2356,
          0.2379,
          0.24,
          0.24189999999999998,
          0.24359999999999998,
          0.24509999999999998,
          0.24640000000000004,
          0.24750000000000003,
          0.24840000000000004,
          0.2491,
          0.2496,
          0.2499,
          0.25,
          0.2499,
          0.2496,
          0.2491,
          0.24840000000000004,
          0.24750000000000003,
          0.24640000000000004,
          0.24509999999999998,
          0.24359999999999998,
          0.24189999999999998,
          0.24,
          0.2379,
          0.2356,
          0.2331,
          0.2304,
          0.22749999999999998,
          0.22440000000000002,
          0.22110000000000002,
          0.21760000000000002,
          0.21389999999999998,
          0.21,
          0.20589999999999997,
          0.2016,
          0.1971,
          0.19240000000000002,
          0.1875,
          0.1824,
          0.1771,
          0.1716,
          0.1659,
          0.16000000000000003,
          0.1539,
          0.14759999999999998,
          0.1411,
          0.1344,
          0.1275,
          0.12040000000000001,
          0.1131,
          0.1056,
          0.0979,
          0.09000000000000001,
          0.0819,
          0.0736,
          0.0651,
          0.05639999999999999,
          0.0475,
          0.0384,
          0.029099999999999997,
          0.0196,
          0.0099,
          0
         ]
        },
        {
         "line": {
          "color": "red"
         },
         "mode": "lines",
         "name": "WT->A",
         "type": "scatter",
         "x": [
          0,
          1,
          2,
          3,
          4,
          5,
          6,
          7,
          8,
          9,
          10,
          11,
          12,
          13,
          14,
          15,
          16,
          17,
          18,
          19,
          20,
          21,
          22,
          23,
          24,
          25,
          26,
          27,
          28,
          29,
          30,
          31,
          32,
          33,
          34,
          35,
          36,
          37,
          38,
          39,
          40,
          41,
          42,
          43,
          44,
          45,
          46,
          47,
          48,
          49,
          50,
          51,
          52,
          53,
          54,
          55,
          56,
          57,
          58,
          59,
          60,
          61,
          62,
          63,
          64,
          65,
          66,
          67,
          68,
          69,
          70,
          71,
          72,
          73,
          74,
          75,
          76,
          77,
          78,
          79,
          80,
          81,
          82,
          83,
          84,
          85,
          86,
          87,
          88,
          89,
          90,
          91,
          92,
          93,
          94,
          95,
          96,
          97,
          98,
          99,
          100
         ],
         "y": [
          0,
          0.0099,
          0.0196,
          0.029099999999999997,
          0.0384,
          0.0475,
          0.05639999999999999,
          0.0651,
          0.0736,
          0.0819,
          0.09000000000000001,
          0.0979,
          0.1056,
          0.1131,
          0.12040000000000001,
          0.1275,
          0.1344,
          0.1411,
          0.14759999999999998,
          0.1539,
          0.16000000000000003,
          0.1659,
          0.1716,
          0.1771,
          0.1824,
          0.1875,
          0.19240000000000002,
          0.1971,
          0.2016,
          0.20589999999999997,
          0.21,
          0.21389999999999998,
          0.21760000000000002,
          0.22110000000000002,
          0.22440000000000002,
          0.22749999999999998,
          0.2304,
          0.2331,
          0.2356,
          0.2379,
          0.24,
          0.24189999999999998,
          0.24359999999999998,
          0.24509999999999998,
          0.24640000000000004,
          0.24750000000000003,
          0.24840000000000004,
          0.2491,
          0.2496,
          0.2499,
          0.25,
          0.2499,
          0.2496,
          0.2491,
          0.24840000000000004,
          0.24750000000000003,
          0.24640000000000004,
          0.24509999999999998,
          0.24359999999999998,
          0.24189999999999998,
          0.24,
          0.2379,
          0.2356,
          0.2331,
          0.2304,
          0.22749999999999998,
          0.22440000000000002,
          0.22110000000000002,
          0.21760000000000002,
          0.21389999999999998,
          0.21,
          0.20589999999999997,
          0.2016,
          0.1971,
          0.19240000000000002,
          0.1875,
          0.1824,
          0.1771,
          0.1716,
          0.1659,
          0.16000000000000003,
          0.1539,
          0.14759999999999998,
          0.1411,
          0.1344,
          0.1275,
          0.12040000000000001,
          0.1131,
          0.1056,
          0.0979,
          0.09000000000000001,
          0.0819,
          0.0736,
          0.0651,
          0.05639999999999999,
          0.0475,
          0.0384,
          0.029099999999999997,
          0.0196,
          0.0099,
          0
         ]
        }
       ],
       "layout": {
        "height": 600,
        "plot_bgcolor": "white",
        "template": {
         "data": {
          "bar": [
           {
            "error_x": {
             "color": "#2a3f5f"
            },
            "error_y": {
             "color": "#2a3f5f"
            },
            "marker": {
             "line": {
              "color": "#E5ECF6",
              "width": 0.5
             }
            },
            "type": "bar"
           }
          ],
          "barpolar": [
           {
            "marker": {
             "line": {
              "color": "#E5ECF6",
              "width": 0.5
             }
            },
            "type": "barpolar"
           }
          ],
          "carpet": [
           {
            "aaxis": {
             "endlinecolor": "#2a3f5f",
             "gridcolor": "white",
             "linecolor": "white",
             "minorgridcolor": "white",
             "startlinecolor": "#2a3f5f"
            },
            "baxis": {
             "endlinecolor": "#2a3f5f",
             "gridcolor": "white",
             "linecolor": "white",
             "minorgridcolor": "white",
             "startlinecolor": "#2a3f5f"
            },
            "type": "carpet"
           }
          ],
          "choropleth": [
           {
            "colorbar": {
             "outlinewidth": 0,
             "ticks": ""
            },
            "type": "choropleth"
           }
          ],
          "contour": [
           {
            "colorbar": {
             "outlinewidth": 0,
             "ticks": ""
            },
            "colorscale": [
             [
              0,
              "#0d0887"
             ],
             [
              0.1111111111111111,
              "#46039f"
             ],
             [
              0.2222222222222222,
              "#7201a8"
             ],
             [
              0.3333333333333333,
              "#9c179e"
             ],
             [
              0.4444444444444444,
              "#bd3786"
             ],
             [
              0.5555555555555556,
              "#d8576b"
             ],
             [
              0.6666666666666666,
              "#ed7953"
             ],
             [
              0.7777777777777778,
              "#fb9f3a"
             ],
             [
              0.8888888888888888,
              "#fdca26"
             ],
             [
              1,
              "#f0f921"
             ]
            ],
            "type": "contour"
           }
          ],
          "contourcarpet": [
           {
            "colorbar": {
             "outlinewidth": 0,
             "ticks": ""
            },
            "type": "contourcarpet"
           }
          ],
          "heatmap": [
           {
            "colorbar": {
             "outlinewidth": 0,
             "ticks": ""
            },
            "colorscale": [
             [
              0,
              "#0d0887"
             ],
             [
              0.1111111111111111,
              "#46039f"
             ],
             [
              0.2222222222222222,
              "#7201a8"
             ],
             [
              0.3333333333333333,
              "#9c179e"
             ],
             [
              0.4444444444444444,
              "#bd3786"
             ],
             [
              0.5555555555555556,
              "#d8576b"
             ],
             [
              0.6666666666666666,
              "#ed7953"
             ],
             [
              0.7777777777777778,
              "#fb9f3a"
             ],
             [
              0.8888888888888888,
              "#fdca26"
             ],
             [
              1,
              "#f0f921"
             ]
            ],
            "type": "heatmap"
           }
          ],
          "heatmapgl": [
           {
            "colorbar": {
             "outlinewidth": 0,
             "ticks": ""
            },
            "colorscale": [
             [
              0,
              "#0d0887"
             ],
             [
              0.1111111111111111,
              "#46039f"
             ],
             [
              0.2222222222222222,
              "#7201a8"
             ],
             [
              0.3333333333333333,
              "#9c179e"
             ],
             [
              0.4444444444444444,
              "#bd3786"
             ],
             [
              0.5555555555555556,
              "#d8576b"
             ],
             [
              0.6666666666666666,
              "#ed7953"
             ],
             [
              0.7777777777777778,
              "#fb9f3a"
             ],
             [
              0.8888888888888888,
              "#fdca26"
             ],
             [
              1,
              "#f0f921"
             ]
            ],
            "type": "heatmapgl"
           }
          ],
          "histogram": [
           {
            "marker": {
             "colorbar": {
              "outlinewidth": 0,
              "ticks": ""
             }
            },
            "type": "histogram"
           }
          ],
          "histogram2d": [
           {
            "colorbar": {
             "outlinewidth": 0,
             "ticks": ""
            },
            "colorscale": [
             [
              0,
              "#0d0887"
             ],
             [
              0.1111111111111111,
              "#46039f"
             ],
             [
              0.2222222222222222,
              "#7201a8"
             ],
             [
              0.3333333333333333,
              "#9c179e"
             ],
             [
              0.4444444444444444,
              "#bd3786"
             ],
             [
              0.5555555555555556,
              "#d8576b"
             ],
             [
              0.6666666666666666,
              "#ed7953"
             ],
             [
              0.7777777777777778,
              "#fb9f3a"
             ],
             [
              0.8888888888888888,
              "#fdca26"
             ],
             [
              1,
              "#f0f921"
             ]
            ],
            "type": "histogram2d"
           }
          ],
          "histogram2dcontour": [
           {
            "colorbar": {
             "outlinewidth": 0,
             "ticks": ""
            },
            "colorscale": [
             [
              0,
              "#0d0887"
             ],
             [
              0.1111111111111111,
              "#46039f"
             ],
             [
              0.2222222222222222,
              "#7201a8"
             ],
             [
              0.3333333333333333,
              "#9c179e"
             ],
             [
              0.4444444444444444,
              "#bd3786"
             ],
             [
              0.5555555555555556,
              "#d8576b"
             ],
             [
              0.6666666666666666,
              "#ed7953"
             ],
             [
              0.7777777777777778,
              "#fb9f3a"
             ],
             [
              0.8888888888888888,
              "#fdca26"
             ],
             [
              1,
              "#f0f921"
             ]
            ],
            "type": "histogram2dcontour"
           }
          ],
          "mesh3d": [
           {
            "colorbar": {
             "outlinewidth": 0,
             "ticks": ""
            },
            "type": "mesh3d"
           }
          ],
          "parcoords": [
           {
            "line": {
             "colorbar": {
              "outlinewidth": 0,
              "ticks": ""
             }
            },
            "type": "parcoords"
           }
          ],
          "pie": [
           {
            "automargin": true,
            "type": "pie"
           }
          ],
          "scatter": [
           {
            "marker": {
             "colorbar": {
              "outlinewidth": 0,
              "ticks": ""
             }
            },
            "type": "scatter"
           }
          ],
          "scatter3d": [
           {
            "line": {
             "colorbar": {
              "outlinewidth": 0,
              "ticks": ""
             }
            },
            "marker": {
             "colorbar": {
              "outlinewidth": 0,
              "ticks": ""
             }
            },
            "type": "scatter3d"
           }
          ],
          "scattercarpet": [
           {
            "marker": {
             "colorbar": {
              "outlinewidth": 0,
              "ticks": ""
             }
            },
            "type": "scattercarpet"
           }
          ],
          "scattergeo": [
           {
            "marker": {
             "colorbar": {
              "outlinewidth": 0,
              "ticks": ""
             }
            },
            "type": "scattergeo"
           }
          ],
          "scattergl": [
           {
            "marker": {
             "colorbar": {
              "outlinewidth": 0,
              "ticks": ""
             }
            },
            "type": "scattergl"
           }
          ],
          "scattermapbox": [
           {
            "marker": {
             "colorbar": {
              "outlinewidth": 0,
              "ticks": ""
             }
            },
            "type": "scattermapbox"
           }
          ],
          "scatterpolar": [
           {
            "marker": {
             "colorbar": {
              "outlinewidth": 0,
              "ticks": ""
             }
            },
            "type": "scatterpolar"
           }
          ],
          "scatterpolargl": [
           {
            "marker": {
             "colorbar": {
              "outlinewidth": 0,
              "ticks": ""
             }
            },
            "type": "scatterpolargl"
           }
          ],
          "scatterternary": [
           {
            "marker": {
             "colorbar": {
              "outlinewidth": 0,
              "ticks": ""
             }
            },
            "type": "scatterternary"
           }
          ],
          "surface": [
           {
            "colorbar": {
             "outlinewidth": 0,
             "ticks": ""
            },
            "colorscale": [
             [
              0,
              "#0d0887"
             ],
             [
              0.1111111111111111,
              "#46039f"
             ],
             [
              0.2222222222222222,
              "#7201a8"
             ],
             [
              0.3333333333333333,
              "#9c179e"
             ],
             [
              0.4444444444444444,
              "#bd3786"
             ],
             [
              0.5555555555555556,
              "#d8576b"
             ],
             [
              0.6666666666666666,
              "#ed7953"
             ],
             [
              0.7777777777777778,
              "#fb9f3a"
             ],
             [
              0.8888888888888888,
              "#fdca26"
             ],
             [
              1,
              "#f0f921"
             ]
            ],
            "type": "surface"
           }
          ],
          "table": [
           {
            "cells": {
             "fill": {
              "color": "#EBF0F8"
             },
             "line": {
              "color": "white"
             }
            },
            "header": {
             "fill": {
              "color": "#C8D4E3"
             },
             "line": {
              "color": "white"
             }
            },
            "type": "table"
           }
          ]
         },
         "layout": {
          "annotationdefaults": {
           "arrowcolor": "#2a3f5f",
           "arrowhead": 0,
           "arrowwidth": 1
          },
          "autotypenumbers": "strict",
          "coloraxis": {
           "colorbar": {
            "outlinewidth": 0,
            "ticks": ""
           }
          },
          "colorscale": {
           "diverging": [
            [
             0,
             "#8e0152"
            ],
            [
             0.1,
             "#c51b7d"
            ],
            [
             0.2,
             "#de77ae"
            ],
            [
             0.3,
             "#f1b6da"
            ],
            [
             0.4,
             "#fde0ef"
            ],
            [
             0.5,
             "#f7f7f7"
            ],
            [
             0.6,
             "#e6f5d0"
            ],
            [
             0.7,
             "#b8e186"
            ],
            [
             0.8,
             "#7fbc41"
            ],
            [
             0.9,
             "#4d9221"
            ],
            [
             1,
             "#276419"
            ]
           ],
           "sequential": [
            [
             0,
             "#0d0887"
            ],
            [
             0.1111111111111111,
             "#46039f"
            ],
            [
             0.2222222222222222,
             "#7201a8"
            ],
            [
             0.3333333333333333,
             "#9c179e"
            ],
            [
             0.4444444444444444,
             "#bd3786"
            ],
            [
             0.5555555555555556,
             "#d8576b"
            ],
            [
             0.6666666666666666,
             "#ed7953"
            ],
            [
             0.7777777777777778,
             "#fb9f3a"
            ],
            [
             0.8888888888888888,
             "#fdca26"
            ],
            [
             1,
             "#f0f921"
            ]
           ],
           "sequentialminus": [
            [
             0,
             "#0d0887"
            ],
            [
             0.1111111111111111,
             "#46039f"
            ],
            [
             0.2222222222222222,
             "#7201a8"
            ],
            [
             0.3333333333333333,
             "#9c179e"
            ],
            [
             0.4444444444444444,
             "#bd3786"
            ],
            [
             0.5555555555555556,
             "#d8576b"
            ],
            [
             0.6666666666666666,
             "#ed7953"
            ],
            [
             0.7777777777777778,
             "#fb9f3a"
            ],
            [
             0.8888888888888888,
             "#fdca26"
            ],
            [
             1,
             "#f0f921"
            ]
           ]
          },
          "colorway": [
           "#636efa",
           "#EF553B",
           "#00cc96",
           "#ab63fa",
           "#FFA15A",
           "#19d3f3",
           "#FF6692",
           "#B6E880",
           "#FF97FF",
           "#FECB52"
          ],
          "font": {
           "color": "#2a3f5f"
          },
          "geo": {
           "bgcolor": "white",
           "lakecolor": "white",
           "landcolor": "#E5ECF6",
           "showlakes": true,
           "showland": true,
           "subunitcolor": "white"
          },
          "hoverlabel": {
           "align": "left"
          },
          "hovermode": "closest",
          "mapbox": {
           "style": "light"
          },
          "paper_bgcolor": "white",
          "plot_bgcolor": "#E5ECF6",
          "polar": {
           "angularaxis": {
            "gridcolor": "white",
            "linecolor": "white",
            "ticks": ""
           },
           "bgcolor": "#E5ECF6",
           "radialaxis": {
            "gridcolor": "white",
            "linecolor": "white",
            "ticks": ""
           }
          },
          "scene": {
           "xaxis": {
            "backgroundcolor": "#E5ECF6",
            "gridcolor": "white",
            "gridwidth": 2,
            "linecolor": "white",
            "showbackground": true,
            "ticks": "",
            "zerolinecolor": "white"
           },
           "yaxis": {
            "backgroundcolor": "#E5ECF6",
            "gridcolor": "white",
            "gridwidth": 2,
            "linecolor": "white",
            "showbackground": true,
            "ticks": "",
            "zerolinecolor": "white"
           },
           "zaxis": {
            "backgroundcolor": "#E5ECF6",
            "gridcolor": "white",
            "gridwidth": 2,
            "linecolor": "white",
            "showbackground": true,
            "ticks": "",
            "zerolinecolor": "white"
           }
          },
          "shapedefaults": {
           "line": {
            "color": "#2a3f5f"
           }
          },
          "ternary": {
           "aaxis": {
            "gridcolor": "white",
            "linecolor": "white",
            "ticks": ""
           },
           "baxis": {
            "gridcolor": "white",
            "linecolor": "white",
            "ticks": ""
           },
           "bgcolor": "#E5ECF6",
           "caxis": {
            "gridcolor": "white",
            "linecolor": "white",
            "ticks": ""
           }
          },
          "title": {
           "x": 0.05
          },
          "xaxis": {
           "automargin": true,
           "gridcolor": "white",
           "linecolor": "white",
           "ticks": "",
           "title": {
            "standoff": 15
           },
           "zerolinecolor": "white",
           "zerolinewidth": 2
          },
          "yaxis": {
           "automargin": true,
           "gridcolor": "white",
           "linecolor": "white",
           "ticks": "",
           "title": {
            "standoff": 15
           },
           "zerolinecolor": "white",
           "zerolinewidth": 2
          }
         }
        },
        "title": {
         "text": "Transition probabilities for edge case with no B cells"
        },
        "width": 1000,
        "xaxis": {
         "linecolor": "black"
        },
        "yaxis": {
         "linecolor": "black"
        }
       }
      }
     },
     "metadata": {}
    }
   ],
   "source": [
    "# Trace names - represent the transition probabilities used for the simulation\n",
    "trace_name = ['A->WT', 'WT->A']\n",
    "\n",
    "fig = go.Figure()\n",
    "\n",
    "# Add traces of the transition probabilities\n",
    "for c in range(trans_prob.shape[1]):\n",
    "    fig.add_trace(\n",
    "        go.Scatter(\n",
    "            y=trans_prob[:, c],\n",
    "            x=list(range(sep_algo.N+1)),\n",
    "            mode='lines',\n",
    "            name=trace_name[c],\n",
    "            line_color=colours[c]\n",
    "        )\n",
    "    )\n",
    "\n",
    "fig.update_layout(\n",
    "    title='Transition probabilities for edge case with no B cells',\n",
    "    width=1000, \n",
    "    height=600,\n",
    "    plot_bgcolor='white',\n",
    "    xaxis=dict(linecolor='black'),\n",
    "    yaxis=dict(linecolor='black'),\n",
    "    )"
   ]
  },
  {
   "source": [
    "## No selectional advatange + No mutation\n",
    "\n",
    "### Start from 1/2 and 1/2 WT ws A"
   ],
   "cell_type": "markdown",
   "metadata": {}
  },
  {
   "cell_type": "code",
   "execution_count": 9,
   "metadata": {},
   "outputs": [],
   "source": [
    "# Set initial population state WT - A - B\n",
    "initial_population = [50, 50, 0]\n",
    "\n",
    "# Set baseline growth rate\n",
    "alpha = 1\n",
    "\n",
    "# Set selectional advantages for mutated cells\n",
    "s = 0.1\n",
    "r = 0\n",
    "\n",
    "# Set mutation rates\n",
    "mu_A = 0\n",
    "mu_B = 0\n",
    "\n",
    "# Coalesce into paramater vector\n",
    "parameters = initial_population\n",
    "parameters.extend([alpha, s, r, mu_A, mu_B])"
   ]
  },
  {
   "cell_type": "code",
   "execution_count": 10,
   "metadata": {},
   "outputs": [
    {
     "output_type": "stream",
     "name": "stdout",
     "text": [
      "Average time to illness:  3283.322\nProbability of fixation of cell type A:  0.992\n"
     ]
    }
   ],
   "source": [
    "# Instantiate algorithm\n",
    "algorithm = ci.StemGillespie()\n",
    "\n",
    "# Select number of simulations\n",
    "num_simulations = 1000\n",
    "\n",
    "computation_time = np.empty(num_simulations, dtype=np.int)\n",
    "fixed_state = np.empty((num_simulations), dtype=np.str)\n",
    "\n",
    "for sim in range(num_simulations):\n",
    "    computation_time[sim], fixed_state[sim] = algorithm.simulate_fixation(parameters)\n",
    "\n",
    "mean_computation_time = np.mean(computation_time)\n",
    "prob_fix = (fixed_state == 'A').sum()/num_simulations\n",
    "\n",
    "print('Average time to illness: ', mean_computation_time)\n",
    "print('Probability of fixation of cell type A: ', prob_fix)"
   ]
  },
  {
   "source": [
    "### Start from 1 A vs all other WT"
   ],
   "cell_type": "markdown",
   "metadata": {}
  },
  {
   "cell_type": "code",
   "execution_count": 11,
   "metadata": {},
   "outputs": [],
   "source": [
    "# Set initial population state WT - A - B\n",
    "initial_population = [99, 1, 0]\n",
    "\n",
    "# Set baseline growth rate\n",
    "alpha = 1\n",
    "\n",
    "# Set selectional advantages for mutated cells\n",
    "s = 0.1\n",
    "r = 0\n",
    "\n",
    "# Set mutation rates\n",
    "mu_A = 0\n",
    "mu_B = 0\n",
    "\n",
    "# Coalesce into paramater vector\n",
    "parameters = initial_population\n",
    "parameters.extend([alpha, s, r, mu_A, mu_B])"
   ]
  },
  {
   "source": [
    "### Plot transition probability curves"
   ],
   "cell_type": "markdown",
   "metadata": {}
  },
  {
   "cell_type": "code",
   "execution_count": 12,
   "metadata": {},
   "outputs": [],
   "source": [
    "# Plot transition probabilities\n",
    "sep_algo = ci.StemGillespie()\n",
    "\n",
    "sep_algo.N = int(np.sum(np.asarray(initial_population)))\n",
    "\n",
    "sep_algo.alpha_A = alpha + s\n",
    "sep_algo.alpha_B = alpha + r\n",
    "sep_algo.alpha_WT = alpha\n",
    "\n",
    "sep_algo.mu_A = mu_A\n",
    "sep_algo.mu_B = mu_B\n",
    "\n",
    "# Assuming no Bs in the population\n",
    "trans_prob = np.empty((sep_algo.N+1, 2))\n",
    "\n",
    "for i in range(sep_algo.N+1):\n",
    "    trans_prob[i, 0] = sep_algo._prob_A_to_WT(i, sep_algo.N - i, 0)\n",
    "    trans_prob[i, 1] = sep_algo._prob_WT_to_A(i, sep_algo.N - i, 0)"
   ]
  },
  {
   "cell_type": "code",
   "execution_count": 13,
   "metadata": {},
   "outputs": [
    {
     "output_type": "display_data",
     "data": {
      "application/vnd.plotly.v1+json": {
       "config": {
        "plotlyServerURL": "https://plot.ly"
       },
       "data": [
        {
         "line": {
          "color": "blue"
         },
         "mode": "lines",
         "name": "A->WT",
         "type": "scatter",
         "x": [
          0,
          1,
          2,
          3,
          4,
          5,
          6,
          7,
          8,
          9,
          10,
          11,
          12,
          13,
          14,
          15,
          16,
          17,
          18,
          19,
          20,
          21,
          22,
          23,
          24,
          25,
          26,
          27,
          28,
          29,
          30,
          31,
          32,
          33,
          34,
          35,
          36,
          37,
          38,
          39,
          40,
          41,
          42,
          43,
          44,
          45,
          46,
          47,
          48,
          49,
          50,
          51,
          52,
          53,
          54,
          55,
          56,
          57,
          58,
          59,
          60,
          61,
          62,
          63,
          64,
          65,
          66,
          67,
          68,
          69,
          70,
          71,
          72,
          73,
          74,
          75,
          76,
          77,
          78,
          79,
          80,
          81,
          82,
          83,
          84,
          85,
          86,
          87,
          88,
          89,
          90,
          91,
          92,
          93,
          94,
          95,
          96,
          97,
          98,
          99,
          100,
          101
         ],
         "y": [
          0,
          0.008919810900008918,
          0.017677150943227776,
          0.026271580226614716,
          0.03470265725759567,
          0.0429699389468784,
          0.05107298060122754,
          0.05901133591620031,
          0.06678455696884283,
          0.07439219421034662,
          0.08183379645866494,
          0.0891089108910891,
          0.09621708303678411,
          0.10315785676928348,
          0.1099307742989431,
          0.11653537616535375,
          0.122971201229712,
          0.12923778666714933,
          0.13533466795901913,
          0.14126137888514126,
          0.14701745151600404,
          0.15260241620492326,
          0.15801580158015802,
          0.1632571345369831,
          0.16832594022971756,
          0.17322174206370913,
          0.1779440616872747,
          0.18249241898359575,
          0.1868663320625691,
          0.1910653172526125,
          0.19508888909242447,
          0.1989365603226989,
          0.20260784187779296,
          0.20610224287734893,
          0.20941927061786958,
          0.21255843056424603,
          0.21551922634123877,
          0.21830115972491101,
          0.22090373063401397,
          0.22332643712132405,
          0.22556877536493142,
          0.22763023965947995,
          0.22951032240735766,
          0.23120851410983792,
          0.23272430335817085,
          0.2340571768246243,
          0.23520661925347466,
          0.2361721134519467,
          0.23695314028110243,
          0.23754917864667824,
          0.2379597054898704,
          0.23818419577806837,
          0.23822212249553565,
          0.23807295663403763,
          0.23773616718341656,
          0.23721122112211224,
          0.23649758340762989,
          0.23559471696695286,
          0.23450208268690112,
          0.23321913940443473,
          0.23174534389690163,
          0.2300801508722301,
          0.2282230129590652,
          0.22617338069684828,
          0.22393070252584,
          0.22149442477708575,
          0.2188639916623241,
          0.21603884526383674,
          0.21301842552423986,
          0.20980217023621747,
          0.20638951503219488,
          0.20277989337395277,
          0.19897273654218164,
          0.19496747362597533,
          0.19076353151226408,
          0.18636033487518636,
          0.18175730616539915,
          0.17695386559932588,
          0.17194943114834232,
          0.1667434185278993,
          0.1613352411865823,
          0.1557243102951072,
          0.14991003473525194,
          0.14389182108872364,
          0.13766907362596045,
          0.13124119429486808,
          0.12460758270949045,
          0.11776763613861387,
          0.11072074949430427,
          0.10346631532037744,
          0.0960037237808012,
          0.08833236264802952,
          0.08045161729126789,
          0.07236087066466962,
          0.0640595032954623,
          0.05554689327200436,
          0.04682241623177096,
          0.03788544534926865,
          0.028735351323878684,
          0.01937150236762807,
          0.009793264192888132,
          0
         ]
        },
        {
         "line": {
          "color": "red"
         },
         "mode": "lines",
         "name": "WT->A",
         "type": "scatter",
         "x": [
          0,
          1,
          2,
          3,
          4,
          5,
          6,
          7,
          8,
          9,
          10,
          11,
          12,
          13,
          14,
          15,
          16,
          17,
          18,
          19,
          20,
          21,
          22,
          23,
          24,
          25,
          26,
          27,
          28,
          29,
          30,
          31,
          32,
          33,
          34,
          35,
          36,
          37,
          38,
          39,
          40,
          41,
          42,
          43,
          44,
          45,
          46,
          47,
          48,
          49,
          50,
          51,
          52,
          53,
          54,
          55,
          56,
          57,
          58,
          59,
          60,
          61,
          62,
          63,
          64,
          65,
          66,
          67,
          68,
          69,
          70,
          71,
          72,
          73,
          74,
          75,
          76,
          77,
          78,
          79,
          80,
          81,
          82,
          83,
          84,
          85,
          86,
          87,
          88,
          89,
          90,
          91,
          92,
          93,
          94,
          95,
          96,
          97,
          98,
          99,
          100,
          101
         ],
         "y": [
          0,
          0.009811791990009812,
          0.019444866037550555,
          0.028898738249276187,
          0.03817292298335525,
          0.04726693284156625,
          0.056180278661350294,
          0.06491246950782036,
          0.07346301266572713,
          0.08183141363138129,
          0.09001717610453144,
          0.09801980198019802,
          0.10583879134046252,
          0.11347364244621184,
          0.12092385172883743,
          0.12818891378188912,
          0.1352683213526832,
          0.1421615653338643,
          0.14886813475492106,
          0.15538751677365537,
          0.16171919666760445,
          0.16786265782541557,
          0.17381738173817382,
          0.17958284799068142,
          0.1851585342526893,
          0.19054391627008005,
          0.1957384678560022,
          0.20074166088195539,
          0.20555296526882608,
          0.21017184897787375,
          0.21459777800166696,
          0.2188302163549688,
          0.22286862606557226,
          0.22671246716508386,
          0.23036119767965654,
          0.23381427362067062,
          0.23707114897536263,
          0.24013127569740214,
          0.24299410369741542,
          0.24565908083345647,
          0.2481256529014246,
          0.25039326362542796,
          0.25246135464809344,
          0.25432936552082175,
          0.25599673369398795,
          0.25746289450708676,
          0.25872728117882215,
          0.2597893247971414,
          0.26064845430921263,
          0.261304096511346,
          0.26175567603885747,
          0.26200261535587527,
          0.26204433474508926,
          0.2618802522974415,
          0.2615097839017582,
          0.26093234323432346,
          0.26014734174839294,
          0.25915418866364814,
          0.25795229095559125,
          0.2565410533448782,
          0.2549198782865918,
          0.2530881659594531,
          0.2510453142549718,
          0.24879071876653314,
          0.246323772778424,
          0.24364386725479434,
          0.24075039082855654,
          0.23764272979022044,
          0.23432026807666384,
          0.23078238725983924,
          0.22702846653541436,
          0.22305788271134802,
          0.2188700101963998,
          0.21446422098857282,
          0.20983988466349046,
          0.204996368362705,
          0.19993303678193908,
          0.19464925215925846,
          0.18914437426317657,
          0.18341776038068927,
          0.17746876530524053,
          0.1712967413246179,
          0.16490103820877716,
          0.15828100319759603,
          0.1514359809885565,
          0.1443653137243549,
          0.13706834098043952,
          0.12954439975247525,
          0.12179282444373471,
          0.1138129468524152,
          0.10560409615888133,
          0.09716559891283247,
          0.08849677902039468,
          0.07959695773113659,
          0.07046545362500853,
          0.061101582599204805,
          0.05150465785494806,
          0.04167398988419552,
          0.03160888645626656,
          0.021308652604390875,
          0.010772590612176947,
          0
         ]
        }
       ],
       "layout": {
        "height": 600,
        "plot_bgcolor": "white",
        "template": {
         "data": {
          "bar": [
           {
            "error_x": {
             "color": "#2a3f5f"
            },
            "error_y": {
             "color": "#2a3f5f"
            },
            "marker": {
             "line": {
              "color": "#E5ECF6",
              "width": 0.5
             }
            },
            "type": "bar"
           }
          ],
          "barpolar": [
           {
            "marker": {
             "line": {
              "color": "#E5ECF6",
              "width": 0.5
             }
            },
            "type": "barpolar"
           }
          ],
          "carpet": [
           {
            "aaxis": {
             "endlinecolor": "#2a3f5f",
             "gridcolor": "white",
             "linecolor": "white",
             "minorgridcolor": "white",
             "startlinecolor": "#2a3f5f"
            },
            "baxis": {
             "endlinecolor": "#2a3f5f",
             "gridcolor": "white",
             "linecolor": "white",
             "minorgridcolor": "white",
             "startlinecolor": "#2a3f5f"
            },
            "type": "carpet"
           }
          ],
          "choropleth": [
           {
            "colorbar": {
             "outlinewidth": 0,
             "ticks": ""
            },
            "type": "choropleth"
           }
          ],
          "contour": [
           {
            "colorbar": {
             "outlinewidth": 0,
             "ticks": ""
            },
            "colorscale": [
             [
              0,
              "#0d0887"
             ],
             [
              0.1111111111111111,
              "#46039f"
             ],
             [
              0.2222222222222222,
              "#7201a8"
             ],
             [
              0.3333333333333333,
              "#9c179e"
             ],
             [
              0.4444444444444444,
              "#bd3786"
             ],
             [
              0.5555555555555556,
              "#d8576b"
             ],
             [
              0.6666666666666666,
              "#ed7953"
             ],
             [
              0.7777777777777778,
              "#fb9f3a"
             ],
             [
              0.8888888888888888,
              "#fdca26"
             ],
             [
              1,
              "#f0f921"
             ]
            ],
            "type": "contour"
           }
          ],
          "contourcarpet": [
           {
            "colorbar": {
             "outlinewidth": 0,
             "ticks": ""
            },
            "type": "contourcarpet"
           }
          ],
          "heatmap": [
           {
            "colorbar": {
             "outlinewidth": 0,
             "ticks": ""
            },
            "colorscale": [
             [
              0,
              "#0d0887"
             ],
             [
              0.1111111111111111,
              "#46039f"
             ],
             [
              0.2222222222222222,
              "#7201a8"
             ],
             [
              0.3333333333333333,
              "#9c179e"
             ],
             [
              0.4444444444444444,
              "#bd3786"
             ],
             [
              0.5555555555555556,
              "#d8576b"
             ],
             [
              0.6666666666666666,
              "#ed7953"
             ],
             [
              0.7777777777777778,
              "#fb9f3a"
             ],
             [
              0.8888888888888888,
              "#fdca26"
             ],
             [
              1,
              "#f0f921"
             ]
            ],
            "type": "heatmap"
           }
          ],
          "heatmapgl": [
           {
            "colorbar": {
             "outlinewidth": 0,
             "ticks": ""
            },
            "colorscale": [
             [
              0,
              "#0d0887"
             ],
             [
              0.1111111111111111,
              "#46039f"
             ],
             [
              0.2222222222222222,
              "#7201a8"
             ],
             [
              0.3333333333333333,
              "#9c179e"
             ],
             [
              0.4444444444444444,
              "#bd3786"
             ],
             [
              0.5555555555555556,
              "#d8576b"
             ],
             [
              0.6666666666666666,
              "#ed7953"
             ],
             [
              0.7777777777777778,
              "#fb9f3a"
             ],
             [
              0.8888888888888888,
              "#fdca26"
             ],
             [
              1,
              "#f0f921"
             ]
            ],
            "type": "heatmapgl"
           }
          ],
          "histogram": [
           {
            "marker": {
             "colorbar": {
              "outlinewidth": 0,
              "ticks": ""
             }
            },
            "type": "histogram"
           }
          ],
          "histogram2d": [
           {
            "colorbar": {
             "outlinewidth": 0,
             "ticks": ""
            },
            "colorscale": [
             [
              0,
              "#0d0887"
             ],
             [
              0.1111111111111111,
              "#46039f"
             ],
             [
              0.2222222222222222,
              "#7201a8"
             ],
             [
              0.3333333333333333,
              "#9c179e"
             ],
             [
              0.4444444444444444,
              "#bd3786"
             ],
             [
              0.5555555555555556,
              "#d8576b"
             ],
             [
              0.6666666666666666,
              "#ed7953"
             ],
             [
              0.7777777777777778,
              "#fb9f3a"
             ],
             [
              0.8888888888888888,
              "#fdca26"
             ],
             [
              1,
              "#f0f921"
             ]
            ],
            "type": "histogram2d"
           }
          ],
          "histogram2dcontour": [
           {
            "colorbar": {
             "outlinewidth": 0,
             "ticks": ""
            },
            "colorscale": [
             [
              0,
              "#0d0887"
             ],
             [
              0.1111111111111111,
              "#46039f"
             ],
             [
              0.2222222222222222,
              "#7201a8"
             ],
             [
              0.3333333333333333,
              "#9c179e"
             ],
             [
              0.4444444444444444,
              "#bd3786"
             ],
             [
              0.5555555555555556,
              "#d8576b"
             ],
             [
              0.6666666666666666,
              "#ed7953"
             ],
             [
              0.7777777777777778,
              "#fb9f3a"
             ],
             [
              0.8888888888888888,
              "#fdca26"
             ],
             [
              1,
              "#f0f921"
             ]
            ],
            "type": "histogram2dcontour"
           }
          ],
          "mesh3d": [
           {
            "colorbar": {
             "outlinewidth": 0,
             "ticks": ""
            },
            "type": "mesh3d"
           }
          ],
          "parcoords": [
           {
            "line": {
             "colorbar": {
              "outlinewidth": 0,
              "ticks": ""
             }
            },
            "type": "parcoords"
           }
          ],
          "pie": [
           {
            "automargin": true,
            "type": "pie"
           }
          ],
          "scatter": [
           {
            "marker": {
             "colorbar": {
              "outlinewidth": 0,
              "ticks": ""
             }
            },
            "type": "scatter"
           }
          ],
          "scatter3d": [
           {
            "line": {
             "colorbar": {
              "outlinewidth": 0,
              "ticks": ""
             }
            },
            "marker": {
             "colorbar": {
              "outlinewidth": 0,
              "ticks": ""
             }
            },
            "type": "scatter3d"
           }
          ],
          "scattercarpet": [
           {
            "marker": {
             "colorbar": {
              "outlinewidth": 0,
              "ticks": ""
             }
            },
            "type": "scattercarpet"
           }
          ],
          "scattergeo": [
           {
            "marker": {
             "colorbar": {
              "outlinewidth": 0,
              "ticks": ""
             }
            },
            "type": "scattergeo"
           }
          ],
          "scattergl": [
           {
            "marker": {
             "colorbar": {
              "outlinewidth": 0,
              "ticks": ""
             }
            },
            "type": "scattergl"
           }
          ],
          "scattermapbox": [
           {
            "marker": {
             "colorbar": {
              "outlinewidth": 0,
              "ticks": ""
             }
            },
            "type": "scattermapbox"
           }
          ],
          "scatterpolar": [
           {
            "marker": {
             "colorbar": {
              "outlinewidth": 0,
              "ticks": ""
             }
            },
            "type": "scatterpolar"
           }
          ],
          "scatterpolargl": [
           {
            "marker": {
             "colorbar": {
              "outlinewidth": 0,
              "ticks": ""
             }
            },
            "type": "scatterpolargl"
           }
          ],
          "scatterternary": [
           {
            "marker": {
             "colorbar": {
              "outlinewidth": 0,
              "ticks": ""
             }
            },
            "type": "scatterternary"
           }
          ],
          "surface": [
           {
            "colorbar": {
             "outlinewidth": 0,
             "ticks": ""
            },
            "colorscale": [
             [
              0,
              "#0d0887"
             ],
             [
              0.1111111111111111,
              "#46039f"
             ],
             [
              0.2222222222222222,
              "#7201a8"
             ],
             [
              0.3333333333333333,
              "#9c179e"
             ],
             [
              0.4444444444444444,
              "#bd3786"
             ],
             [
              0.5555555555555556,
              "#d8576b"
             ],
             [
              0.6666666666666666,
              "#ed7953"
             ],
             [
              0.7777777777777778,
              "#fb9f3a"
             ],
             [
              0.8888888888888888,
              "#fdca26"
             ],
             [
              1,
              "#f0f921"
             ]
            ],
            "type": "surface"
           }
          ],
          "table": [
           {
            "cells": {
             "fill": {
              "color": "#EBF0F8"
             },
             "line": {
              "color": "white"
             }
            },
            "header": {
             "fill": {
              "color": "#C8D4E3"
             },
             "line": {
              "color": "white"
             }
            },
            "type": "table"
           }
          ]
         },
         "layout": {
          "annotationdefaults": {
           "arrowcolor": "#2a3f5f",
           "arrowhead": 0,
           "arrowwidth": 1
          },
          "autotypenumbers": "strict",
          "coloraxis": {
           "colorbar": {
            "outlinewidth": 0,
            "ticks": ""
           }
          },
          "colorscale": {
           "diverging": [
            [
             0,
             "#8e0152"
            ],
            [
             0.1,
             "#c51b7d"
            ],
            [
             0.2,
             "#de77ae"
            ],
            [
             0.3,
             "#f1b6da"
            ],
            [
             0.4,
             "#fde0ef"
            ],
            [
             0.5,
             "#f7f7f7"
            ],
            [
             0.6,
             "#e6f5d0"
            ],
            [
             0.7,
             "#b8e186"
            ],
            [
             0.8,
             "#7fbc41"
            ],
            [
             0.9,
             "#4d9221"
            ],
            [
             1,
             "#276419"
            ]
           ],
           "sequential": [
            [
             0,
             "#0d0887"
            ],
            [
             0.1111111111111111,
             "#46039f"
            ],
            [
             0.2222222222222222,
             "#7201a8"
            ],
            [
             0.3333333333333333,
             "#9c179e"
            ],
            [
             0.4444444444444444,
             "#bd3786"
            ],
            [
             0.5555555555555556,
             "#d8576b"
            ],
            [
             0.6666666666666666,
             "#ed7953"
            ],
            [
             0.7777777777777778,
             "#fb9f3a"
            ],
            [
             0.8888888888888888,
             "#fdca26"
            ],
            [
             1,
             "#f0f921"
            ]
           ],
           "sequentialminus": [
            [
             0,
             "#0d0887"
            ],
            [
             0.1111111111111111,
             "#46039f"
            ],
            [
             0.2222222222222222,
             "#7201a8"
            ],
            [
             0.3333333333333333,
             "#9c179e"
            ],
            [
             0.4444444444444444,
             "#bd3786"
            ],
            [
             0.5555555555555556,
             "#d8576b"
            ],
            [
             0.6666666666666666,
             "#ed7953"
            ],
            [
             0.7777777777777778,
             "#fb9f3a"
            ],
            [
             0.8888888888888888,
             "#fdca26"
            ],
            [
             1,
             "#f0f921"
            ]
           ]
          },
          "colorway": [
           "#636efa",
           "#EF553B",
           "#00cc96",
           "#ab63fa",
           "#FFA15A",
           "#19d3f3",
           "#FF6692",
           "#B6E880",
           "#FF97FF",
           "#FECB52"
          ],
          "font": {
           "color": "#2a3f5f"
          },
          "geo": {
           "bgcolor": "white",
           "lakecolor": "white",
           "landcolor": "#E5ECF6",
           "showlakes": true,
           "showland": true,
           "subunitcolor": "white"
          },
          "hoverlabel": {
           "align": "left"
          },
          "hovermode": "closest",
          "mapbox": {
           "style": "light"
          },
          "paper_bgcolor": "white",
          "plot_bgcolor": "#E5ECF6",
          "polar": {
           "angularaxis": {
            "gridcolor": "white",
            "linecolor": "white",
            "ticks": ""
           },
           "bgcolor": "#E5ECF6",
           "radialaxis": {
            "gridcolor": "white",
            "linecolor": "white",
            "ticks": ""
           }
          },
          "scene": {
           "xaxis": {
            "backgroundcolor": "#E5ECF6",
            "gridcolor": "white",
            "gridwidth": 2,
            "linecolor": "white",
            "showbackground": true,
            "ticks": "",
            "zerolinecolor": "white"
           },
           "yaxis": {
            "backgroundcolor": "#E5ECF6",
            "gridcolor": "white",
            "gridwidth": 2,
            "linecolor": "white",
            "showbackground": true,
            "ticks": "",
            "zerolinecolor": "white"
           },
           "zaxis": {
            "backgroundcolor": "#E5ECF6",
            "gridcolor": "white",
            "gridwidth": 2,
            "linecolor": "white",
            "showbackground": true,
            "ticks": "",
            "zerolinecolor": "white"
           }
          },
          "shapedefaults": {
           "line": {
            "color": "#2a3f5f"
           }
          },
          "ternary": {
           "aaxis": {
            "gridcolor": "white",
            "linecolor": "white",
            "ticks": ""
           },
           "baxis": {
            "gridcolor": "white",
            "linecolor": "white",
            "ticks": ""
           },
           "bgcolor": "#E5ECF6",
           "caxis": {
            "gridcolor": "white",
            "linecolor": "white",
            "ticks": ""
           }
          },
          "title": {
           "x": 0.05
          },
          "xaxis": {
           "automargin": true,
           "gridcolor": "white",
           "linecolor": "white",
           "ticks": "",
           "title": {
            "standoff": 15
           },
           "zerolinecolor": "white",
           "zerolinewidth": 2
          },
          "yaxis": {
           "automargin": true,
           "gridcolor": "white",
           "linecolor": "white",
           "ticks": "",
           "title": {
            "standoff": 15
           },
           "zerolinecolor": "white",
           "zerolinewidth": 2
          }
         }
        },
        "title": {
         "text": "Transition probabilities for edge case with no B cells"
        },
        "width": 1000,
        "xaxis": {
         "linecolor": "black"
        },
        "yaxis": {
         "linecolor": "black"
        }
       }
      }
     },
     "metadata": {}
    }
   ],
   "source": [
    "# Trace names - represent the transition probabilities used for the simulation\n",
    "trace_name = ['A->WT', 'WT->A']\n",
    "\n",
    "fig = go.Figure()\n",
    "\n",
    "# Add traces of the transition probabilities\n",
    "for c in range(trans_prob.shape[1]):\n",
    "    fig.add_trace(\n",
    "        go.Scatter(\n",
    "            y=trans_prob[:, c],\n",
    "            x=list(range(sep_algo.N+1)),\n",
    "            mode='lines',\n",
    "            name=trace_name[c],\n",
    "            line_color=colours[c]\n",
    "        )\n",
    "    )\n",
    "\n",
    "fig.update_layout(\n",
    "    title='Transition probabilities for edge case with no B cells',\n",
    "    width=1000, \n",
    "    height=600,\n",
    "    plot_bgcolor='white',\n",
    "    xaxis=dict(linecolor='black'),\n",
    "    yaxis=dict(linecolor='black'),\n",
    "    )"
   ]
  }
 ]
}