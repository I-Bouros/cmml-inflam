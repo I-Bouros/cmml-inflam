{
 "metadata": {
  "language_info": {
   "codemirror_mode": {
    "name": "ipython",
    "version": 3
   },
   "file_extension": ".py",
   "mimetype": "text/x-python",
   "name": "python",
   "nbconvert_exporter": "python",
   "pygments_lexer": "ipython3",
   "version": "3.8.5"
  },
  "orig_nbformat": 2,
  "kernelspec": {
   "name": "python3",
   "display_name": "Python 3.8.5 64-bit ('base': conda)"
  },
  "metadata": {
   "interpreter": {
    "hash": "7812ea015bdcee6f23a998adcdd2ef97c151c0c241b7b7070987d9313e41299d"
   }
  },
  "interpreter": {
   "hash": "34783718b96b00301f03fbc7cc717743f1d89135027a4004f1427440c34696d4"
  }
 },
 "nbformat": 4,
 "nbformat_minor": 2,
 "cells": [
  {
   "cell_type": "markdown",
   "source": [
    "# STEM Cell Population Wright-Fisher Algorithm Fixation Analysis\n",
    "\n",
    "In this example notebook we present an example of how to forward simulate a population of STEM cells in the context of a fixed size tumor. We assume a constant number of cells in the population at all times -- only the counts of the different species of cells change in time:\n",
    "\n",
    "- wild type (WT)\n",
    "- with cell intrinsic mutations that increase fitness (A)\n",
    "- with mutations that give evolutionary advantage based on environmental factors such as level of cytokines (B).\n",
    "\n",
    "Fot the purposes of this notebook we consider the environmental conditions such that the B cells always have a selective advantage over their wilde type counterpart."
   ],
   "metadata": {}
  },
  {
   "cell_type": "code",
   "execution_count": 1,
   "source": [
    "# Load necessary libraries\n",
    "import os\n",
    "import numpy as np\n",
    "import pandas as pd\n",
    "from scipy.stats import gamma\n",
    "import cmmlinflam as ci\n",
    "import matplotlib\n",
    "import plotly.graph_objects as go\n",
    "from matplotlib import pyplot as plt"
   ],
   "outputs": [],
   "metadata": {}
  },
  {
   "cell_type": "markdown",
   "source": [
    "## Plot output of Wright-Fisher for the different species of cells"
   ],
   "metadata": {}
  },
  {
   "cell_type": "code",
   "execution_count": 2,
   "source": [
    "from plotly.subplots import make_subplots\n",
    "\n",
    "colours = ['blue', 'red', 'green', 'purple', 'orange', 'black', 'gray', 'pink']\n",
    "species = ['WT', 'A', 'B']"
   ],
   "outputs": [],
   "metadata": {}
  },
  {
   "cell_type": "markdown",
   "source": [
    "## Compute mean time to fixation and probability of fixation of A cells when no B are present"
   ],
   "metadata": {}
  },
  {
   "cell_type": "markdown",
   "source": [
    "## No selective advatange + No mutation\n",
    "\n",
    "### Start from 1/2 and 1/2 WT ws A"
   ],
   "metadata": {}
  },
  {
   "cell_type": "code",
   "execution_count": 3,
   "source": [
    "# Set initial population state WT - A - B\n",
    "initial_population = [50, 50, 0]\n",
    "\n",
    "# Set baseline growth rate\n",
    "alpha = 0.5\n",
    "\n",
    "# Set selective advantages for mutated cells\n",
    "s = 0\n",
    "r = 0\n",
    "\n",
    "# Set mutation rates\n",
    "mu_A = 0\n",
    "mu_B = 0\n",
    "\n",
    "# Coalesce into paramater vector\n",
    "parameters = initial_population\n",
    "parameters.extend([alpha, s, r, mu_A, mu_B])"
   ],
   "outputs": [],
   "metadata": {}
  },
  {
   "cell_type": "code",
   "execution_count": 4,
   "source": [
    "# Instantiate algorithm\n",
    "algorithm = ci.StemWF()\n",
    "\n",
    "# Select number of simulations\n",
    "num_simulations = 100000\n",
    "\n",
    "computation_time = np.empty(num_simulations, dtype=np.int)\n",
    "fixed_state = np.empty(num_simulations, dtype=np.str)\n",
    "\n",
    "for sim in range(num_simulations):\n",
    "    computation_time[sim], fixed_state[sim] = algorithm.simulate_fixation(parameters)\n",
    "\n",
    "mean_computation_time = np.mean(computation_time)\n",
    "prob_fix = (fixed_state == 'A').sum()/num_simulations\n",
    "\n",
    "mean_comp_time_fix_A = np.mean(computation_time[(fixed_state == 'A')])\n",
    "\n",
    "print('Average time to fixation: ', mean_computation_time)\n",
    "print('Probability of fixation of cell type A: ', prob_fix)\n",
    "print('Average time to illness when fixation at A: ', mean_comp_time_fix_A)"
   ],
   "outputs": [
    {
     "output_type": "stream",
     "name": "stdout",
     "text": [
      "Average time to fixation:  136.86899\n",
      "Probability of fixation of cell type A:  0.50281\n",
      "Average time to illness when fixation at A:  137.032020047334\n"
     ]
    }
   ],
   "metadata": {
    "tags": []
   }
  },
  {
   "cell_type": "markdown",
   "source": [
    "### Start from 1 A vs all other WT"
   ],
   "metadata": {}
  },
  {
   "cell_type": "code",
   "execution_count": 5,
   "source": [
    "# Set initial population state WT - A - B\n",
    "initial_population = [99, 1, 0]\n",
    "\n",
    "# Set baseline growth rate\n",
    "alpha = 0.5\n",
    "\n",
    "# Set selective advantages for mutated cells\n",
    "s = 0\n",
    "r = 0\n",
    "\n",
    "# Set mutation rates\n",
    "mu_A = 0\n",
    "mu_B = 0\n",
    "\n",
    "# Coalesce into paramater vector\n",
    "parameters = initial_population\n",
    "parameters.extend([alpha, s, r, mu_A, mu_B])"
   ],
   "outputs": [],
   "metadata": {}
  },
  {
   "cell_type": "code",
   "execution_count": 6,
   "source": [
    "# Instantiate algorithm\n",
    "algorithm = ci.StemWF()\n",
    "\n",
    "# Select number of simulations\n",
    "num_simulations = 1000\n",
    "\n",
    "computation_time = np.empty(num_simulations, dtype=np.int)\n",
    "fixed_state = np.empty(num_simulations, dtype=np.str)\n",
    "\n",
    "for sim in range(num_simulations):\n",
    "    computation_time[sim], fixed_state[sim] = algorithm.simulate_fixation(parameters)\n",
    "\n",
    "mean_computation_time = np.mean(computation_time)\n",
    "prob_fix = (fixed_state == 'A').sum()/num_simulations\n",
    "\n",
    "mean_comp_time_fix_A = np.mean(computation_time[(fixed_state == 'A')])\n",
    "\n",
    "print('Average time to fixation: ', mean_computation_time)\n",
    "print('Probability of fixation of cell type A: ', prob_fix)\n",
    "print('Average time to illness when fixation at A: ', mean_comp_time_fix_A)"
   ],
   "outputs": [
    {
     "output_type": "stream",
     "name": "stdout",
     "text": [
      "Average time to fixation:  10.125\n",
      "Probability of fixation of cell type A:  0.011\n",
      "Average time to illness when fixation at A:  179.27272727272728\n"
     ]
    }
   ],
   "metadata": {}
  },
  {
   "cell_type": "markdown",
   "source": [
    "### Plot transition probability curves"
   ],
   "metadata": {}
  },
  {
   "cell_type": "code",
   "execution_count": 7,
   "source": [
    "# Plot transition probabilities\n",
    "sep_algo = ci.StemWF()\n",
    "\n",
    "sep_algo.N = int(np.sum(np.asarray(initial_population)))\n",
    "\n",
    "sep_algo.alpha_A = alpha + s\n",
    "sep_algo.alpha_B = alpha + r\n",
    "sep_algo.alpha_WT = alpha\n",
    "\n",
    "sep_algo.mu_A = mu_A\n",
    "sep_algo.mu_B = mu_B\n",
    "\n",
    "# Assuming no Bs in the population\n",
    "trans_prob = np.empty((sep_algo.N+1, 2))\n",
    "\n",
    "for i in range(sep_algo.N+1):\n",
    "    trans_prob[i, 0] = sep_algo._prob_A_to_WT(i, sep_algo.N - i, 0)\n",
    "    trans_prob[i, 1] = sep_algo._prob_WT_to_A(i, sep_algo.N - i, 0)"
   ],
   "outputs": [],
   "metadata": {}
  },
  {
   "cell_type": "code",
   "execution_count": 8,
   "source": [
    "# Trace names - represent the transition probabilities used for the simulation\n",
    "trace_name = ['A->WT', 'WT->A']\n",
    "\n",
    "fig = go.Figure()\n",
    "\n",
    "# Add traces of the transition probabilities\n",
    "for c in range(trans_prob.shape[1]):\n",
    "    fig.add_trace(\n",
    "        go.Scatter(\n",
    "            y=trans_prob[:, c],\n",
    "            x=list(range(sep_algo.N+1)),\n",
    "            mode='lines',\n",
    "            name=trace_name[c],\n",
    "            line_color=colours[c]\n",
    "        )\n",
    "    )\n",
    "\n",
    "fig.update_layout(\n",
    "    title='Transition probabilities for edge case with no B cells - No selective advantage + No mutation',\n",
    "    width=1000, \n",
    "    height=600,\n",
    "    plot_bgcolor='white',\n",
    "    xaxis=dict(linecolor='black'),\n",
    "    yaxis=dict(linecolor='black'),\n",
    "    )"
   ],
   "outputs": [
    {
     "output_type": "display_data",
     "data": {
      "application/vnd.plotly.v1+json": {
       "config": {
        "plotlyServerURL": "https://plot.ly"
       },
       "data": [
        {
         "line": {
          "color": "blue"
         },
         "mode": "lines",
         "name": "A->WT",
         "type": "scatter",
         "x": [
          0,
          1,
          2,
          3,
          4,
          5,
          6,
          7,
          8,
          9,
          10,
          11,
          12,
          13,
          14,
          15,
          16,
          17,
          18,
          19,
          20,
          21,
          22,
          23,
          24,
          25,
          26,
          27,
          28,
          29,
          30,
          31,
          32,
          33,
          34,
          35,
          36,
          37,
          38,
          39,
          40,
          41,
          42,
          43,
          44,
          45,
          46,
          47,
          48,
          49,
          50,
          51,
          52,
          53,
          54,
          55,
          56,
          57,
          58,
          59,
          60,
          61,
          62,
          63,
          64,
          65,
          66,
          67,
          68,
          69,
          70,
          71,
          72,
          73,
          74,
          75,
          76,
          77,
          78,
          79,
          80,
          81,
          82,
          83,
          84,
          85,
          86,
          87,
          88,
          89,
          90,
          91,
          92,
          93,
          94,
          95,
          96,
          97,
          98,
          99,
          100
         ],
         "y": [
          0,
          0.0099,
          0.0196,
          0.029099999999999997,
          0.0384,
          0.0475,
          0.05639999999999999,
          0.0651,
          0.0736,
          0.0819,
          0.09000000000000001,
          0.0979,
          0.1056,
          0.1131,
          0.12040000000000001,
          0.1275,
          0.1344,
          0.1411,
          0.14759999999999998,
          0.1539,
          0.16000000000000003,
          0.1659,
          0.1716,
          0.1771,
          0.1824,
          0.1875,
          0.19240000000000002,
          0.1971,
          0.2016,
          0.20589999999999997,
          0.21,
          0.21389999999999998,
          0.21760000000000002,
          0.22110000000000002,
          0.22440000000000002,
          0.22749999999999998,
          0.2304,
          0.2331,
          0.2356,
          0.2379,
          0.24,
          0.24189999999999998,
          0.24359999999999998,
          0.24509999999999998,
          0.24640000000000004,
          0.24750000000000003,
          0.24840000000000004,
          0.2491,
          0.2496,
          0.2499,
          0.25,
          0.2499,
          0.2496,
          0.2491,
          0.24840000000000004,
          0.24750000000000003,
          0.24640000000000004,
          0.24509999999999998,
          0.24359999999999998,
          0.24189999999999998,
          0.24,
          0.2379,
          0.2356,
          0.2331,
          0.2304,
          0.22749999999999998,
          0.22440000000000002,
          0.22110000000000002,
          0.21760000000000002,
          0.21389999999999998,
          0.21,
          0.20589999999999997,
          0.2016,
          0.1971,
          0.19240000000000002,
          0.1875,
          0.1824,
          0.1771,
          0.1716,
          0.1659,
          0.16000000000000003,
          0.1539,
          0.14759999999999998,
          0.1411,
          0.1344,
          0.1275,
          0.12040000000000001,
          0.1131,
          0.1056,
          0.0979,
          0.09000000000000001,
          0.0819,
          0.0736,
          0.0651,
          0.05639999999999999,
          0.0475,
          0.0384,
          0.029099999999999997,
          0.0196,
          0.0099,
          0
         ]
        },
        {
         "line": {
          "color": "red"
         },
         "mode": "lines",
         "name": "WT->A",
         "type": "scatter",
         "x": [
          0,
          1,
          2,
          3,
          4,
          5,
          6,
          7,
          8,
          9,
          10,
          11,
          12,
          13,
          14,
          15,
          16,
          17,
          18,
          19,
          20,
          21,
          22,
          23,
          24,
          25,
          26,
          27,
          28,
          29,
          30,
          31,
          32,
          33,
          34,
          35,
          36,
          37,
          38,
          39,
          40,
          41,
          42,
          43,
          44,
          45,
          46,
          47,
          48,
          49,
          50,
          51,
          52,
          53,
          54,
          55,
          56,
          57,
          58,
          59,
          60,
          61,
          62,
          63,
          64,
          65,
          66,
          67,
          68,
          69,
          70,
          71,
          72,
          73,
          74,
          75,
          76,
          77,
          78,
          79,
          80,
          81,
          82,
          83,
          84,
          85,
          86,
          87,
          88,
          89,
          90,
          91,
          92,
          93,
          94,
          95,
          96,
          97,
          98,
          99,
          100
         ],
         "y": [
          0,
          0.0099,
          0.0196,
          0.029099999999999997,
          0.0384,
          0.0475,
          0.05639999999999999,
          0.0651,
          0.0736,
          0.0819,
          0.09000000000000001,
          0.0979,
          0.1056,
          0.1131,
          0.12040000000000001,
          0.1275,
          0.1344,
          0.1411,
          0.14759999999999998,
          0.1539,
          0.16000000000000003,
          0.1659,
          0.1716,
          0.1771,
          0.1824,
          0.1875,
          0.19240000000000002,
          0.1971,
          0.2016,
          0.20589999999999997,
          0.21,
          0.21389999999999998,
          0.21760000000000002,
          0.22110000000000002,
          0.22440000000000002,
          0.22749999999999998,
          0.2304,
          0.2331,
          0.2356,
          0.2379,
          0.24,
          0.24189999999999998,
          0.24359999999999998,
          0.24509999999999998,
          0.24640000000000004,
          0.24750000000000003,
          0.24840000000000004,
          0.2491,
          0.2496,
          0.2499,
          0.25,
          0.2499,
          0.2496,
          0.2491,
          0.24840000000000004,
          0.24750000000000003,
          0.24640000000000004,
          0.24509999999999998,
          0.24359999999999998,
          0.24189999999999998,
          0.24,
          0.2379,
          0.2356,
          0.2331,
          0.2304,
          0.22749999999999998,
          0.22440000000000002,
          0.22110000000000002,
          0.21760000000000002,
          0.21389999999999998,
          0.21,
          0.20589999999999997,
          0.2016,
          0.1971,
          0.19240000000000002,
          0.1875,
          0.1824,
          0.1771,
          0.1716,
          0.1659,
          0.16000000000000003,
          0.1539,
          0.14759999999999998,
          0.1411,
          0.1344,
          0.1275,
          0.12040000000000001,
          0.1131,
          0.1056,
          0.0979,
          0.09000000000000001,
          0.0819,
          0.0736,
          0.0651,
          0.05639999999999999,
          0.0475,
          0.0384,
          0.029099999999999997,
          0.0196,
          0.0099,
          0
         ]
        }
       ],
       "layout": {
        "height": 600,
        "plot_bgcolor": "white",
        "template": {
         "data": {
          "bar": [
           {
            "error_x": {
             "color": "#2a3f5f"
            },
            "error_y": {
             "color": "#2a3f5f"
            },
            "marker": {
             "line": {
              "color": "#E5ECF6",
              "width": 0.5
             }
            },
            "type": "bar"
           }
          ],
          "barpolar": [
           {
            "marker": {
             "line": {
              "color": "#E5ECF6",
              "width": 0.5
             }
            },
            "type": "barpolar"
           }
          ],
          "carpet": [
           {
            "aaxis": {
             "endlinecolor": "#2a3f5f",
             "gridcolor": "white",
             "linecolor": "white",
             "minorgridcolor": "white",
             "startlinecolor": "#2a3f5f"
            },
            "baxis": {
             "endlinecolor": "#2a3f5f",
             "gridcolor": "white",
             "linecolor": "white",
             "minorgridcolor": "white",
             "startlinecolor": "#2a3f5f"
            },
            "type": "carpet"
           }
          ],
          "choropleth": [
           {
            "colorbar": {
             "outlinewidth": 0,
             "ticks": ""
            },
            "type": "choropleth"
           }
          ],
          "contour": [
           {
            "colorbar": {
             "outlinewidth": 0,
             "ticks": ""
            },
            "colorscale": [
             [
              0,
              "#0d0887"
             ],
             [
              0.1111111111111111,
              "#46039f"
             ],
             [
              0.2222222222222222,
              "#7201a8"
             ],
             [
              0.3333333333333333,
              "#9c179e"
             ],
             [
              0.4444444444444444,
              "#bd3786"
             ],
             [
              0.5555555555555556,
              "#d8576b"
             ],
             [
              0.6666666666666666,
              "#ed7953"
             ],
             [
              0.7777777777777778,
              "#fb9f3a"
             ],
             [
              0.8888888888888888,
              "#fdca26"
             ],
             [
              1,
              "#f0f921"
             ]
            ],
            "type": "contour"
           }
          ],
          "contourcarpet": [
           {
            "colorbar": {
             "outlinewidth": 0,
             "ticks": ""
            },
            "type": "contourcarpet"
           }
          ],
          "heatmap": [
           {
            "colorbar": {
             "outlinewidth": 0,
             "ticks": ""
            },
            "colorscale": [
             [
              0,
              "#0d0887"
             ],
             [
              0.1111111111111111,
              "#46039f"
             ],
             [
              0.2222222222222222,
              "#7201a8"
             ],
             [
              0.3333333333333333,
              "#9c179e"
             ],
             [
              0.4444444444444444,
              "#bd3786"
             ],
             [
              0.5555555555555556,
              "#d8576b"
             ],
             [
              0.6666666666666666,
              "#ed7953"
             ],
             [
              0.7777777777777778,
              "#fb9f3a"
             ],
             [
              0.8888888888888888,
              "#fdca26"
             ],
             [
              1,
              "#f0f921"
             ]
            ],
            "type": "heatmap"
           }
          ],
          "heatmapgl": [
           {
            "colorbar": {
             "outlinewidth": 0,
             "ticks": ""
            },
            "colorscale": [
             [
              0,
              "#0d0887"
             ],
             [
              0.1111111111111111,
              "#46039f"
             ],
             [
              0.2222222222222222,
              "#7201a8"
             ],
             [
              0.3333333333333333,
              "#9c179e"
             ],
             [
              0.4444444444444444,
              "#bd3786"
             ],
             [
              0.5555555555555556,
              "#d8576b"
             ],
             [
              0.6666666666666666,
              "#ed7953"
             ],
             [
              0.7777777777777778,
              "#fb9f3a"
             ],
             [
              0.8888888888888888,
              "#fdca26"
             ],
             [
              1,
              "#f0f921"
             ]
            ],
            "type": "heatmapgl"
           }
          ],
          "histogram": [
           {
            "marker": {
             "colorbar": {
              "outlinewidth": 0,
              "ticks": ""
             }
            },
            "type": "histogram"
           }
          ],
          "histogram2d": [
           {
            "colorbar": {
             "outlinewidth": 0,
             "ticks": ""
            },
            "colorscale": [
             [
              0,
              "#0d0887"
             ],
             [
              0.1111111111111111,
              "#46039f"
             ],
             [
              0.2222222222222222,
              "#7201a8"
             ],
             [
              0.3333333333333333,
              "#9c179e"
             ],
             [
              0.4444444444444444,
              "#bd3786"
             ],
             [
              0.5555555555555556,
              "#d8576b"
             ],
             [
              0.6666666666666666,
              "#ed7953"
             ],
             [
              0.7777777777777778,
              "#fb9f3a"
             ],
             [
              0.8888888888888888,
              "#fdca26"
             ],
             [
              1,
              "#f0f921"
             ]
            ],
            "type": "histogram2d"
           }
          ],
          "histogram2dcontour": [
           {
            "colorbar": {
             "outlinewidth": 0,
             "ticks": ""
            },
            "colorscale": [
             [
              0,
              "#0d0887"
             ],
             [
              0.1111111111111111,
              "#46039f"
             ],
             [
              0.2222222222222222,
              "#7201a8"
             ],
             [
              0.3333333333333333,
              "#9c179e"
             ],
             [
              0.4444444444444444,
              "#bd3786"
             ],
             [
              0.5555555555555556,
              "#d8576b"
             ],
             [
              0.6666666666666666,
              "#ed7953"
             ],
             [
              0.7777777777777778,
              "#fb9f3a"
             ],
             [
              0.8888888888888888,
              "#fdca26"
             ],
             [
              1,
              "#f0f921"
             ]
            ],
            "type": "histogram2dcontour"
           }
          ],
          "mesh3d": [
           {
            "colorbar": {
             "outlinewidth": 0,
             "ticks": ""
            },
            "type": "mesh3d"
           }
          ],
          "parcoords": [
           {
            "line": {
             "colorbar": {
              "outlinewidth": 0,
              "ticks": ""
             }
            },
            "type": "parcoords"
           }
          ],
          "pie": [
           {
            "automargin": true,
            "type": "pie"
           }
          ],
          "scatter": [
           {
            "marker": {
             "colorbar": {
              "outlinewidth": 0,
              "ticks": ""
             }
            },
            "type": "scatter"
           }
          ],
          "scatter3d": [
           {
            "line": {
             "colorbar": {
              "outlinewidth": 0,
              "ticks": ""
             }
            },
            "marker": {
             "colorbar": {
              "outlinewidth": 0,
              "ticks": ""
             }
            },
            "type": "scatter3d"
           }
          ],
          "scattercarpet": [
           {
            "marker": {
             "colorbar": {
              "outlinewidth": 0,
              "ticks": ""
             }
            },
            "type": "scattercarpet"
           }
          ],
          "scattergeo": [
           {
            "marker": {
             "colorbar": {
              "outlinewidth": 0,
              "ticks": ""
             }
            },
            "type": "scattergeo"
           }
          ],
          "scattergl": [
           {
            "marker": {
             "colorbar": {
              "outlinewidth": 0,
              "ticks": ""
             }
            },
            "type": "scattergl"
           }
          ],
          "scattermapbox": [
           {
            "marker": {
             "colorbar": {
              "outlinewidth": 0,
              "ticks": ""
             }
            },
            "type": "scattermapbox"
           }
          ],
          "scatterpolar": [
           {
            "marker": {
             "colorbar": {
              "outlinewidth": 0,
              "ticks": ""
             }
            },
            "type": "scatterpolar"
           }
          ],
          "scatterpolargl": [
           {
            "marker": {
             "colorbar": {
              "outlinewidth": 0,
              "ticks": ""
             }
            },
            "type": "scatterpolargl"
           }
          ],
          "scatterternary": [
           {
            "marker": {
             "colorbar": {
              "outlinewidth": 0,
              "ticks": ""
             }
            },
            "type": "scatterternary"
           }
          ],
          "surface": [
           {
            "colorbar": {
             "outlinewidth": 0,
             "ticks": ""
            },
            "colorscale": [
             [
              0,
              "#0d0887"
             ],
             [
              0.1111111111111111,
              "#46039f"
             ],
             [
              0.2222222222222222,
              "#7201a8"
             ],
             [
              0.3333333333333333,
              "#9c179e"
             ],
             [
              0.4444444444444444,
              "#bd3786"
             ],
             [
              0.5555555555555556,
              "#d8576b"
             ],
             [
              0.6666666666666666,
              "#ed7953"
             ],
             [
              0.7777777777777778,
              "#fb9f3a"
             ],
             [
              0.8888888888888888,
              "#fdca26"
             ],
             [
              1,
              "#f0f921"
             ]
            ],
            "type": "surface"
           }
          ],
          "table": [
           {
            "cells": {
             "fill": {
              "color": "#EBF0F8"
             },
             "line": {
              "color": "white"
             }
            },
            "header": {
             "fill": {
              "color": "#C8D4E3"
             },
             "line": {
              "color": "white"
             }
            },
            "type": "table"
           }
          ]
         },
         "layout": {
          "annotationdefaults": {
           "arrowcolor": "#2a3f5f",
           "arrowhead": 0,
           "arrowwidth": 1
          },
          "autotypenumbers": "strict",
          "coloraxis": {
           "colorbar": {
            "outlinewidth": 0,
            "ticks": ""
           }
          },
          "colorscale": {
           "diverging": [
            [
             0,
             "#8e0152"
            ],
            [
             0.1,
             "#c51b7d"
            ],
            [
             0.2,
             "#de77ae"
            ],
            [
             0.3,
             "#f1b6da"
            ],
            [
             0.4,
             "#fde0ef"
            ],
            [
             0.5,
             "#f7f7f7"
            ],
            [
             0.6,
             "#e6f5d0"
            ],
            [
             0.7,
             "#b8e186"
            ],
            [
             0.8,
             "#7fbc41"
            ],
            [
             0.9,
             "#4d9221"
            ],
            [
             1,
             "#276419"
            ]
           ],
           "sequential": [
            [
             0,
             "#0d0887"
            ],
            [
             0.1111111111111111,
             "#46039f"
            ],
            [
             0.2222222222222222,
             "#7201a8"
            ],
            [
             0.3333333333333333,
             "#9c179e"
            ],
            [
             0.4444444444444444,
             "#bd3786"
            ],
            [
             0.5555555555555556,
             "#d8576b"
            ],
            [
             0.6666666666666666,
             "#ed7953"
            ],
            [
             0.7777777777777778,
             "#fb9f3a"
            ],
            [
             0.8888888888888888,
             "#fdca26"
            ],
            [
             1,
             "#f0f921"
            ]
           ],
           "sequentialminus": [
            [
             0,
             "#0d0887"
            ],
            [
             0.1111111111111111,
             "#46039f"
            ],
            [
             0.2222222222222222,
             "#7201a8"
            ],
            [
             0.3333333333333333,
             "#9c179e"
            ],
            [
             0.4444444444444444,
             "#bd3786"
            ],
            [
             0.5555555555555556,
             "#d8576b"
            ],
            [
             0.6666666666666666,
             "#ed7953"
            ],
            [
             0.7777777777777778,
             "#fb9f3a"
            ],
            [
             0.8888888888888888,
             "#fdca26"
            ],
            [
             1,
             "#f0f921"
            ]
           ]
          },
          "colorway": [
           "#636efa",
           "#EF553B",
           "#00cc96",
           "#ab63fa",
           "#FFA15A",
           "#19d3f3",
           "#FF6692",
           "#B6E880",
           "#FF97FF",
           "#FECB52"
          ],
          "font": {
           "color": "#2a3f5f"
          },
          "geo": {
           "bgcolor": "white",
           "lakecolor": "white",
           "landcolor": "#E5ECF6",
           "showlakes": true,
           "showland": true,
           "subunitcolor": "white"
          },
          "hoverlabel": {
           "align": "left"
          },
          "hovermode": "closest",
          "mapbox": {
           "style": "light"
          },
          "paper_bgcolor": "white",
          "plot_bgcolor": "#E5ECF6",
          "polar": {
           "angularaxis": {
            "gridcolor": "white",
            "linecolor": "white",
            "ticks": ""
           },
           "bgcolor": "#E5ECF6",
           "radialaxis": {
            "gridcolor": "white",
            "linecolor": "white",
            "ticks": ""
           }
          },
          "scene": {
           "xaxis": {
            "backgroundcolor": "#E5ECF6",
            "gridcolor": "white",
            "gridwidth": 2,
            "linecolor": "white",
            "showbackground": true,
            "ticks": "",
            "zerolinecolor": "white"
           },
           "yaxis": {
            "backgroundcolor": "#E5ECF6",
            "gridcolor": "white",
            "gridwidth": 2,
            "linecolor": "white",
            "showbackground": true,
            "ticks": "",
            "zerolinecolor": "white"
           },
           "zaxis": {
            "backgroundcolor": "#E5ECF6",
            "gridcolor": "white",
            "gridwidth": 2,
            "linecolor": "white",
            "showbackground": true,
            "ticks": "",
            "zerolinecolor": "white"
           }
          },
          "shapedefaults": {
           "line": {
            "color": "#2a3f5f"
           }
          },
          "ternary": {
           "aaxis": {
            "gridcolor": "white",
            "linecolor": "white",
            "ticks": ""
           },
           "baxis": {
            "gridcolor": "white",
            "linecolor": "white",
            "ticks": ""
           },
           "bgcolor": "#E5ECF6",
           "caxis": {
            "gridcolor": "white",
            "linecolor": "white",
            "ticks": ""
           }
          },
          "title": {
           "x": 0.05
          },
          "xaxis": {
           "automargin": true,
           "gridcolor": "white",
           "linecolor": "white",
           "ticks": "",
           "title": {
            "standoff": 15
           },
           "zerolinecolor": "white",
           "zerolinewidth": 2
          },
          "yaxis": {
           "automargin": true,
           "gridcolor": "white",
           "linecolor": "white",
           "ticks": "",
           "title": {
            "standoff": 15
           },
           "zerolinecolor": "white",
           "zerolinewidth": 2
          }
         }
        },
        "title": {
         "text": "Transition probabilities for edge case with no B cells - No selectional advantage + No mutation"
        },
        "width": 1000,
        "xaxis": {
         "linecolor": "black"
        },
        "yaxis": {
         "linecolor": "black"
        }
       }
      }
     },
     "metadata": {}
    }
   ],
   "metadata": {}
  },
  {
   "cell_type": "markdown",
   "source": [
    "## selective advatange + No mutation\n",
    "\n",
    "### Start from 1/2 and 1/2 WT ws A"
   ],
   "metadata": {}
  },
  {
   "cell_type": "code",
   "execution_count": 9,
   "source": [
    "# Set initial population state WT - A - B\n",
    "initial_population = [50, 50, 0]\n",
    "\n",
    "# Set baseline growth rate\n",
    "alpha = 1\n",
    "\n",
    "# Set selective advantages for mutated cells\n",
    "s = 0.1\n",
    "r = 0\n",
    "\n",
    "# Set mutation rates\n",
    "mu_A = 0\n",
    "mu_B = 0\n",
    "\n",
    "# Coalesce into paramater vector\n",
    "parameters = initial_population\n",
    "parameters.extend([alpha, s, r, mu_A, mu_B])"
   ],
   "outputs": [],
   "metadata": {}
  },
  {
   "cell_type": "code",
   "execution_count": 10,
   "source": [
    "# Instantiate algorithm\n",
    "algorithm = ci.StemWF()\n",
    "\n",
    "# Select number of simulations\n",
    "num_simulations = 100000\n",
    "\n",
    "computation_time = np.empty(num_simulations, dtype=np.int)\n",
    "fixed_state = np.empty(num_simulations, dtype=np.str)\n",
    "\n",
    "for sim in range(num_simulations):\n",
    "    computation_time[sim], fixed_state[sim] = algorithm.simulate_fixation(parameters)\n",
    "\n",
    "mean_computation_time = np.mean(computation_time)\n",
    "prob_fix = (fixed_state == 'A').sum()/num_simulations\n",
    "\n",
    "mean_comp_time_fix_A = np.mean(computation_time[(fixed_state == 'A')])\n",
    "\n",
    "print('Average time to fixation: ', mean_computation_time)\n",
    "print('Probability of fixation of cell type A: ', prob_fix)\n",
    "print('Average time to illness when fixation at A: ', mean_comp_time_fix_A)"
   ],
   "outputs": [
    {
     "output_type": "stream",
     "name": "stdout",
     "text": [
      "Average time to fixation:  37.37094\n",
      "Probability of fixation of cell type A:  0.99994\n",
      "Average time to illness when fixation at A:  37.37027221633298\n"
     ]
    }
   ],
   "metadata": {}
  },
  {
   "cell_type": "markdown",
   "source": [
    "### Start from 1 A vs all other WT"
   ],
   "metadata": {}
  },
  {
   "cell_type": "code",
   "execution_count": 11,
   "source": [
    "# Set initial population state WT - A - B\n",
    "initial_population = [99, 1, 0]\n",
    "\n",
    "# Set baseline growth rate\n",
    "alpha = 1\n",
    "\n",
    "# Set selective advantages for mutated cells\n",
    "s = 0.1\n",
    "r = 0\n",
    "\n",
    "# Set mutation rates\n",
    "mu_A = 0\n",
    "mu_B = 0\n",
    "\n",
    "# Coalesce into paramater vector\n",
    "parameters = initial_population\n",
    "parameters.extend([alpha, s, r, mu_A, mu_B])"
   ],
   "outputs": [],
   "metadata": {}
  },
  {
   "cell_type": "code",
   "execution_count": 12,
   "source": [
    "# Instantiate algorithm\n",
    "algorithm = ci.StemWF()\n",
    "\n",
    "# Select number of simulations\n",
    "num_simulations = 100000\n",
    "\n",
    "computation_time = np.empty(num_simulations, dtype=np.int)\n",
    "fixed_state = np.empty(num_simulations, dtype=np.str)\n",
    "\n",
    "for sim in range(num_simulations):\n",
    "    computation_time[sim], fixed_state[sim] = algorithm.simulate_fixation(parameters)\n",
    "\n",
    "mean_computation_time = np.mean(computation_time)\n",
    "prob_fix = (fixed_state == 'A').sum()/num_simulations\n",
    "\n",
    "mean_comp_time_fix_A = np.mean(computation_time[(fixed_state == 'A')])\n",
    "\n",
    "print('Average time to fixation: ', mean_computation_time)\n",
    "print('Probability of fixation of cell type A: ', prob_fix)\n",
    "print('Average time to illness when fixation at A: ', mean_comp_time_fix_A)"
   ],
   "outputs": [
    {
     "output_type": "stream",
     "name": "stdout",
     "text": [
      "Average time to fixation:  15.8566\n",
      "Probability of fixation of cell type A:  0.17545\n",
      "Average time to illness when fixation at A:  70.41476204046737\n"
     ]
    }
   ],
   "metadata": {}
  },
  {
   "cell_type": "markdown",
   "source": [
    "### Plot transition probability curves"
   ],
   "metadata": {}
  },
  {
   "cell_type": "code",
   "execution_count": 13,
   "source": [
    "# Plot transition probabilities\n",
    "sep_algo = ci.StemWF()\n",
    "\n",
    "sep_algo.N = int(np.sum(np.asarray(initial_population)))\n",
    "\n",
    "sep_algo.alpha_A = alpha + s\n",
    "sep_algo.alpha_B = alpha + r\n",
    "sep_algo.alpha_WT = alpha\n",
    "\n",
    "sep_algo.mu_A = mu_A\n",
    "sep_algo.mu_B = mu_B\n",
    "\n",
    "# Assuming no Bs in the population\n",
    "trans_prob = np.empty((sep_algo.N+1, 2))\n",
    "\n",
    "for i in range(sep_algo.N+1):\n",
    "    trans_prob[i, 0] = sep_algo._prob_A_to_WT(i, sep_algo.N - i, 0)\n",
    "    trans_prob[i, 1] = sep_algo._prob_WT_to_A(i, sep_algo.N - i, 0)"
   ],
   "outputs": [],
   "metadata": {}
  },
  {
   "cell_type": "code",
   "execution_count": 14,
   "source": [
    "# Trace names - represent the transition probabilities used for the simulation\n",
    "trace_name = ['A->WT', 'WT->A']\n",
    "\n",
    "fig = go.Figure()\n",
    "\n",
    "# Add traces of the transition probabilities\n",
    "for c in range(trans_prob.shape[1]):\n",
    "    fig.add_trace(\n",
    "        go.Scatter(\n",
    "            y=trans_prob[:, c],\n",
    "            x=list(range(sep_algo.N+1)),\n",
    "            mode='lines',\n",
    "            name=trace_name[c],\n",
    "            line_color=colours[c]\n",
    "        )\n",
    "    )\n",
    "\n",
    "fig.update_layout(\n",
    "    title='Transition probabilities for edge case with no B cells - With selective advantage + No mutation',\n",
    "    width=1000, \n",
    "    height=600,\n",
    "    plot_bgcolor='white',\n",
    "    xaxis=dict(linecolor='black'),\n",
    "    yaxis=dict(linecolor='black'),\n",
    "    )"
   ],
   "outputs": [
    {
     "output_type": "display_data",
     "data": {
      "application/vnd.plotly.v1+json": {
       "config": {
        "plotlyServerURL": "https://plot.ly"
       },
       "data": [
        {
         "line": {
          "color": "blue"
         },
         "mode": "lines",
         "name": "A->WT",
         "type": "scatter",
         "x": [
          0,
          1,
          2,
          3,
          4,
          5,
          6,
          7,
          8,
          9,
          10,
          11,
          12,
          13,
          14,
          15,
          16,
          17,
          18,
          19,
          20,
          21,
          22,
          23,
          24,
          25,
          26,
          27,
          28,
          29,
          30,
          31,
          32,
          33,
          34,
          35,
          36,
          37,
          38,
          39,
          40,
          41,
          42,
          43,
          44,
          45,
          46,
          47,
          48,
          49,
          50,
          51,
          52,
          53,
          54,
          55,
          56,
          57,
          58,
          59,
          60,
          61,
          62,
          63,
          64,
          65,
          66,
          67,
          68,
          69,
          70,
          71,
          72,
          73,
          74,
          75,
          76,
          77,
          78,
          79,
          80,
          81,
          82,
          83,
          84,
          85,
          86,
          87,
          88,
          89,
          90,
          91,
          92,
          93,
          94,
          95,
          96,
          97,
          98,
          99,
          100,
          101
         ],
         "y": [
          0,
          0.008919810900008918,
          0.017677150943227776,
          0.026271580226614716,
          0.03470265725759567,
          0.0429699389468784,
          0.05107298060122754,
          0.05901133591620031,
          0.06678455696884283,
          0.07439219421034662,
          0.08183379645866494,
          0.0891089108910891,
          0.09621708303678411,
          0.10315785676928348,
          0.1099307742989431,
          0.11653537616535375,
          0.122971201229712,
          0.12923778666714933,
          0.13533466795901913,
          0.14126137888514126,
          0.14701745151600404,
          0.15260241620492326,
          0.15801580158015802,
          0.1632571345369831,
          0.16832594022971756,
          0.17322174206370913,
          0.1779440616872747,
          0.18249241898359575,
          0.1868663320625691,
          0.1910653172526125,
          0.19508888909242447,
          0.1989365603226989,
          0.20260784187779296,
          0.20610224287734893,
          0.20941927061786958,
          0.21255843056424603,
          0.21551922634123877,
          0.21830115972491101,
          0.22090373063401397,
          0.22332643712132405,
          0.22556877536493142,
          0.22763023965947995,
          0.22951032240735766,
          0.23120851410983792,
          0.23272430335817085,
          0.2340571768246243,
          0.23520661925347466,
          0.2361721134519467,
          0.23695314028110243,
          0.23754917864667824,
          0.2379597054898704,
          0.23818419577806837,
          0.23822212249553565,
          0.23807295663403763,
          0.23773616718341656,
          0.23721122112211224,
          0.23649758340762989,
          0.23559471696695286,
          0.23450208268690112,
          0.23321913940443473,
          0.23174534389690163,
          0.2300801508722301,
          0.2282230129590652,
          0.22617338069684828,
          0.22393070252584,
          0.22149442477708575,
          0.2188639916623241,
          0.21603884526383674,
          0.21301842552423986,
          0.20980217023621747,
          0.20638951503219488,
          0.20277989337395277,
          0.19897273654218164,
          0.19496747362597533,
          0.19076353151226408,
          0.18636033487518636,
          0.18175730616539915,
          0.17695386559932588,
          0.17194943114834232,
          0.1667434185278993,
          0.1613352411865823,
          0.1557243102951072,
          0.14991003473525194,
          0.14389182108872364,
          0.13766907362596045,
          0.13124119429486808,
          0.12460758270949045,
          0.11776763613861387,
          0.11072074949430427,
          0.10346631532037744,
          0.0960037237808012,
          0.08833236264802952,
          0.08045161729126789,
          0.07236087066466962,
          0.0640595032954623,
          0.05554689327200436,
          0.04682241623177096,
          0.03788544534926865,
          0.028735351323878684,
          0.01937150236762807,
          0.009793264192888132,
          0
         ]
        },
        {
         "line": {
          "color": "red"
         },
         "mode": "lines",
         "name": "WT->A",
         "type": "scatter",
         "x": [
          0,
          1,
          2,
          3,
          4,
          5,
          6,
          7,
          8,
          9,
          10,
          11,
          12,
          13,
          14,
          15,
          16,
          17,
          18,
          19,
          20,
          21,
          22,
          23,
          24,
          25,
          26,
          27,
          28,
          29,
          30,
          31,
          32,
          33,
          34,
          35,
          36,
          37,
          38,
          39,
          40,
          41,
          42,
          43,
          44,
          45,
          46,
          47,
          48,
          49,
          50,
          51,
          52,
          53,
          54,
          55,
          56,
          57,
          58,
          59,
          60,
          61,
          62,
          63,
          64,
          65,
          66,
          67,
          68,
          69,
          70,
          71,
          72,
          73,
          74,
          75,
          76,
          77,
          78,
          79,
          80,
          81,
          82,
          83,
          84,
          85,
          86,
          87,
          88,
          89,
          90,
          91,
          92,
          93,
          94,
          95,
          96,
          97,
          98,
          99,
          100,
          101
         ],
         "y": [
          0,
          0.009811791990009812,
          0.019444866037550555,
          0.028898738249276187,
          0.03817292298335525,
          0.04726693284156625,
          0.056180278661350294,
          0.06491246950782036,
          0.07346301266572713,
          0.08183141363138129,
          0.09001717610453144,
          0.09801980198019802,
          0.10583879134046252,
          0.11347364244621184,
          0.12092385172883743,
          0.12818891378188912,
          0.1352683213526832,
          0.1421615653338643,
          0.14886813475492106,
          0.15538751677365537,
          0.16171919666760445,
          0.16786265782541557,
          0.17381738173817382,
          0.17958284799068142,
          0.1851585342526893,
          0.19054391627008005,
          0.1957384678560022,
          0.20074166088195539,
          0.20555296526882608,
          0.21017184897787375,
          0.21459777800166696,
          0.2188302163549688,
          0.22286862606557226,
          0.22671246716508386,
          0.23036119767965654,
          0.23381427362067062,
          0.23707114897536263,
          0.24013127569740214,
          0.24299410369741542,
          0.24565908083345647,
          0.2481256529014246,
          0.25039326362542796,
          0.25246135464809344,
          0.25432936552082175,
          0.25599673369398795,
          0.25746289450708676,
          0.25872728117882215,
          0.2597893247971414,
          0.26064845430921263,
          0.261304096511346,
          0.26175567603885747,
          0.26200261535587527,
          0.26204433474508926,
          0.2618802522974415,
          0.2615097839017582,
          0.26093234323432346,
          0.26014734174839294,
          0.25915418866364814,
          0.25795229095559125,
          0.2565410533448782,
          0.2549198782865918,
          0.2530881659594531,
          0.2510453142549718,
          0.24879071876653314,
          0.246323772778424,
          0.24364386725479434,
          0.24075039082855654,
          0.23764272979022044,
          0.23432026807666384,
          0.23078238725983924,
          0.22702846653541436,
          0.22305788271134802,
          0.2188700101963998,
          0.21446422098857282,
          0.20983988466349046,
          0.204996368362705,
          0.19993303678193908,
          0.19464925215925846,
          0.18914437426317657,
          0.18341776038068927,
          0.17746876530524053,
          0.1712967413246179,
          0.16490103820877716,
          0.15828100319759603,
          0.1514359809885565,
          0.1443653137243549,
          0.13706834098043952,
          0.12954439975247525,
          0.12179282444373471,
          0.1138129468524152,
          0.10560409615888133,
          0.09716559891283247,
          0.08849677902039468,
          0.07959695773113659,
          0.07046545362500853,
          0.061101582599204805,
          0.05150465785494806,
          0.04167398988419552,
          0.03160888645626656,
          0.021308652604390875,
          0.010772590612176947,
          0
         ]
        }
       ],
       "layout": {
        "height": 600,
        "plot_bgcolor": "white",
        "template": {
         "data": {
          "bar": [
           {
            "error_x": {
             "color": "#2a3f5f"
            },
            "error_y": {
             "color": "#2a3f5f"
            },
            "marker": {
             "line": {
              "color": "#E5ECF6",
              "width": 0.5
             }
            },
            "type": "bar"
           }
          ],
          "barpolar": [
           {
            "marker": {
             "line": {
              "color": "#E5ECF6",
              "width": 0.5
             }
            },
            "type": "barpolar"
           }
          ],
          "carpet": [
           {
            "aaxis": {
             "endlinecolor": "#2a3f5f",
             "gridcolor": "white",
             "linecolor": "white",
             "minorgridcolor": "white",
             "startlinecolor": "#2a3f5f"
            },
            "baxis": {
             "endlinecolor": "#2a3f5f",
             "gridcolor": "white",
             "linecolor": "white",
             "minorgridcolor": "white",
             "startlinecolor": "#2a3f5f"
            },
            "type": "carpet"
           }
          ],
          "choropleth": [
           {
            "colorbar": {
             "outlinewidth": 0,
             "ticks": ""
            },
            "type": "choropleth"
           }
          ],
          "contour": [
           {
            "colorbar": {
             "outlinewidth": 0,
             "ticks": ""
            },
            "colorscale": [
             [
              0,
              "#0d0887"
             ],
             [
              0.1111111111111111,
              "#46039f"
             ],
             [
              0.2222222222222222,
              "#7201a8"
             ],
             [
              0.3333333333333333,
              "#9c179e"
             ],
             [
              0.4444444444444444,
              "#bd3786"
             ],
             [
              0.5555555555555556,
              "#d8576b"
             ],
             [
              0.6666666666666666,
              "#ed7953"
             ],
             [
              0.7777777777777778,
              "#fb9f3a"
             ],
             [
              0.8888888888888888,
              "#fdca26"
             ],
             [
              1,
              "#f0f921"
             ]
            ],
            "type": "contour"
           }
          ],
          "contourcarpet": [
           {
            "colorbar": {
             "outlinewidth": 0,
             "ticks": ""
            },
            "type": "contourcarpet"
           }
          ],
          "heatmap": [
           {
            "colorbar": {
             "outlinewidth": 0,
             "ticks": ""
            },
            "colorscale": [
             [
              0,
              "#0d0887"
             ],
             [
              0.1111111111111111,
              "#46039f"
             ],
             [
              0.2222222222222222,
              "#7201a8"
             ],
             [
              0.3333333333333333,
              "#9c179e"
             ],
             [
              0.4444444444444444,
              "#bd3786"
             ],
             [
              0.5555555555555556,
              "#d8576b"
             ],
             [
              0.6666666666666666,
              "#ed7953"
             ],
             [
              0.7777777777777778,
              "#fb9f3a"
             ],
             [
              0.8888888888888888,
              "#fdca26"
             ],
             [
              1,
              "#f0f921"
             ]
            ],
            "type": "heatmap"
           }
          ],
          "heatmapgl": [
           {
            "colorbar": {
             "outlinewidth": 0,
             "ticks": ""
            },
            "colorscale": [
             [
              0,
              "#0d0887"
             ],
             [
              0.1111111111111111,
              "#46039f"
             ],
             [
              0.2222222222222222,
              "#7201a8"
             ],
             [
              0.3333333333333333,
              "#9c179e"
             ],
             [
              0.4444444444444444,
              "#bd3786"
             ],
             [
              0.5555555555555556,
              "#d8576b"
             ],
             [
              0.6666666666666666,
              "#ed7953"
             ],
             [
              0.7777777777777778,
              "#fb9f3a"
             ],
             [
              0.8888888888888888,
              "#fdca26"
             ],
             [
              1,
              "#f0f921"
             ]
            ],
            "type": "heatmapgl"
           }
          ],
          "histogram": [
           {
            "marker": {
             "colorbar": {
              "outlinewidth": 0,
              "ticks": ""
             }
            },
            "type": "histogram"
           }
          ],
          "histogram2d": [
           {
            "colorbar": {
             "outlinewidth": 0,
             "ticks": ""
            },
            "colorscale": [
             [
              0,
              "#0d0887"
             ],
             [
              0.1111111111111111,
              "#46039f"
             ],
             [
              0.2222222222222222,
              "#7201a8"
             ],
             [
              0.3333333333333333,
              "#9c179e"
             ],
             [
              0.4444444444444444,
              "#bd3786"
             ],
             [
              0.5555555555555556,
              "#d8576b"
             ],
             [
              0.6666666666666666,
              "#ed7953"
             ],
             [
              0.7777777777777778,
              "#fb9f3a"
             ],
             [
              0.8888888888888888,
              "#fdca26"
             ],
             [
              1,
              "#f0f921"
             ]
            ],
            "type": "histogram2d"
           }
          ],
          "histogram2dcontour": [
           {
            "colorbar": {
             "outlinewidth": 0,
             "ticks": ""
            },
            "colorscale": [
             [
              0,
              "#0d0887"
             ],
             [
              0.1111111111111111,
              "#46039f"
             ],
             [
              0.2222222222222222,
              "#7201a8"
             ],
             [
              0.3333333333333333,
              "#9c179e"
             ],
             [
              0.4444444444444444,
              "#bd3786"
             ],
             [
              0.5555555555555556,
              "#d8576b"
             ],
             [
              0.6666666666666666,
              "#ed7953"
             ],
             [
              0.7777777777777778,
              "#fb9f3a"
             ],
             [
              0.8888888888888888,
              "#fdca26"
             ],
             [
              1,
              "#f0f921"
             ]
            ],
            "type": "histogram2dcontour"
           }
          ],
          "mesh3d": [
           {
            "colorbar": {
             "outlinewidth": 0,
             "ticks": ""
            },
            "type": "mesh3d"
           }
          ],
          "parcoords": [
           {
            "line": {
             "colorbar": {
              "outlinewidth": 0,
              "ticks": ""
             }
            },
            "type": "parcoords"
           }
          ],
          "pie": [
           {
            "automargin": true,
            "type": "pie"
           }
          ],
          "scatter": [
           {
            "marker": {
             "colorbar": {
              "outlinewidth": 0,
              "ticks": ""
             }
            },
            "type": "scatter"
           }
          ],
          "scatter3d": [
           {
            "line": {
             "colorbar": {
              "outlinewidth": 0,
              "ticks": ""
             }
            },
            "marker": {
             "colorbar": {
              "outlinewidth": 0,
              "ticks": ""
             }
            },
            "type": "scatter3d"
           }
          ],
          "scattercarpet": [
           {
            "marker": {
             "colorbar": {
              "outlinewidth": 0,
              "ticks": ""
             }
            },
            "type": "scattercarpet"
           }
          ],
          "scattergeo": [
           {
            "marker": {
             "colorbar": {
              "outlinewidth": 0,
              "ticks": ""
             }
            },
            "type": "scattergeo"
           }
          ],
          "scattergl": [
           {
            "marker": {
             "colorbar": {
              "outlinewidth": 0,
              "ticks": ""
             }
            },
            "type": "scattergl"
           }
          ],
          "scattermapbox": [
           {
            "marker": {
             "colorbar": {
              "outlinewidth": 0,
              "ticks": ""
             }
            },
            "type": "scattermapbox"
           }
          ],
          "scatterpolar": [
           {
            "marker": {
             "colorbar": {
              "outlinewidth": 0,
              "ticks": ""
             }
            },
            "type": "scatterpolar"
           }
          ],
          "scatterpolargl": [
           {
            "marker": {
             "colorbar": {
              "outlinewidth": 0,
              "ticks": ""
             }
            },
            "type": "scatterpolargl"
           }
          ],
          "scatterternary": [
           {
            "marker": {
             "colorbar": {
              "outlinewidth": 0,
              "ticks": ""
             }
            },
            "type": "scatterternary"
           }
          ],
          "surface": [
           {
            "colorbar": {
             "outlinewidth": 0,
             "ticks": ""
            },
            "colorscale": [
             [
              0,
              "#0d0887"
             ],
             [
              0.1111111111111111,
              "#46039f"
             ],
             [
              0.2222222222222222,
              "#7201a8"
             ],
             [
              0.3333333333333333,
              "#9c179e"
             ],
             [
              0.4444444444444444,
              "#bd3786"
             ],
             [
              0.5555555555555556,
              "#d8576b"
             ],
             [
              0.6666666666666666,
              "#ed7953"
             ],
             [
              0.7777777777777778,
              "#fb9f3a"
             ],
             [
              0.8888888888888888,
              "#fdca26"
             ],
             [
              1,
              "#f0f921"
             ]
            ],
            "type": "surface"
           }
          ],
          "table": [
           {
            "cells": {
             "fill": {
              "color": "#EBF0F8"
             },
             "line": {
              "color": "white"
             }
            },
            "header": {
             "fill": {
              "color": "#C8D4E3"
             },
             "line": {
              "color": "white"
             }
            },
            "type": "table"
           }
          ]
         },
         "layout": {
          "annotationdefaults": {
           "arrowcolor": "#2a3f5f",
           "arrowhead": 0,
           "arrowwidth": 1
          },
          "autotypenumbers": "strict",
          "coloraxis": {
           "colorbar": {
            "outlinewidth": 0,
            "ticks": ""
           }
          },
          "colorscale": {
           "diverging": [
            [
             0,
             "#8e0152"
            ],
            [
             0.1,
             "#c51b7d"
            ],
            [
             0.2,
             "#de77ae"
            ],
            [
             0.3,
             "#f1b6da"
            ],
            [
             0.4,
             "#fde0ef"
            ],
            [
             0.5,
             "#f7f7f7"
            ],
            [
             0.6,
             "#e6f5d0"
            ],
            [
             0.7,
             "#b8e186"
            ],
            [
             0.8,
             "#7fbc41"
            ],
            [
             0.9,
             "#4d9221"
            ],
            [
             1,
             "#276419"
            ]
           ],
           "sequential": [
            [
             0,
             "#0d0887"
            ],
            [
             0.1111111111111111,
             "#46039f"
            ],
            [
             0.2222222222222222,
             "#7201a8"
            ],
            [
             0.3333333333333333,
             "#9c179e"
            ],
            [
             0.4444444444444444,
             "#bd3786"
            ],
            [
             0.5555555555555556,
             "#d8576b"
            ],
            [
             0.6666666666666666,
             "#ed7953"
            ],
            [
             0.7777777777777778,
             "#fb9f3a"
            ],
            [
             0.8888888888888888,
             "#fdca26"
            ],
            [
             1,
             "#f0f921"
            ]
           ],
           "sequentialminus": [
            [
             0,
             "#0d0887"
            ],
            [
             0.1111111111111111,
             "#46039f"
            ],
            [
             0.2222222222222222,
             "#7201a8"
            ],
            [
             0.3333333333333333,
             "#9c179e"
            ],
            [
             0.4444444444444444,
             "#bd3786"
            ],
            [
             0.5555555555555556,
             "#d8576b"
            ],
            [
             0.6666666666666666,
             "#ed7953"
            ],
            [
             0.7777777777777778,
             "#fb9f3a"
            ],
            [
             0.8888888888888888,
             "#fdca26"
            ],
            [
             1,
             "#f0f921"
            ]
           ]
          },
          "colorway": [
           "#636efa",
           "#EF553B",
           "#00cc96",
           "#ab63fa",
           "#FFA15A",
           "#19d3f3",
           "#FF6692",
           "#B6E880",
           "#FF97FF",
           "#FECB52"
          ],
          "font": {
           "color": "#2a3f5f"
          },
          "geo": {
           "bgcolor": "white",
           "lakecolor": "white",
           "landcolor": "#E5ECF6",
           "showlakes": true,
           "showland": true,
           "subunitcolor": "white"
          },
          "hoverlabel": {
           "align": "left"
          },
          "hovermode": "closest",
          "mapbox": {
           "style": "light"
          },
          "paper_bgcolor": "white",
          "plot_bgcolor": "#E5ECF6",
          "polar": {
           "angularaxis": {
            "gridcolor": "white",
            "linecolor": "white",
            "ticks": ""
           },
           "bgcolor": "#E5ECF6",
           "radialaxis": {
            "gridcolor": "white",
            "linecolor": "white",
            "ticks": ""
           }
          },
          "scene": {
           "xaxis": {
            "backgroundcolor": "#E5ECF6",
            "gridcolor": "white",
            "gridwidth": 2,
            "linecolor": "white",
            "showbackground": true,
            "ticks": "",
            "zerolinecolor": "white"
           },
           "yaxis": {
            "backgroundcolor": "#E5ECF6",
            "gridcolor": "white",
            "gridwidth": 2,
            "linecolor": "white",
            "showbackground": true,
            "ticks": "",
            "zerolinecolor": "white"
           },
           "zaxis": {
            "backgroundcolor": "#E5ECF6",
            "gridcolor": "white",
            "gridwidth": 2,
            "linecolor": "white",
            "showbackground": true,
            "ticks": "",
            "zerolinecolor": "white"
           }
          },
          "shapedefaults": {
           "line": {
            "color": "#2a3f5f"
           }
          },
          "ternary": {
           "aaxis": {
            "gridcolor": "white",
            "linecolor": "white",
            "ticks": ""
           },
           "baxis": {
            "gridcolor": "white",
            "linecolor": "white",
            "ticks": ""
           },
           "bgcolor": "#E5ECF6",
           "caxis": {
            "gridcolor": "white",
            "linecolor": "white",
            "ticks": ""
           }
          },
          "title": {
           "x": 0.05
          },
          "xaxis": {
           "automargin": true,
           "gridcolor": "white",
           "linecolor": "white",
           "ticks": "",
           "title": {
            "standoff": 15
           },
           "zerolinecolor": "white",
           "zerolinewidth": 2
          },
          "yaxis": {
           "automargin": true,
           "gridcolor": "white",
           "linecolor": "white",
           "ticks": "",
           "title": {
            "standoff": 15
           },
           "zerolinecolor": "white",
           "zerolinewidth": 2
          }
         }
        },
        "title": {
         "text": "Transition probabilities for edge case with no B cells - With selectional advantage + No mutation"
        },
        "width": 1000,
        "xaxis": {
         "linecolor": "black"
        },
        "yaxis": {
         "linecolor": "black"
        }
       }
      }
     },
     "metadata": {}
    }
   ],
   "metadata": {}
  },
  {
   "cell_type": "markdown",
   "source": [
    "## No selective advatange + Mutation\n",
    "\n",
    "### Start from 1/2 and 1/2 WT ws A"
   ],
   "metadata": {}
  },
  {
   "cell_type": "code",
   "execution_count": 15,
   "source": [
    "# Set initial population state WT - A - B\n",
    "initial_population = [50, 50, 0]\n",
    "\n",
    "# Set baseline growth rate\n",
    "alpha = 1\n",
    "\n",
    "# Set selective advantages for mutated cells\n",
    "s = 0\n",
    "r = 0\n",
    "\n",
    "# Set mutation rates\n",
    "mu_A = 0.001\n",
    "mu_B = 0\n",
    "\n",
    "# Coalesce into paramater vector\n",
    "parameters = initial_population\n",
    "parameters.extend([alpha, s, r, mu_A, mu_B])"
   ],
   "outputs": [],
   "metadata": {}
  },
  {
   "cell_type": "code",
   "execution_count": 16,
   "source": [
    "# Instantiate algorithm\n",
    "algorithm = ci.StemWF()\n",
    "\n",
    "# Select number of simulations\n",
    "num_simulations = 100000\n",
    "\n",
    "computation_time = np.empty(num_simulations, dtype=np.int)\n",
    "fixed_state = np.empty(num_simulations, dtype=np.str)\n",
    "\n",
    "for sim in range(num_simulations):\n",
    "    computation_time[sim], fixed_state[sim] = algorithm.simulate_fixation(parameters)\n",
    "\n",
    "mean_computation_time = np.mean(computation_time)\n",
    "prob_fix = (fixed_state == 'A').sum()/num_simulations\n",
    "\n",
    "mean_comp_time_fix_A = np.mean(computation_time[(fixed_state == 'A')])\n",
    "\n",
    "print('Average time to fixation: ', mean_computation_time)\n",
    "print('Probability of fixation of cell type A: ', prob_fix)\n",
    "print('Average time to illness when fixation at A: ', mean_comp_time_fix_A)"
   ],
   "outputs": [],
   "metadata": {}
  },
  {
   "cell_type": "markdown",
   "source": [
    "### Start from 1 A vs all other WT"
   ],
   "metadata": {}
  },
  {
   "cell_type": "code",
   "execution_count": null,
   "source": [
    "# Set initial population state WT - A - B\n",
    "initial_population = [99, 1, 0]\n",
    "\n",
    "# Set baseline growth rate\n",
    "alpha = 1\n",
    "\n",
    "# Set selective advantages for mutated cells\n",
    "s = 0\n",
    "r = 0\n",
    "\n",
    "# Set mutation rates\n",
    "mu_A = 0.001\n",
    "mu_B = 0\n",
    "\n",
    "# Coalesce into paramater vector\n",
    "parameters = initial_population\n",
    "parameters.extend([alpha, s, r, mu_A, mu_B])"
   ],
   "outputs": [],
   "metadata": {}
  },
  {
   "cell_type": "code",
   "execution_count": null,
   "source": [
    "# Instantiate algorithm\n",
    "algorithm = ci.StemWF()\n",
    "\n",
    "# Select number of simulations\n",
    "num_simulations = 100000\n",
    "\n",
    "computation_time = np.empty(num_simulations, dtype=np.int)\n",
    "fixed_state = np.empty(num_simulations, dtype=np.str)\n",
    "\n",
    "for sim in range(num_simulations):\n",
    "    computation_time[sim], fixed_state[sim] = algorithm.simulate_fixation(parameters)\n",
    "\n",
    "mean_computation_time = np.mean(computation_time)\n",
    "prob_fix = (fixed_state == 'A').sum()/num_simulations\n",
    "\n",
    "mean_comp_time_fix_A = np.mean(computation_time[(fixed_state == 'A')])\n",
    "\n",
    "print('Average time to fixation: ', mean_computation_time)\n",
    "print('Probability of fixation of cell type A: ', prob_fix)\n",
    "print('Average time to illness when fixation at A: ', mean_comp_time_fix_A)"
   ],
   "outputs": [
    {
     "output_type": "stream",
     "name": "stdout",
     "text": [
      "Average time to fixation:  1657.834\n",
      "Probability of fixation of cell type A:  0.02223\n",
      "Average time to illness when fixation at A:  20838.731443994602\n"
     ]
    }
   ],
   "metadata": {}
  },
  {
   "cell_type": "markdown",
   "source": [
    "### Plot transition probability curves"
   ],
   "metadata": {}
  },
  {
   "cell_type": "code",
   "execution_count": null,
   "source": [
    "# Plot transition probabilities\n",
    "sep_algo = ci.StemWF()\n",
    "\n",
    "sep_algo.N = int(np.sum(np.asarray(initial_population)))\n",
    "\n",
    "sep_algo.alpha_A = alpha + s\n",
    "sep_algo.alpha_B = alpha + r\n",
    "sep_algo.alpha_WT = alpha\n",
    "\n",
    "sep_algo.mu_A = 0.1\n",
    "sep_algo.mu_B = mu_B\n",
    "\n",
    "# Assuming no Bs in the population\n",
    "trans_prob = np.empty((sep_algo.N+1, 2))\n",
    "\n",
    "for i in range(sep_algo.N+1):\n",
    "    trans_prob[i, 0] = sep_algo._prob_A_to_WT(i, sep_algo.N - i, 0)\n",
    "    trans_prob[i, 1] = sep_algo._prob_WT_to_A(i, sep_algo.N - i, 0)"
   ],
   "outputs": [],
   "metadata": {}
  },
  {
   "cell_type": "code",
   "execution_count": null,
   "source": [
    "# Trace names - represent the transition probabilities used for the simulation\n",
    "trace_name = ['A->WT', 'WT->A']\n",
    "\n",
    "fig = go.Figure()\n",
    "\n",
    "# Add traces of the transition probabilities\n",
    "for c in range(trans_prob.shape[1]):\n",
    "    fig.add_trace(\n",
    "        go.Scatter(\n",
    "            y=trans_prob[:, c],\n",
    "            x=list(range(sep_algo.N+1)),\n",
    "            mode='lines',\n",
    "            name=trace_name[c],\n",
    "            line_color=colours[c]\n",
    "        )\n",
    "    )\n",
    "\n",
    "fig.update_layout(\n",
    "    title='Transition probabilities for edge case with no B cells - No selective advantage + With mutation',\n",
    "    width=1000, \n",
    "    height=600,\n",
    "    plot_bgcolor='white',\n",
    "    xaxis=dict(linecolor='black'),\n",
    "    yaxis=dict(linecolor='black'),\n",
    "    )"
   ],
   "outputs": [
    {
     "output_type": "display_data",
     "data": {
      "application/vnd.plotly.v1+json": {
       "config": {
        "plotlyServerURL": "https://plot.ly"
       },
       "data": [
        {
         "line": {
          "color": "blue"
         },
         "mode": "lines",
         "name": "A->WT",
         "type": "scatter",
         "x": [
          0,
          1,
          2,
          3,
          4,
          5,
          6,
          7,
          8,
          9,
          10,
          11,
          12,
          13,
          14,
          15,
          16,
          17,
          18,
          19,
          20,
          21,
          22,
          23,
          24,
          25,
          26,
          27,
          28,
          29,
          30,
          31,
          32,
          33,
          34,
          35,
          36,
          37,
          38,
          39,
          40,
          41,
          42,
          43,
          44,
          45,
          46,
          47,
          48,
          49,
          50,
          51,
          52,
          53,
          54,
          55,
          56,
          57,
          58,
          59,
          60,
          61,
          62,
          63,
          64,
          65,
          66,
          67,
          68,
          69,
          70,
          71,
          72,
          73,
          74,
          75,
          76,
          77,
          78,
          79,
          80,
          81,
          82,
          83,
          84,
          85,
          86,
          87,
          88,
          89,
          90,
          91,
          92,
          93,
          94,
          95,
          96,
          97,
          98,
          99,
          100,
          101
         ],
         "y": [
          0,
          0.008822664444662289,
          0.01746887560043133,
          0.025938633467307126,
          0.03423193804528968,
          0.04234878933437898,
          0.05028918733457504,
          0.058053132045877864,
          0.06564062346828743,
          0.07305166160180375,
          0.08028624644642683,
          0.08734437800215665,
          0.09422605626899323,
          0.10093128124693658,
          0.10746005293598668,
          0.11381237133614351,
          0.11998823644740712,
          0.12598764826977749,
          0.13181060680325457,
          0.13745711204783848,
          0.1429271640035291,
          0.14822076267032644,
          0.15333790804823058,
          0.15827860013724146,
          0.16304283893735907,
          0.16763062444858348,
          0.17204195667091463,
          0.17627683560435253,
          0.18033526124889718,
          0.18421723360454856,
          0.18792275267130673,
          0.19145181844917164,
          0.19480443093814334,
          0.19798059013822178,
          0.20098029604940695,
          0.20380354867169886,
          0.20645034800509757,
          0.208920694049603,
          0.2112145868052152,
          0.21333202627193415,
          0.21527301244975985,
          0.21703754533869232,
          0.2186256249387315,
          0.22003725124987747,
          0.22127242427213017,
          0.22233114400548967,
          0.2232134104499559,
          0.2239192236055289,
          0.2244485834722086,
          0.2248014900499951,
          0.22497794333888835,
          0.22497794333888835,
          0.2248014900499951,
          0.2244485834722086,
          0.2239192236055289,
          0.2232134104499559,
          0.2223311440054897,
          0.22127242427213017,
          0.22003725124987744,
          0.21862562493873147,
          0.2170375453386923,
          0.21527301244975985,
          0.21333202627193415,
          0.21121458680521518,
          0.20892069404960298,
          0.20645034800509754,
          0.20380354867169886,
          0.20098029604940695,
          0.19798059013822178,
          0.19480443093814337,
          0.19145181844917164,
          0.18792275267130673,
          0.18421723360454856,
          0.18033526124889718,
          0.17627683560435253,
          0.17204195667091463,
          0.16763062444858348,
          0.16304283893735907,
          0.15827860013724146,
          0.15333790804823058,
          0.14822076267032644,
          0.1429271640035291,
          0.13745711204783848,
          0.13181060680325457,
          0.12598764826977749,
          0.11998823644740712,
          0.11381237133614353,
          0.10746005293598668,
          0.10093128124693658,
          0.09422605626899323,
          0.08734437800215665,
          0.08028624644642683,
          0.07305166160180375,
          0.06564062346828743,
          0.058053132045877864,
          0.05028918733457504,
          0.04234878933437899,
          0.03423193804528968,
          0.025938633467307126,
          0.01746887560043133,
          0.008822664444662289,
          0
         ]
        },
        {
         "line": {
          "color": "red"
         },
         "mode": "lines",
         "name": "WT->A",
         "type": "scatter",
         "x": [
          0,
          1,
          2,
          3,
          4,
          5,
          6,
          7,
          8,
          9,
          10,
          11,
          12,
          13,
          14,
          15,
          16,
          17,
          18,
          19,
          20,
          21,
          22,
          23,
          24,
          25,
          26,
          27,
          28,
          29,
          30,
          31,
          32,
          33,
          34,
          35,
          36,
          37,
          38,
          39,
          40,
          41,
          42,
          43,
          44,
          45,
          46,
          47,
          48,
          49,
          50,
          51,
          52,
          53,
          54,
          55,
          56,
          57,
          58,
          59,
          60,
          61,
          62,
          63,
          64,
          65,
          66,
          67,
          68,
          69,
          70,
          71,
          72,
          73,
          74,
          75,
          76,
          77,
          78,
          79,
          80,
          81,
          82,
          83,
          84,
          85,
          86,
          87,
          88,
          89,
          90,
          91,
          92,
          93,
          94,
          95,
          96,
          97,
          98,
          99,
          100,
          101
         ],
         "y": [
          0,
          0.008832467405156358,
          0.01750808744240761,
          0.026026860111753748,
          0.03438878541319479,
          0.042593863346730716,
          0.05064209391236153,
          0.05853347711008726,
          0.06626801293990786,
          0.07384570140182335,
          0.08126654249583375,
          0.08853053622193903,
          0.0956376825801392,
          0.10258798157043428,
          0.10938143319282424,
          0.1160180374473091,
          0.12249779433388884,
          0.1288207038525635,
          0.13498676600333298,
          0.14099598078619746,
          0.14684834820115678,
          0.15254386824821095,
          0.15808254092736007,
          0.16346436623860408,
          0.16868934418194295,
          0.17375747475737674,
          0.17866875796490542,
          0.18342319380452898,
          0.18802078227624744,
          0.19246152338006076,
          0.19674541711596902,
          0.20087246348397214,
          0.20484266248407024,
          0.20865601411626314,
          0.21231251838055096,
          0.21581217527693364,
          0.21915498480541123,
          0.22234094696598372,
          0.22537006175865112,
          0.22824232918341342,
          0.2309577492402706,
          0.23351632192922264,
          0.23591804725026955,
          0.23816292520341142,
          0.24025095578864816,
          0.24218213900597985,
          0.24395647485540636,
          0.2455739633369278,
          0.24703460445054407,
          0.24833839819625528,
          0.24948534457406138,
          0.25047544358396234,
          0.2513086952259583,
          0.25198509950004905,
          0.2525046564062347,
          0.25286736594451525,
          0.25307322811489075,
          0.253122242917361,
          0.2530144103519263,
          0.2527497304185864,
          0.2523282031173415,
          0.2517498284481914,
          0.2510146064111362,
          0.2501225370061759,
          0.24907362023331048,
          0.24786785609253997,
          0.24650524458386436,
          0.24498578570728363,
          0.2433094794627978,
          0.24147632585040685,
          0.23948632487011076,
          0.23733947652190962,
          0.23503578080580334,
          0.23257523772179198,
          0.2299578472698755,
          0.22718360945005392,
          0.22425252426232722,
          0.22116459170669542,
          0.21791981178315853,
          0.21451818449171653,
          0.2109597098323694,
          0.20724438780511717,
          0.20337221840995984,
          0.19934320164689734,
          0.19515733751592984,
          0.19081462601705718,
          0.1863150671502794,
          0.18165866091559651,
          0.17684540731300855,
          0.17187530634251544,
          0.16674835800411725,
          0.16146456229781397,
          0.15602391922360553,
          0.15042642878149204,
          0.1446720909714734,
          0.13876090579354963,
          0.1326928732477208,
          0.12646799333398687,
          0.1200862660523478,
          0.11354769140280366,
          0.10685226938535437,
          0.1
         ]
        }
       ],
       "layout": {
        "height": 600,
        "plot_bgcolor": "white",
        "template": {
         "data": {
          "bar": [
           {
            "error_x": {
             "color": "#2a3f5f"
            },
            "error_y": {
             "color": "#2a3f5f"
            },
            "marker": {
             "line": {
              "color": "#E5ECF6",
              "width": 0.5
             }
            },
            "type": "bar"
           }
          ],
          "barpolar": [
           {
            "marker": {
             "line": {
              "color": "#E5ECF6",
              "width": 0.5
             }
            },
            "type": "barpolar"
           }
          ],
          "carpet": [
           {
            "aaxis": {
             "endlinecolor": "#2a3f5f",
             "gridcolor": "white",
             "linecolor": "white",
             "minorgridcolor": "white",
             "startlinecolor": "#2a3f5f"
            },
            "baxis": {
             "endlinecolor": "#2a3f5f",
             "gridcolor": "white",
             "linecolor": "white",
             "minorgridcolor": "white",
             "startlinecolor": "#2a3f5f"
            },
            "type": "carpet"
           }
          ],
          "choropleth": [
           {
            "colorbar": {
             "outlinewidth": 0,
             "ticks": ""
            },
            "type": "choropleth"
           }
          ],
          "contour": [
           {
            "colorbar": {
             "outlinewidth": 0,
             "ticks": ""
            },
            "colorscale": [
             [
              0,
              "#0d0887"
             ],
             [
              0.1111111111111111,
              "#46039f"
             ],
             [
              0.2222222222222222,
              "#7201a8"
             ],
             [
              0.3333333333333333,
              "#9c179e"
             ],
             [
              0.4444444444444444,
              "#bd3786"
             ],
             [
              0.5555555555555556,
              "#d8576b"
             ],
             [
              0.6666666666666666,
              "#ed7953"
             ],
             [
              0.7777777777777778,
              "#fb9f3a"
             ],
             [
              0.8888888888888888,
              "#fdca26"
             ],
             [
              1,
              "#f0f921"
             ]
            ],
            "type": "contour"
           }
          ],
          "contourcarpet": [
           {
            "colorbar": {
             "outlinewidth": 0,
             "ticks": ""
            },
            "type": "contourcarpet"
           }
          ],
          "heatmap": [
           {
            "colorbar": {
             "outlinewidth": 0,
             "ticks": ""
            },
            "colorscale": [
             [
              0,
              "#0d0887"
             ],
             [
              0.1111111111111111,
              "#46039f"
             ],
             [
              0.2222222222222222,
              "#7201a8"
             ],
             [
              0.3333333333333333,
              "#9c179e"
             ],
             [
              0.4444444444444444,
              "#bd3786"
             ],
             [
              0.5555555555555556,
              "#d8576b"
             ],
             [
              0.6666666666666666,
              "#ed7953"
             ],
             [
              0.7777777777777778,
              "#fb9f3a"
             ],
             [
              0.8888888888888888,
              "#fdca26"
             ],
             [
              1,
              "#f0f921"
             ]
            ],
            "type": "heatmap"
           }
          ],
          "heatmapgl": [
           {
            "colorbar": {
             "outlinewidth": 0,
             "ticks": ""
            },
            "colorscale": [
             [
              0,
              "#0d0887"
             ],
             [
              0.1111111111111111,
              "#46039f"
             ],
             [
              0.2222222222222222,
              "#7201a8"
             ],
             [
              0.3333333333333333,
              "#9c179e"
             ],
             [
              0.4444444444444444,
              "#bd3786"
             ],
             [
              0.5555555555555556,
              "#d8576b"
             ],
             [
              0.6666666666666666,
              "#ed7953"
             ],
             [
              0.7777777777777778,
              "#fb9f3a"
             ],
             [
              0.8888888888888888,
              "#fdca26"
             ],
             [
              1,
              "#f0f921"
             ]
            ],
            "type": "heatmapgl"
           }
          ],
          "histogram": [
           {
            "marker": {
             "colorbar": {
              "outlinewidth": 0,
              "ticks": ""
             }
            },
            "type": "histogram"
           }
          ],
          "histogram2d": [
           {
            "colorbar": {
             "outlinewidth": 0,
             "ticks": ""
            },
            "colorscale": [
             [
              0,
              "#0d0887"
             ],
             [
              0.1111111111111111,
              "#46039f"
             ],
             [
              0.2222222222222222,
              "#7201a8"
             ],
             [
              0.3333333333333333,
              "#9c179e"
             ],
             [
              0.4444444444444444,
              "#bd3786"
             ],
             [
              0.5555555555555556,
              "#d8576b"
             ],
             [
              0.6666666666666666,
              "#ed7953"
             ],
             [
              0.7777777777777778,
              "#fb9f3a"
             ],
             [
              0.8888888888888888,
              "#fdca26"
             ],
             [
              1,
              "#f0f921"
             ]
            ],
            "type": "histogram2d"
           }
          ],
          "histogram2dcontour": [
           {
            "colorbar": {
             "outlinewidth": 0,
             "ticks": ""
            },
            "colorscale": [
             [
              0,
              "#0d0887"
             ],
             [
              0.1111111111111111,
              "#46039f"
             ],
             [
              0.2222222222222222,
              "#7201a8"
             ],
             [
              0.3333333333333333,
              "#9c179e"
             ],
             [
              0.4444444444444444,
              "#bd3786"
             ],
             [
              0.5555555555555556,
              "#d8576b"
             ],
             [
              0.6666666666666666,
              "#ed7953"
             ],
             [
              0.7777777777777778,
              "#fb9f3a"
             ],
             [
              0.8888888888888888,
              "#fdca26"
             ],
             [
              1,
              "#f0f921"
             ]
            ],
            "type": "histogram2dcontour"
           }
          ],
          "mesh3d": [
           {
            "colorbar": {
             "outlinewidth": 0,
             "ticks": ""
            },
            "type": "mesh3d"
           }
          ],
          "parcoords": [
           {
            "line": {
             "colorbar": {
              "outlinewidth": 0,
              "ticks": ""
             }
            },
            "type": "parcoords"
           }
          ],
          "pie": [
           {
            "automargin": true,
            "type": "pie"
           }
          ],
          "scatter": [
           {
            "marker": {
             "colorbar": {
              "outlinewidth": 0,
              "ticks": ""
             }
            },
            "type": "scatter"
           }
          ],
          "scatter3d": [
           {
            "line": {
             "colorbar": {
              "outlinewidth": 0,
              "ticks": ""
             }
            },
            "marker": {
             "colorbar": {
              "outlinewidth": 0,
              "ticks": ""
             }
            },
            "type": "scatter3d"
           }
          ],
          "scattercarpet": [
           {
            "marker": {
             "colorbar": {
              "outlinewidth": 0,
              "ticks": ""
             }
            },
            "type": "scattercarpet"
           }
          ],
          "scattergeo": [
           {
            "marker": {
             "colorbar": {
              "outlinewidth": 0,
              "ticks": ""
             }
            },
            "type": "scattergeo"
           }
          ],
          "scattergl": [
           {
            "marker": {
             "colorbar": {
              "outlinewidth": 0,
              "ticks": ""
             }
            },
            "type": "scattergl"
           }
          ],
          "scattermapbox": [
           {
            "marker": {
             "colorbar": {
              "outlinewidth": 0,
              "ticks": ""
             }
            },
            "type": "scattermapbox"
           }
          ],
          "scatterpolar": [
           {
            "marker": {
             "colorbar": {
              "outlinewidth": 0,
              "ticks": ""
             }
            },
            "type": "scatterpolar"
           }
          ],
          "scatterpolargl": [
           {
            "marker": {
             "colorbar": {
              "outlinewidth": 0,
              "ticks": ""
             }
            },
            "type": "scatterpolargl"
           }
          ],
          "scatterternary": [
           {
            "marker": {
             "colorbar": {
              "outlinewidth": 0,
              "ticks": ""
             }
            },
            "type": "scatterternary"
           }
          ],
          "surface": [
           {
            "colorbar": {
             "outlinewidth": 0,
             "ticks": ""
            },
            "colorscale": [
             [
              0,
              "#0d0887"
             ],
             [
              0.1111111111111111,
              "#46039f"
             ],
             [
              0.2222222222222222,
              "#7201a8"
             ],
             [
              0.3333333333333333,
              "#9c179e"
             ],
             [
              0.4444444444444444,
              "#bd3786"
             ],
             [
              0.5555555555555556,
              "#d8576b"
             ],
             [
              0.6666666666666666,
              "#ed7953"
             ],
             [
              0.7777777777777778,
              "#fb9f3a"
             ],
             [
              0.8888888888888888,
              "#fdca26"
             ],
             [
              1,
              "#f0f921"
             ]
            ],
            "type": "surface"
           }
          ],
          "table": [
           {
            "cells": {
             "fill": {
              "color": "#EBF0F8"
             },
             "line": {
              "color": "white"
             }
            },
            "header": {
             "fill": {
              "color": "#C8D4E3"
             },
             "line": {
              "color": "white"
             }
            },
            "type": "table"
           }
          ]
         },
         "layout": {
          "annotationdefaults": {
           "arrowcolor": "#2a3f5f",
           "arrowhead": 0,
           "arrowwidth": 1
          },
          "autotypenumbers": "strict",
          "coloraxis": {
           "colorbar": {
            "outlinewidth": 0,
            "ticks": ""
           }
          },
          "colorscale": {
           "diverging": [
            [
             0,
             "#8e0152"
            ],
            [
             0.1,
             "#c51b7d"
            ],
            [
             0.2,
             "#de77ae"
            ],
            [
             0.3,
             "#f1b6da"
            ],
            [
             0.4,
             "#fde0ef"
            ],
            [
             0.5,
             "#f7f7f7"
            ],
            [
             0.6,
             "#e6f5d0"
            ],
            [
             0.7,
             "#b8e186"
            ],
            [
             0.8,
             "#7fbc41"
            ],
            [
             0.9,
             "#4d9221"
            ],
            [
             1,
             "#276419"
            ]
           ],
           "sequential": [
            [
             0,
             "#0d0887"
            ],
            [
             0.1111111111111111,
             "#46039f"
            ],
            [
             0.2222222222222222,
             "#7201a8"
            ],
            [
             0.3333333333333333,
             "#9c179e"
            ],
            [
             0.4444444444444444,
             "#bd3786"
            ],
            [
             0.5555555555555556,
             "#d8576b"
            ],
            [
             0.6666666666666666,
             "#ed7953"
            ],
            [
             0.7777777777777778,
             "#fb9f3a"
            ],
            [
             0.8888888888888888,
             "#fdca26"
            ],
            [
             1,
             "#f0f921"
            ]
           ],
           "sequentialminus": [
            [
             0,
             "#0d0887"
            ],
            [
             0.1111111111111111,
             "#46039f"
            ],
            [
             0.2222222222222222,
             "#7201a8"
            ],
            [
             0.3333333333333333,
             "#9c179e"
            ],
            [
             0.4444444444444444,
             "#bd3786"
            ],
            [
             0.5555555555555556,
             "#d8576b"
            ],
            [
             0.6666666666666666,
             "#ed7953"
            ],
            [
             0.7777777777777778,
             "#fb9f3a"
            ],
            [
             0.8888888888888888,
             "#fdca26"
            ],
            [
             1,
             "#f0f921"
            ]
           ]
          },
          "colorway": [
           "#636efa",
           "#EF553B",
           "#00cc96",
           "#ab63fa",
           "#FFA15A",
           "#19d3f3",
           "#FF6692",
           "#B6E880",
           "#FF97FF",
           "#FECB52"
          ],
          "font": {
           "color": "#2a3f5f"
          },
          "geo": {
           "bgcolor": "white",
           "lakecolor": "white",
           "landcolor": "#E5ECF6",
           "showlakes": true,
           "showland": true,
           "subunitcolor": "white"
          },
          "hoverlabel": {
           "align": "left"
          },
          "hovermode": "closest",
          "mapbox": {
           "style": "light"
          },
          "paper_bgcolor": "white",
          "plot_bgcolor": "#E5ECF6",
          "polar": {
           "angularaxis": {
            "gridcolor": "white",
            "linecolor": "white",
            "ticks": ""
           },
           "bgcolor": "#E5ECF6",
           "radialaxis": {
            "gridcolor": "white",
            "linecolor": "white",
            "ticks": ""
           }
          },
          "scene": {
           "xaxis": {
            "backgroundcolor": "#E5ECF6",
            "gridcolor": "white",
            "gridwidth": 2,
            "linecolor": "white",
            "showbackground": true,
            "ticks": "",
            "zerolinecolor": "white"
           },
           "yaxis": {
            "backgroundcolor": "#E5ECF6",
            "gridcolor": "white",
            "gridwidth": 2,
            "linecolor": "white",
            "showbackground": true,
            "ticks": "",
            "zerolinecolor": "white"
           },
           "zaxis": {
            "backgroundcolor": "#E5ECF6",
            "gridcolor": "white",
            "gridwidth": 2,
            "linecolor": "white",
            "showbackground": true,
            "ticks": "",
            "zerolinecolor": "white"
           }
          },
          "shapedefaults": {
           "line": {
            "color": "#2a3f5f"
           }
          },
          "ternary": {
           "aaxis": {
            "gridcolor": "white",
            "linecolor": "white",
            "ticks": ""
           },
           "baxis": {
            "gridcolor": "white",
            "linecolor": "white",
            "ticks": ""
           },
           "bgcolor": "#E5ECF6",
           "caxis": {
            "gridcolor": "white",
            "linecolor": "white",
            "ticks": ""
           }
          },
          "title": {
           "x": 0.05
          },
          "xaxis": {
           "automargin": true,
           "gridcolor": "white",
           "linecolor": "white",
           "ticks": "",
           "title": {
            "standoff": 15
           },
           "zerolinecolor": "white",
           "zerolinewidth": 2
          },
          "yaxis": {
           "automargin": true,
           "gridcolor": "white",
           "linecolor": "white",
           "ticks": "",
           "title": {
            "standoff": 15
           },
           "zerolinecolor": "white",
           "zerolinewidth": 2
          }
         }
        },
        "title": {
         "text": "Transition probabilities for edge case with no B cells - No selectional advantage + With mutation"
        },
        "width": 1000,
        "xaxis": {
         "linecolor": "black"
        },
        "yaxis": {
         "linecolor": "black"
        }
       }
      }
     },
     "metadata": {}
    }
   ],
   "metadata": {}
  },
  {
   "cell_type": "markdown",
   "source": [
    "## Compute mean time to fixation and probability of fixation of B cells when no A are present"
   ],
   "metadata": {}
  },
  {
   "cell_type": "markdown",
   "source": [
    "## No selective advatange + No mutation\n",
    "\n",
    "### Start from 1/2 and 1/2 WT ws B"
   ],
   "metadata": {}
  },
  {
   "cell_type": "code",
   "execution_count": null,
   "source": [
    "# Set initial population state WT - A - B\n",
    "initial_population = [50, 0, 50]\n",
    "\n",
    "# Set baseline growth rate\n",
    "alpha = 0.5\n",
    "\n",
    "# Set selective advantages for mutated cells\n",
    "s = 0\n",
    "r = 0\n",
    " \n",
    "# Set mutation rates\n",
    "mu_A = 0\n",
    "mu_B = 0\n",
    "\n",
    "# Coalesce into paramater vector\n",
    "parameters = initial_population\n",
    "parameters.extend([alpha, s, r, mu_A, mu_B])\n",
    "\n",
    "# Choose switching times\n",
    "switch_times = np.stack((np.array(range(200)) * 500, np.array(range(1, 201)) % 2), axis=1).tolist()\n",
    "#switch_times = np.stack((np.array(range(200)) * 500, np.ones(200, dtype=np.int)), axis=1).tolist()"
   ],
   "outputs": [],
   "metadata": {}
  },
  {
   "cell_type": "code",
   "execution_count": null,
   "source": [
    "# Instantiate algorithm\n",
    "algorithm = ci.StemWFTIMEVAR()\n",
    "\n",
    "# Select number of simulations\n",
    "num_simulations = 100000\n",
    "\n",
    "computation_time = np.empty(num_simulations, dtype=np.int)\n",
    "fixed_state = np.empty(num_simulations, dtype=np.str)\n",
    "\n",
    "for sim in range(num_simulations):\n",
    "    computation_time[sim], fixed_state[sim] = algorithm.simulate_fixation(parameters, switch_times)\n",
    "\n",
    "mean_computation_time = np.mean(computation_time)\n",
    "prob_fix = (fixed_state == 'B').sum()/num_simulations\n",
    "\n",
    "mean_comp_time_fix_B = np.mean(computation_time[(fixed_state == 'B')])\n",
    "\n",
    "print('Average time to fixation: ', mean_computation_time)\n",
    "print('Probability of fixation of cell type B: ', prob_fix)\n",
    "print('Average time to illness when fixation at B: ', mean_comp_time_fix_B)"
   ],
   "outputs": [
    {
     "output_type": "stream",
     "name": "stdout",
     "text": [
      "Average time to fixation:  13646.78\n",
      "Probability of fixation of cell type B:  0.49896\n",
      "Average time to illness when fixation at B:  13649.799583132917\n"
     ]
    }
   ],
   "metadata": {}
  },
  {
   "cell_type": "markdown",
   "source": [
    "### Start from 1 B vs all other WT"
   ],
   "metadata": {}
  },
  {
   "cell_type": "code",
   "execution_count": null,
   "source": [
    "# Set initial population state WT - A - B\n",
    "initial_population = [99, 0, 1]\n",
    "\n",
    "# Set baseline growth rate\n",
    "alpha = 0.5\n",
    "\n",
    "# Set selective advantages for mutated cells\n",
    "s = 0\n",
    "r = 0\n",
    " \n",
    "# Set mutation rates\n",
    "mu_A = 0\n",
    "mu_B = 0\n",
    "\n",
    "# Coalesce into paramater vector\n",
    "parameters = initial_population\n",
    "parameters.extend([alpha, s, r, mu_A, mu_B])\n",
    "\n",
    "# Choose switching times\n",
    "switch_times = np.stack((np.array(range(200)) * 500, np.array(range(1, 201)) % 2), axis=1).tolist()\n",
    "#switch_times = np.stack((np.array(range(200)) * 500, np.ones(200, dtype=np.int)), axis=1).tolist()"
   ],
   "outputs": [],
   "metadata": {}
  },
  {
   "cell_type": "code",
   "execution_count": null,
   "source": [
    "# Instantiate algorithm\n",
    "algorithm = ci.StemWFTIMEVAR()\n",
    "\n",
    "# Select number of simulations\n",
    "num_simulations = 100000\n",
    "\n",
    "computation_time = np.empty(num_simulations, dtype=np.int)\n",
    "fixed_state = np.empty(num_simulations, dtype=np.str)\n",
    "\n",
    "for sim in range(num_simulations):\n",
    "    computation_time[sim], fixed_state[sim] = algorithm.simulate_fixation(parameters, switch_times)\n",
    "\n",
    "mean_computation_time = np.mean(computation_time)\n",
    "prob_fix = (fixed_state == 'B').sum()/num_simulations\n",
    "\n",
    "mean_comp_time_fix_B = np.mean(computation_time[(fixed_state == 'B')])\n",
    "\n",
    "print('Average time to fixation: ', mean_computation_time)\n",
    "print('Probability of fixation of cell type B: ', prob_fix)\n",
    "print('Average time to illness when fixation at B: ', mean_comp_time_fix_B)"
   ],
   "outputs": [
    {
     "output_type": "stream",
     "name": "stdout",
     "text": [
      "Average time to fixation:  1064.207\n",
      "Probability of fixation of cell type B:  0.01011\n",
      "Average time to illness when fixation at B:  20030.86053412463\n"
     ]
    }
   ],
   "metadata": {}
  },
  {
   "cell_type": "markdown",
   "source": [
    "### Plot transition probability curves"
   ],
   "metadata": {}
  },
  {
   "cell_type": "code",
   "execution_count": null,
   "source": [
    "# Plot transition probabilities\n",
    "sep_algo = ci.StemWFTIMEVAR()\n",
    "\n",
    "sep_algo.N = int(np.sum(np.asarray(initial_population)))\n",
    "\n",
    "sep_algo.alpha_A = alpha + s\n",
    "sep_algo.alpha_B = alpha + r\n",
    "sep_algo.alpha_WT = alpha\n",
    "sep_algo.switches =  np.asarray(switch_times)\n",
    "\n",
    "sep_algo.mu_A = mu_B\n",
    "sep_algo.mu_B = mu_B\n",
    "\n",
    "# Assuming no Bs in the population\n",
    "trans_prob = np.empty((sep_algo.N+1, 4))\n",
    "\n",
    "for i in range(sep_algo.N+1):\n",
    "    trans_prob[i, 0] = sep_algo._prob_B_to_WT(1, i, 0,sep_algo.N - i)\n",
    "    trans_prob[i, 1] = sep_algo._prob_WT_to_B(1, i, 0, sep_algo.N - i)\n",
    "    trans_prob[i, 2] = sep_algo._prob_B_to_WT(501, i, 0, sep_algo.N - i)\n",
    "    trans_prob[i, 3] = sep_algo._prob_WT_to_B(501, i, 0, sep_algo.N - i)"
   ],
   "outputs": [],
   "metadata": {}
  },
  {
   "cell_type": "code",
   "execution_count": null,
   "source": [
    "# Trace names - represent the transition probabilities used for the simulation\n",
    "trace_name = ['B->WT env ON', 'WT->B env ON', 'B->WT env OFF', 'WT->B env OFF']\n",
    "\n",
    "fig = go.Figure()\n",
    "\n",
    "# Add traces of the transition probabilities\n",
    "for c in range(trans_prob.shape[1]):\n",
    "    fig.add_trace(\n",
    "        go.Scatter(\n",
    "            y=trans_prob[:, c],\n",
    "            x=list(range(sep_algo.N+1)),\n",
    "            mode='lines',\n",
    "            name=trace_name[c],\n",
    "            line_color=colours[c]\n",
    "        )\n",
    "    )\n",
    "\n",
    "fig.update_layout(\n",
    "    title='Transition probabilities for edge case with no B cells - No selective advantage + With mutation',\n",
    "    width=1000, \n",
    "    height=600,\n",
    "    plot_bgcolor='white',\n",
    "    xaxis=dict(linecolor='black'),\n",
    "    yaxis=dict(linecolor='black'),\n",
    "    )"
   ],
   "outputs": [
    {
     "output_type": "display_data",
     "data": {
      "application/vnd.plotly.v1+json": {
       "config": {
        "plotlyServerURL": "https://plot.ly"
       },
       "data": [
        {
         "line": {
          "color": "blue"
         },
         "mode": "lines",
         "name": "B->WT env ON",
         "type": "scatter",
         "x": [
          0,
          1,
          2,
          3,
          4,
          5,
          6,
          7,
          8,
          9,
          10,
          11,
          12,
          13,
          14,
          15,
          16,
          17,
          18,
          19,
          20,
          21,
          22,
          23,
          24,
          25,
          26,
          27,
          28,
          29,
          30,
          31,
          32,
          33,
          34,
          35,
          36,
          37,
          38,
          39,
          40,
          41,
          42,
          43,
          44,
          45,
          46,
          47,
          48,
          49,
          50,
          51,
          52,
          53,
          54,
          55,
          56,
          57,
          58,
          59,
          60,
          61,
          62,
          63,
          64,
          65,
          66,
          67,
          68,
          69,
          70,
          71,
          72,
          73,
          74,
          75,
          76,
          77,
          78,
          79,
          80,
          81,
          82,
          83,
          84,
          85,
          86,
          87,
          88,
          89,
          90,
          91,
          92,
          93,
          94,
          95,
          96,
          97,
          98,
          99,
          100
         ],
         "y": [
          0,
          0.0099,
          0.0196,
          0.029099999999999997,
          0.0384,
          0.0475,
          0.05639999999999999,
          0.0651,
          0.0736,
          0.0819,
          0.09000000000000001,
          0.0979,
          0.1056,
          0.1131,
          0.12040000000000001,
          0.1275,
          0.1344,
          0.1411,
          0.14759999999999998,
          0.1539,
          0.16000000000000003,
          0.1659,
          0.1716,
          0.1771,
          0.1824,
          0.1875,
          0.19240000000000002,
          0.1971,
          0.2016,
          0.20589999999999997,
          0.21,
          0.21389999999999998,
          0.21760000000000002,
          0.22110000000000002,
          0.22440000000000002,
          0.22749999999999998,
          0.2304,
          0.2331,
          0.2356,
          0.2379,
          0.24,
          0.24189999999999998,
          0.24359999999999998,
          0.24509999999999998,
          0.24640000000000004,
          0.24750000000000003,
          0.24840000000000004,
          0.2491,
          0.2496,
          0.2499,
          0.25,
          0.2499,
          0.2496,
          0.2491,
          0.24840000000000004,
          0.24750000000000003,
          0.24640000000000004,
          0.24509999999999998,
          0.24359999999999998,
          0.24189999999999998,
          0.24,
          0.2379,
          0.2356,
          0.2331,
          0.2304,
          0.22749999999999998,
          0.22440000000000002,
          0.22110000000000002,
          0.21760000000000002,
          0.21389999999999998,
          0.21,
          0.20589999999999997,
          0.2016,
          0.1971,
          0.19240000000000002,
          0.1875,
          0.1824,
          0.1771,
          0.1716,
          0.1659,
          0.16000000000000003,
          0.1539,
          0.14759999999999998,
          0.1411,
          0.1344,
          0.1275,
          0.12040000000000001,
          0.1131,
          0.1056,
          0.0979,
          0.09000000000000001,
          0.0819,
          0.0736,
          0.0651,
          0.05639999999999999,
          0.0475,
          0.0384,
          0.029099999999999997,
          0.0196,
          0.0099,
          0
         ]
        },
        {
         "line": {
          "color": "red"
         },
         "mode": "lines",
         "name": "WT->B env ON",
         "type": "scatter",
         "x": [
          0,
          1,
          2,
          3,
          4,
          5,
          6,
          7,
          8,
          9,
          10,
          11,
          12,
          13,
          14,
          15,
          16,
          17,
          18,
          19,
          20,
          21,
          22,
          23,
          24,
          25,
          26,
          27,
          28,
          29,
          30,
          31,
          32,
          33,
          34,
          35,
          36,
          37,
          38,
          39,
          40,
          41,
          42,
          43,
          44,
          45,
          46,
          47,
          48,
          49,
          50,
          51,
          52,
          53,
          54,
          55,
          56,
          57,
          58,
          59,
          60,
          61,
          62,
          63,
          64,
          65,
          66,
          67,
          68,
          69,
          70,
          71,
          72,
          73,
          74,
          75,
          76,
          77,
          78,
          79,
          80,
          81,
          82,
          83,
          84,
          85,
          86,
          87,
          88,
          89,
          90,
          91,
          92,
          93,
          94,
          95,
          96,
          97,
          98,
          99,
          100
         ],
         "y": [
          0,
          0.0099,
          0.0196,
          0.029099999999999997,
          0.0384,
          0.0475,
          0.05639999999999999,
          0.0651,
          0.0736,
          0.0819,
          0.09000000000000001,
          0.0979,
          0.1056,
          0.1131,
          0.12040000000000001,
          0.1275,
          0.1344,
          0.1411,
          0.14759999999999998,
          0.1539,
          0.16000000000000003,
          0.1659,
          0.1716,
          0.1771,
          0.1824,
          0.1875,
          0.19240000000000002,
          0.1971,
          0.2016,
          0.20589999999999997,
          0.21,
          0.21389999999999998,
          0.21760000000000002,
          0.22110000000000002,
          0.22440000000000002,
          0.22749999999999998,
          0.2304,
          0.2331,
          0.2356,
          0.2379,
          0.24,
          0.24189999999999998,
          0.24359999999999998,
          0.24509999999999998,
          0.24640000000000004,
          0.24750000000000003,
          0.24840000000000004,
          0.2491,
          0.2496,
          0.2499,
          0.25,
          0.2499,
          0.2496,
          0.2491,
          0.24840000000000004,
          0.24750000000000003,
          0.24640000000000004,
          0.24509999999999998,
          0.24359999999999998,
          0.24189999999999998,
          0.24,
          0.2379,
          0.2356,
          0.2331,
          0.2304,
          0.22749999999999998,
          0.22440000000000002,
          0.22110000000000002,
          0.21760000000000002,
          0.21389999999999998,
          0.21,
          0.20589999999999997,
          0.2016,
          0.1971,
          0.19240000000000002,
          0.1875,
          0.1824,
          0.1771,
          0.1716,
          0.1659,
          0.16000000000000003,
          0.1539,
          0.14759999999999998,
          0.1411,
          0.1344,
          0.1275,
          0.12040000000000001,
          0.1131,
          0.1056,
          0.0979,
          0.09000000000000001,
          0.0819,
          0.0736,
          0.0651,
          0.05639999999999999,
          0.0475,
          0.0384,
          0.029099999999999997,
          0.0196,
          0.0099,
          0
         ]
        },
        {
         "line": {
          "color": "green"
         },
         "mode": "lines",
         "name": "B->WT env OFF",
         "type": "scatter",
         "x": [
          0,
          1,
          2,
          3,
          4,
          5,
          6,
          7,
          8,
          9,
          10,
          11,
          12,
          13,
          14,
          15,
          16,
          17,
          18,
          19,
          20,
          21,
          22,
          23,
          24,
          25,
          26,
          27,
          28,
          29,
          30,
          31,
          32,
          33,
          34,
          35,
          36,
          37,
          38,
          39,
          40,
          41,
          42,
          43,
          44,
          45,
          46,
          47,
          48,
          49,
          50,
          51,
          52,
          53,
          54,
          55,
          56,
          57,
          58,
          59,
          60,
          61,
          62,
          63,
          64,
          65,
          66,
          67,
          68,
          69,
          70,
          71,
          72,
          73,
          74,
          75,
          76,
          77,
          78,
          79,
          80,
          81,
          82,
          83,
          84,
          85,
          86,
          87,
          88,
          89,
          90,
          91,
          92,
          93,
          94,
          95,
          96,
          97,
          98,
          99,
          100
         ],
         "y": [
          0,
          0.0099,
          0.0196,
          0.029099999999999997,
          0.0384,
          0.0475,
          0.05639999999999999,
          0.0651,
          0.0736,
          0.0819,
          0.09000000000000001,
          0.0979,
          0.1056,
          0.1131,
          0.12040000000000001,
          0.1275,
          0.1344,
          0.1411,
          0.14759999999999998,
          0.1539,
          0.16000000000000003,
          0.1659,
          0.1716,
          0.1771,
          0.1824,
          0.1875,
          0.19240000000000002,
          0.1971,
          0.2016,
          0.20589999999999997,
          0.21,
          0.21389999999999998,
          0.21760000000000002,
          0.22110000000000002,
          0.22440000000000002,
          0.22749999999999998,
          0.2304,
          0.2331,
          0.2356,
          0.2379,
          0.24,
          0.24189999999999998,
          0.24359999999999998,
          0.24509999999999998,
          0.24640000000000004,
          0.24750000000000003,
          0.24840000000000004,
          0.2491,
          0.2496,
          0.2499,
          0.25,
          0.2499,
          0.2496,
          0.2491,
          0.24840000000000004,
          0.24750000000000003,
          0.24640000000000004,
          0.24509999999999998,
          0.24359999999999998,
          0.24189999999999998,
          0.24,
          0.2379,
          0.2356,
          0.2331,
          0.2304,
          0.22749999999999998,
          0.22440000000000002,
          0.22110000000000002,
          0.21760000000000002,
          0.21389999999999998,
          0.21,
          0.20589999999999997,
          0.2016,
          0.1971,
          0.19240000000000002,
          0.1875,
          0.1824,
          0.1771,
          0.1716,
          0.1659,
          0.16000000000000003,
          0.1539,
          0.14759999999999998,
          0.1411,
          0.1344,
          0.1275,
          0.12040000000000001,
          0.1131,
          0.1056,
          0.0979,
          0.09000000000000001,
          0.0819,
          0.0736,
          0.0651,
          0.05639999999999999,
          0.0475,
          0.0384,
          0.029099999999999997,
          0.0196,
          0.0099,
          0
         ]
        },
        {
         "line": {
          "color": "purple"
         },
         "mode": "lines",
         "name": "WT->B env OFF",
         "type": "scatter",
         "x": [
          0,
          1,
          2,
          3,
          4,
          5,
          6,
          7,
          8,
          9,
          10,
          11,
          12,
          13,
          14,
          15,
          16,
          17,
          18,
          19,
          20,
          21,
          22,
          23,
          24,
          25,
          26,
          27,
          28,
          29,
          30,
          31,
          32,
          33,
          34,
          35,
          36,
          37,
          38,
          39,
          40,
          41,
          42,
          43,
          44,
          45,
          46,
          47,
          48,
          49,
          50,
          51,
          52,
          53,
          54,
          55,
          56,
          57,
          58,
          59,
          60,
          61,
          62,
          63,
          64,
          65,
          66,
          67,
          68,
          69,
          70,
          71,
          72,
          73,
          74,
          75,
          76,
          77,
          78,
          79,
          80,
          81,
          82,
          83,
          84,
          85,
          86,
          87,
          88,
          89,
          90,
          91,
          92,
          93,
          94,
          95,
          96,
          97,
          98,
          99,
          100
         ],
         "y": [
          0,
          0.0099,
          0.0196,
          0.029099999999999997,
          0.0384,
          0.0475,
          0.05639999999999999,
          0.0651,
          0.0736,
          0.0819,
          0.09000000000000001,
          0.0979,
          0.1056,
          0.1131,
          0.12040000000000001,
          0.1275,
          0.1344,
          0.1411,
          0.14759999999999998,
          0.1539,
          0.16000000000000003,
          0.1659,
          0.1716,
          0.1771,
          0.1824,
          0.1875,
          0.19240000000000002,
          0.1971,
          0.2016,
          0.20589999999999997,
          0.21,
          0.21389999999999998,
          0.21760000000000002,
          0.22110000000000002,
          0.22440000000000002,
          0.22749999999999998,
          0.2304,
          0.2331,
          0.2356,
          0.2379,
          0.24,
          0.24189999999999998,
          0.24359999999999998,
          0.24509999999999998,
          0.24640000000000004,
          0.24750000000000003,
          0.24840000000000004,
          0.2491,
          0.2496,
          0.2499,
          0.25,
          0.2499,
          0.2496,
          0.2491,
          0.24840000000000004,
          0.24750000000000003,
          0.24640000000000004,
          0.24509999999999998,
          0.24359999999999998,
          0.24189999999999998,
          0.24,
          0.2379,
          0.2356,
          0.2331,
          0.2304,
          0.22749999999999998,
          0.22440000000000002,
          0.22110000000000002,
          0.21760000000000002,
          0.21389999999999998,
          0.21,
          0.20589999999999997,
          0.2016,
          0.1971,
          0.19240000000000002,
          0.1875,
          0.1824,
          0.1771,
          0.1716,
          0.1659,
          0.16000000000000003,
          0.1539,
          0.14759999999999998,
          0.1411,
          0.1344,
          0.1275,
          0.12040000000000001,
          0.1131,
          0.1056,
          0.0979,
          0.09000000000000001,
          0.0819,
          0.0736,
          0.0651,
          0.05639999999999999,
          0.0475,
          0.0384,
          0.029099999999999997,
          0.0196,
          0.0099,
          0
         ]
        }
       ],
       "layout": {
        "height": 600,
        "plot_bgcolor": "white",
        "template": {
         "data": {
          "bar": [
           {
            "error_x": {
             "color": "#2a3f5f"
            },
            "error_y": {
             "color": "#2a3f5f"
            },
            "marker": {
             "line": {
              "color": "#E5ECF6",
              "width": 0.5
             }
            },
            "type": "bar"
           }
          ],
          "barpolar": [
           {
            "marker": {
             "line": {
              "color": "#E5ECF6",
              "width": 0.5
             }
            },
            "type": "barpolar"
           }
          ],
          "carpet": [
           {
            "aaxis": {
             "endlinecolor": "#2a3f5f",
             "gridcolor": "white",
             "linecolor": "white",
             "minorgridcolor": "white",
             "startlinecolor": "#2a3f5f"
            },
            "baxis": {
             "endlinecolor": "#2a3f5f",
             "gridcolor": "white",
             "linecolor": "white",
             "minorgridcolor": "white",
             "startlinecolor": "#2a3f5f"
            },
            "type": "carpet"
           }
          ],
          "choropleth": [
           {
            "colorbar": {
             "outlinewidth": 0,
             "ticks": ""
            },
            "type": "choropleth"
           }
          ],
          "contour": [
           {
            "colorbar": {
             "outlinewidth": 0,
             "ticks": ""
            },
            "colorscale": [
             [
              0,
              "#0d0887"
             ],
             [
              0.1111111111111111,
              "#46039f"
             ],
             [
              0.2222222222222222,
              "#7201a8"
             ],
             [
              0.3333333333333333,
              "#9c179e"
             ],
             [
              0.4444444444444444,
              "#bd3786"
             ],
             [
              0.5555555555555556,
              "#d8576b"
             ],
             [
              0.6666666666666666,
              "#ed7953"
             ],
             [
              0.7777777777777778,
              "#fb9f3a"
             ],
             [
              0.8888888888888888,
              "#fdca26"
             ],
             [
              1,
              "#f0f921"
             ]
            ],
            "type": "contour"
           }
          ],
          "contourcarpet": [
           {
            "colorbar": {
             "outlinewidth": 0,
             "ticks": ""
            },
            "type": "contourcarpet"
           }
          ],
          "heatmap": [
           {
            "colorbar": {
             "outlinewidth": 0,
             "ticks": ""
            },
            "colorscale": [
             [
              0,
              "#0d0887"
             ],
             [
              0.1111111111111111,
              "#46039f"
             ],
             [
              0.2222222222222222,
              "#7201a8"
             ],
             [
              0.3333333333333333,
              "#9c179e"
             ],
             [
              0.4444444444444444,
              "#bd3786"
             ],
             [
              0.5555555555555556,
              "#d8576b"
             ],
             [
              0.6666666666666666,
              "#ed7953"
             ],
             [
              0.7777777777777778,
              "#fb9f3a"
             ],
             [
              0.8888888888888888,
              "#fdca26"
             ],
             [
              1,
              "#f0f921"
             ]
            ],
            "type": "heatmap"
           }
          ],
          "heatmapgl": [
           {
            "colorbar": {
             "outlinewidth": 0,
             "ticks": ""
            },
            "colorscale": [
             [
              0,
              "#0d0887"
             ],
             [
              0.1111111111111111,
              "#46039f"
             ],
             [
              0.2222222222222222,
              "#7201a8"
             ],
             [
              0.3333333333333333,
              "#9c179e"
             ],
             [
              0.4444444444444444,
              "#bd3786"
             ],
             [
              0.5555555555555556,
              "#d8576b"
             ],
             [
              0.6666666666666666,
              "#ed7953"
             ],
             [
              0.7777777777777778,
              "#fb9f3a"
             ],
             [
              0.8888888888888888,
              "#fdca26"
             ],
             [
              1,
              "#f0f921"
             ]
            ],
            "type": "heatmapgl"
           }
          ],
          "histogram": [
           {
            "marker": {
             "colorbar": {
              "outlinewidth": 0,
              "ticks": ""
             }
            },
            "type": "histogram"
           }
          ],
          "histogram2d": [
           {
            "colorbar": {
             "outlinewidth": 0,
             "ticks": ""
            },
            "colorscale": [
             [
              0,
              "#0d0887"
             ],
             [
              0.1111111111111111,
              "#46039f"
             ],
             [
              0.2222222222222222,
              "#7201a8"
             ],
             [
              0.3333333333333333,
              "#9c179e"
             ],
             [
              0.4444444444444444,
              "#bd3786"
             ],
             [
              0.5555555555555556,
              "#d8576b"
             ],
             [
              0.6666666666666666,
              "#ed7953"
             ],
             [
              0.7777777777777778,
              "#fb9f3a"
             ],
             [
              0.8888888888888888,
              "#fdca26"
             ],
             [
              1,
              "#f0f921"
             ]
            ],
            "type": "histogram2d"
           }
          ],
          "histogram2dcontour": [
           {
            "colorbar": {
             "outlinewidth": 0,
             "ticks": ""
            },
            "colorscale": [
             [
              0,
              "#0d0887"
             ],
             [
              0.1111111111111111,
              "#46039f"
             ],
             [
              0.2222222222222222,
              "#7201a8"
             ],
             [
              0.3333333333333333,
              "#9c179e"
             ],
             [
              0.4444444444444444,
              "#bd3786"
             ],
             [
              0.5555555555555556,
              "#d8576b"
             ],
             [
              0.6666666666666666,
              "#ed7953"
             ],
             [
              0.7777777777777778,
              "#fb9f3a"
             ],
             [
              0.8888888888888888,
              "#fdca26"
             ],
             [
              1,
              "#f0f921"
             ]
            ],
            "type": "histogram2dcontour"
           }
          ],
          "mesh3d": [
           {
            "colorbar": {
             "outlinewidth": 0,
             "ticks": ""
            },
            "type": "mesh3d"
           }
          ],
          "parcoords": [
           {
            "line": {
             "colorbar": {
              "outlinewidth": 0,
              "ticks": ""
             }
            },
            "type": "parcoords"
           }
          ],
          "pie": [
           {
            "automargin": true,
            "type": "pie"
           }
          ],
          "scatter": [
           {
            "marker": {
             "colorbar": {
              "outlinewidth": 0,
              "ticks": ""
             }
            },
            "type": "scatter"
           }
          ],
          "scatter3d": [
           {
            "line": {
             "colorbar": {
              "outlinewidth": 0,
              "ticks": ""
             }
            },
            "marker": {
             "colorbar": {
              "outlinewidth": 0,
              "ticks": ""
             }
            },
            "type": "scatter3d"
           }
          ],
          "scattercarpet": [
           {
            "marker": {
             "colorbar": {
              "outlinewidth": 0,
              "ticks": ""
             }
            },
            "type": "scattercarpet"
           }
          ],
          "scattergeo": [
           {
            "marker": {
             "colorbar": {
              "outlinewidth": 0,
              "ticks": ""
             }
            },
            "type": "scattergeo"
           }
          ],
          "scattergl": [
           {
            "marker": {
             "colorbar": {
              "outlinewidth": 0,
              "ticks": ""
             }
            },
            "type": "scattergl"
           }
          ],
          "scattermapbox": [
           {
            "marker": {
             "colorbar": {
              "outlinewidth": 0,
              "ticks": ""
             }
            },
            "type": "scattermapbox"
           }
          ],
          "scatterpolar": [
           {
            "marker": {
             "colorbar": {
              "outlinewidth": 0,
              "ticks": ""
             }
            },
            "type": "scatterpolar"
           }
          ],
          "scatterpolargl": [
           {
            "marker": {
             "colorbar": {
              "outlinewidth": 0,
              "ticks": ""
             }
            },
            "type": "scatterpolargl"
           }
          ],
          "scatterternary": [
           {
            "marker": {
             "colorbar": {
              "outlinewidth": 0,
              "ticks": ""
             }
            },
            "type": "scatterternary"
           }
          ],
          "surface": [
           {
            "colorbar": {
             "outlinewidth": 0,
             "ticks": ""
            },
            "colorscale": [
             [
              0,
              "#0d0887"
             ],
             [
              0.1111111111111111,
              "#46039f"
             ],
             [
              0.2222222222222222,
              "#7201a8"
             ],
             [
              0.3333333333333333,
              "#9c179e"
             ],
             [
              0.4444444444444444,
              "#bd3786"
             ],
             [
              0.5555555555555556,
              "#d8576b"
             ],
             [
              0.6666666666666666,
              "#ed7953"
             ],
             [
              0.7777777777777778,
              "#fb9f3a"
             ],
             [
              0.8888888888888888,
              "#fdca26"
             ],
             [
              1,
              "#f0f921"
             ]
            ],
            "type": "surface"
           }
          ],
          "table": [
           {
            "cells": {
             "fill": {
              "color": "#EBF0F8"
             },
             "line": {
              "color": "white"
             }
            },
            "header": {
             "fill": {
              "color": "#C8D4E3"
             },
             "line": {
              "color": "white"
             }
            },
            "type": "table"
           }
          ]
         },
         "layout": {
          "annotationdefaults": {
           "arrowcolor": "#2a3f5f",
           "arrowhead": 0,
           "arrowwidth": 1
          },
          "autotypenumbers": "strict",
          "coloraxis": {
           "colorbar": {
            "outlinewidth": 0,
            "ticks": ""
           }
          },
          "colorscale": {
           "diverging": [
            [
             0,
             "#8e0152"
            ],
            [
             0.1,
             "#c51b7d"
            ],
            [
             0.2,
             "#de77ae"
            ],
            [
             0.3,
             "#f1b6da"
            ],
            [
             0.4,
             "#fde0ef"
            ],
            [
             0.5,
             "#f7f7f7"
            ],
            [
             0.6,
             "#e6f5d0"
            ],
            [
             0.7,
             "#b8e186"
            ],
            [
             0.8,
             "#7fbc41"
            ],
            [
             0.9,
             "#4d9221"
            ],
            [
             1,
             "#276419"
            ]
           ],
           "sequential": [
            [
             0,
             "#0d0887"
            ],
            [
             0.1111111111111111,
             "#46039f"
            ],
            [
             0.2222222222222222,
             "#7201a8"
            ],
            [
             0.3333333333333333,
             "#9c179e"
            ],
            [
             0.4444444444444444,
             "#bd3786"
            ],
            [
             0.5555555555555556,
             "#d8576b"
            ],
            [
             0.6666666666666666,
             "#ed7953"
            ],
            [
             0.7777777777777778,
             "#fb9f3a"
            ],
            [
             0.8888888888888888,
             "#fdca26"
            ],
            [
             1,
             "#f0f921"
            ]
           ],
           "sequentialminus": [
            [
             0,
             "#0d0887"
            ],
            [
             0.1111111111111111,
             "#46039f"
            ],
            [
             0.2222222222222222,
             "#7201a8"
            ],
            [
             0.3333333333333333,
             "#9c179e"
            ],
            [
             0.4444444444444444,
             "#bd3786"
            ],
            [
             0.5555555555555556,
             "#d8576b"
            ],
            [
             0.6666666666666666,
             "#ed7953"
            ],
            [
             0.7777777777777778,
             "#fb9f3a"
            ],
            [
             0.8888888888888888,
             "#fdca26"
            ],
            [
             1,
             "#f0f921"
            ]
           ]
          },
          "colorway": [
           "#636efa",
           "#EF553B",
           "#00cc96",
           "#ab63fa",
           "#FFA15A",
           "#19d3f3",
           "#FF6692",
           "#B6E880",
           "#FF97FF",
           "#FECB52"
          ],
          "font": {
           "color": "#2a3f5f"
          },
          "geo": {
           "bgcolor": "white",
           "lakecolor": "white",
           "landcolor": "#E5ECF6",
           "showlakes": true,
           "showland": true,
           "subunitcolor": "white"
          },
          "hoverlabel": {
           "align": "left"
          },
          "hovermode": "closest",
          "mapbox": {
           "style": "light"
          },
          "paper_bgcolor": "white",
          "plot_bgcolor": "#E5ECF6",
          "polar": {
           "angularaxis": {
            "gridcolor": "white",
            "linecolor": "white",
            "ticks": ""
           },
           "bgcolor": "#E5ECF6",
           "radialaxis": {
            "gridcolor": "white",
            "linecolor": "white",
            "ticks": ""
           }
          },
          "scene": {
           "xaxis": {
            "backgroundcolor": "#E5ECF6",
            "gridcolor": "white",
            "gridwidth": 2,
            "linecolor": "white",
            "showbackground": true,
            "ticks": "",
            "zerolinecolor": "white"
           },
           "yaxis": {
            "backgroundcolor": "#E5ECF6",
            "gridcolor": "white",
            "gridwidth": 2,
            "linecolor": "white",
            "showbackground": true,
            "ticks": "",
            "zerolinecolor": "white"
           },
           "zaxis": {
            "backgroundcolor": "#E5ECF6",
            "gridcolor": "white",
            "gridwidth": 2,
            "linecolor": "white",
            "showbackground": true,
            "ticks": "",
            "zerolinecolor": "white"
           }
          },
          "shapedefaults": {
           "line": {
            "color": "#2a3f5f"
           }
          },
          "ternary": {
           "aaxis": {
            "gridcolor": "white",
            "linecolor": "white",
            "ticks": ""
           },
           "baxis": {
            "gridcolor": "white",
            "linecolor": "white",
            "ticks": ""
           },
           "bgcolor": "#E5ECF6",
           "caxis": {
            "gridcolor": "white",
            "linecolor": "white",
            "ticks": ""
           }
          },
          "title": {
           "x": 0.05
          },
          "xaxis": {
           "automargin": true,
           "gridcolor": "white",
           "linecolor": "white",
           "ticks": "",
           "title": {
            "standoff": 15
           },
           "zerolinecolor": "white",
           "zerolinewidth": 2
          },
          "yaxis": {
           "automargin": true,
           "gridcolor": "white",
           "linecolor": "white",
           "ticks": "",
           "title": {
            "standoff": 15
           },
           "zerolinecolor": "white",
           "zerolinewidth": 2
          }
         }
        },
        "title": {
         "text": "Transition probabilities for edge case with no B cells - No selectional advantage + With mutation"
        },
        "width": 1000,
        "xaxis": {
         "linecolor": "black"
        },
        "yaxis": {
         "linecolor": "black"
        }
       }
      }
     },
     "metadata": {}
    }
   ],
   "metadata": {}
  },
  {
   "cell_type": "markdown",
   "source": [
    "## selective advatange + No mutation\n",
    "\n",
    "### Start from 1/2 and 1/2 WT ws B"
   ],
   "metadata": {}
  },
  {
   "cell_type": "code",
   "execution_count": null,
   "source": [
    "# Set initial population state WT - A - B\n",
    "initial_population = [50, 0, 50]\n",
    "\n",
    "# Set baseline growth rate\n",
    "alpha = 1\n",
    "\n",
    "# Set selective advantages for mutated cells\n",
    "s = 0\n",
    "r = 0.1\n",
    " \n",
    "# Set mutation rates\n",
    "mu_A = 0\n",
    "mu_B = 0\n",
    "\n",
    "# Coalesce into paramater vector\n",
    "parameters = initial_population\n",
    "parameters.extend([alpha, s, r, mu_A, mu_B])\n",
    "\n",
    "# Choose switching times\n",
    "switch_times = np.stack((np.array(range(200)) * 500, np.array(range(1, 201)) % 2), axis=1).tolist()\n",
    "#switch_times = np.stack((np.array(range(200)) * 500, np.ones(200, dtype=np.int)), axis=1).tolist()"
   ],
   "outputs": [],
   "metadata": {}
  },
  {
   "cell_type": "code",
   "execution_count": null,
   "source": [
    "# Instantiate algorithm\n",
    "algorithm = ci.StemWFTIMEVAR()\n",
    "\n",
    "# Select number of simulations\n",
    "num_simulations = 100000\n",
    "\n",
    "computation_time = np.empty(num_simulations, dtype=np.int)\n",
    "fixed_state = np.empty(num_simulations, dtype=np.str)\n",
    "\n",
    "for sim in range(num_simulations):\n",
    "    computation_time[sim], fixed_state[sim] = algorithm.simulate_fixation(parameters, switch_times)\n",
    "\n",
    "mean_computation_time = np.mean(computation_time)\n",
    "prob_fix = (fixed_state == 'B').sum()/num_simulations\n",
    "\n",
    "mean_comp_time_fix_B = np.mean(computation_time[(fixed_state == 'B')])\n",
    "\n",
    "print('Average time to fixation: ', mean_computation_time)\n",
    "print('Probability of fixation of cell type B: ', prob_fix)\n",
    "print('Average time to illness when fixation at B: ', mean_comp_time_fix_B)"
   ],
   "outputs": [
    {
     "output_type": "stream",
     "name": "stdout",
     "text": [
      "Average time to fixation:  3739.284\n",
      "Probability of fixation of cell type B:  0.99988\n",
      "Average time to illness when fixation at B:  3739.331719806377\n"
     ]
    }
   ],
   "metadata": {}
  },
  {
   "cell_type": "markdown",
   "source": [
    "### Start from 1 B vs all other WT"
   ],
   "metadata": {}
  },
  {
   "cell_type": "code",
   "execution_count": null,
   "source": [
    "# Set initial population state WT - A - B\n",
    "initial_population = [99, 0, 1]\n",
    "\n",
    "# Set baseline growth rate\n",
    "alpha = 1\n",
    "\n",
    "# Set selective advantages for mutated cells\n",
    "s = 0\n",
    "r = 0.1\n",
    " \n",
    "# Set mutation rates\n",
    "mu_A = 0\n",
    "mu_B = 0\n",
    "\n",
    "# Coalesce into paramater vector\n",
    "parameters = initial_population\n",
    "parameters.extend([alpha, s, r, mu_A, mu_B])\n",
    "\n",
    "# Choose switching times\n",
    "switch_times = np.stack((np.array(range(200)) * 500, np.array(range(1, 201)) % 2), axis=1).tolist()\n",
    "#switch_times = np.stack((np.array(range(200)) * 500, np.ones(200, dtype=np.int)), axis=1).tolist()"
   ],
   "outputs": [],
   "metadata": {}
  },
  {
   "cell_type": "code",
   "execution_count": null,
   "source": [
    "# Instantiate algorithm\n",
    "algorithm = ci.StemWFTIMEVAR()\n",
    "\n",
    "# Select number of simulations\n",
    "num_simulations = 100000\n",
    "\n",
    "computation_time = np.empty(num_simulations, dtype=np.int)\n",
    "fixed_state = np.empty(num_simulations, dtype=np.str)\n",
    "\n",
    "for sim in range(num_simulations):\n",
    "    computation_time[sim], fixed_state[sim] = algorithm.simulate_fixation(parameters, switch_times)\n",
    "\n",
    "mean_computation_time = np.mean(computation_time)\n",
    "prob_fix = (fixed_state == 'B').sum()/num_simulations\n",
    "\n",
    "mean_comp_time_fix_B = np.mean(computation_time[(fixed_state == 'B')])\n",
    "\n",
    "print('Average time to fixation: ', mean_computation_time)\n",
    "print('Probability of fixation of cell type B: ', prob_fix)\n",
    "print('Average time to illness when fixation at B: ', mean_comp_time_fix_B)"
   ],
   "outputs": [
    {
     "output_type": "stream",
     "name": "stdout",
     "text": [
      "Average time to fixation:  1592.619\n",
      "Probability of fixation of cell type B:  0.17656\n",
      "Average time to illness when fixation at B:  7048.210240144993\n"
     ]
    }
   ],
   "metadata": {}
  },
  {
   "cell_type": "markdown",
   "source": [
    "### Plot transition probability curves"
   ],
   "metadata": {}
  },
  {
   "cell_type": "code",
   "execution_count": null,
   "source": [
    "# Plot transition probabilities\n",
    "sep_algo = ci.StemWFTIMEVAR()\n",
    "\n",
    "sep_algo.N = int(np.sum(np.asarray(initial_population)))\n",
    "\n",
    "sep_algo.alpha_A = alpha + s\n",
    "sep_algo.alpha_B = alpha + r\n",
    "sep_algo.alpha_WT = alpha\n",
    "sep_algo.switches =  np.asarray(switch_times)\n",
    "\n",
    "sep_algo.mu_A = mu_B\n",
    "sep_algo.mu_B = mu_B\n",
    "\n",
    "# Assuming no Bs in the population\n",
    "trans_prob = np.empty((sep_algo.N+1, 4))\n",
    "\n",
    "for i in range(sep_algo.N+1):\n",
    "    trans_prob[i, 0] = sep_algo._prob_B_to_WT(1, i, 0,sep_algo.N - i)\n",
    "    trans_prob[i, 1] = sep_algo._prob_WT_to_B(1, i, 0, sep_algo.N - i)\n",
    "    trans_prob[i, 2] = sep_algo._prob_B_to_WT(501, i, 0, sep_algo.N - i)\n",
    "    trans_prob[i, 3] = sep_algo._prob_WT_to_B(501, i, 0, sep_algo.N - i)"
   ],
   "outputs": [],
   "metadata": {}
  },
  {
   "cell_type": "code",
   "execution_count": null,
   "source": [
    "# Trace names - represent the transition probabilities used for the simulation\n",
    "trace_name = ['B->WT env ON', 'WT->B env ON', 'B->WT env OFF', 'WT->B env OFF']\n",
    "\n",
    "fig = go.Figure()\n",
    "\n",
    "# Add traces of the transition probabilities\n",
    "for c in range(trans_prob.shape[1]):\n",
    "    fig.add_trace(\n",
    "        go.Scatter(\n",
    "            y=trans_prob[:, c],\n",
    "            x=list(range(sep_algo.N+1)),\n",
    "            mode='lines',\n",
    "            name=trace_name[c],\n",
    "            line_color=colours[c]\n",
    "        )\n",
    "    )\n",
    "\n",
    "fig.update_layout(\n",
    "    title='Transition probabilities for edge case with no B cells - No selective advantage + With mutation',\n",
    "    width=1000, \n",
    "    height=600,\n",
    "    plot_bgcolor='white',\n",
    "    xaxis=dict(linecolor='black'),\n",
    "    yaxis=dict(linecolor='black'),\n",
    "    )"
   ],
   "outputs": [
    {
     "output_type": "display_data",
     "data": {
      "application/vnd.plotly.v1+json": {
       "config": {
        "plotlyServerURL": "https://plot.ly"
       },
       "data": [
        {
         "line": {
          "color": "blue"
         },
         "mode": "lines",
         "name": "B->WT env ON",
         "type": "scatter",
         "x": [
          0,
          1,
          2,
          3,
          4,
          5,
          6,
          7,
          8,
          9,
          10,
          11,
          12,
          13,
          14,
          15,
          16,
          17,
          18,
          19,
          20,
          21,
          22,
          23,
          24,
          25,
          26,
          27,
          28,
          29,
          30,
          31,
          32,
          33,
          34,
          35,
          36,
          37,
          38,
          39,
          40,
          41,
          42,
          43,
          44,
          45,
          46,
          47,
          48,
          49,
          50,
          51,
          52,
          53,
          54,
          55,
          56,
          57,
          58,
          59,
          60,
          61,
          62,
          63,
          64,
          65,
          66,
          67,
          68,
          69,
          70,
          71,
          72,
          73,
          74,
          75,
          76,
          77,
          78,
          79,
          80,
          81,
          82,
          83,
          84,
          85,
          86,
          87,
          88,
          89,
          90,
          91,
          92,
          93,
          94,
          95,
          96,
          97,
          98,
          99,
          100,
          101
         ],
         "y": [
          0,
          0.008919810900008918,
          0.017677150943227776,
          0.026271580226614716,
          0.03470265725759567,
          0.0429699389468784,
          0.05107298060122754,
          0.05901133591620031,
          0.06678455696884283,
          0.07439219421034662,
          0.08183379645866494,
          0.0891089108910891,
          0.09621708303678411,
          0.10315785676928348,
          0.1099307742989431,
          0.11653537616535375,
          0.122971201229712,
          0.12923778666714933,
          0.13533466795901913,
          0.14126137888514126,
          0.14701745151600404,
          0.15260241620492326,
          0.15801580158015802,
          0.1632571345369831,
          0.16832594022971756,
          0.17322174206370913,
          0.1779440616872747,
          0.18249241898359575,
          0.1868663320625691,
          0.1910653172526125,
          0.19508888909242447,
          0.1989365603226989,
          0.20260784187779296,
          0.20610224287734893,
          0.20941927061786958,
          0.21255843056424603,
          0.21551922634123877,
          0.21830115972491101,
          0.22090373063401397,
          0.22332643712132405,
          0.22556877536493142,
          0.22763023965947995,
          0.22951032240735766,
          0.23120851410983792,
          0.23272430335817085,
          0.2340571768246243,
          0.23520661925347466,
          0.2361721134519467,
          0.23695314028110243,
          0.23754917864667824,
          0.2379597054898704,
          0.23818419577806837,
          0.23822212249553565,
          0.23807295663403763,
          0.23773616718341656,
          0.23721122112211224,
          0.23649758340762989,
          0.23559471696695286,
          0.23450208268690112,
          0.23321913940443473,
          0.23174534389690163,
          0.2300801508722301,
          0.2282230129590652,
          0.22617338069684828,
          0.22393070252584,
          0.22149442477708575,
          0.2188639916623241,
          0.21603884526383674,
          0.21301842552423986,
          0.20980217023621747,
          0.20638951503219488,
          0.20277989337395277,
          0.19897273654218164,
          0.19496747362597533,
          0.19076353151226408,
          0.18636033487518636,
          0.18175730616539915,
          0.17695386559932588,
          0.17194943114834232,
          0.1667434185278993,
          0.1613352411865823,
          0.1557243102951072,
          0.14991003473525194,
          0.14389182108872364,
          0.13766907362596045,
          0.13124119429486808,
          0.12460758270949045,
          0.11776763613861387,
          0.11072074949430427,
          0.10346631532037744,
          0.0960037237808012,
          0.08833236264802952,
          0.08045161729126789,
          0.07236087066466962,
          0.0640595032954623,
          0.05554689327200436,
          0.04682241623177096,
          0.03788544534926865,
          0.028735351323878684,
          0.01937150236762807,
          0.009793264192888132,
          0
         ]
        },
        {
         "line": {
          "color": "red"
         },
         "mode": "lines",
         "name": "WT->B env ON",
         "type": "scatter",
         "x": [
          0,
          1,
          2,
          3,
          4,
          5,
          6,
          7,
          8,
          9,
          10,
          11,
          12,
          13,
          14,
          15,
          16,
          17,
          18,
          19,
          20,
          21,
          22,
          23,
          24,
          25,
          26,
          27,
          28,
          29,
          30,
          31,
          32,
          33,
          34,
          35,
          36,
          37,
          38,
          39,
          40,
          41,
          42,
          43,
          44,
          45,
          46,
          47,
          48,
          49,
          50,
          51,
          52,
          53,
          54,
          55,
          56,
          57,
          58,
          59,
          60,
          61,
          62,
          63,
          64,
          65,
          66,
          67,
          68,
          69,
          70,
          71,
          72,
          73,
          74,
          75,
          76,
          77,
          78,
          79,
          80,
          81,
          82,
          83,
          84,
          85,
          86,
          87,
          88,
          89,
          90,
          91,
          92,
          93,
          94,
          95,
          96,
          97,
          98,
          99,
          100,
          101
         ],
         "y": [
          0,
          0.009811791990009812,
          0.019444866037550555,
          0.028898738249276187,
          0.03817292298335525,
          0.04726693284156625,
          0.056180278661350294,
          0.06491246950782036,
          0.07346301266572713,
          0.08183141363138129,
          0.09001717610453144,
          0.09801980198019802,
          0.10583879134046252,
          0.11347364244621184,
          0.12092385172883743,
          0.12818891378188912,
          0.1352683213526832,
          0.1421615653338643,
          0.14886813475492106,
          0.15538751677365537,
          0.16171919666760445,
          0.16786265782541557,
          0.17381738173817382,
          0.17958284799068142,
          0.1851585342526893,
          0.19054391627008005,
          0.1957384678560022,
          0.20074166088195539,
          0.20555296526882608,
          0.21017184897787375,
          0.21459777800166696,
          0.2188302163549688,
          0.22286862606557226,
          0.22671246716508386,
          0.23036119767965654,
          0.23381427362067062,
          0.23707114897536263,
          0.24013127569740214,
          0.24299410369741542,
          0.24565908083345647,
          0.2481256529014246,
          0.25039326362542796,
          0.25246135464809344,
          0.25432936552082175,
          0.25599673369398795,
          0.25746289450708676,
          0.25872728117882215,
          0.2597893247971414,
          0.26064845430921263,
          0.261304096511346,
          0.26175567603885747,
          0.26200261535587527,
          0.26204433474508926,
          0.2618802522974415,
          0.2615097839017582,
          0.26093234323432346,
          0.26014734174839294,
          0.25915418866364814,
          0.25795229095559125,
          0.2565410533448782,
          0.2549198782865918,
          0.2530881659594531,
          0.2510453142549718,
          0.24879071876653314,
          0.246323772778424,
          0.24364386725479434,
          0.24075039082855654,
          0.23764272979022044,
          0.23432026807666384,
          0.23078238725983924,
          0.22702846653541436,
          0.22305788271134802,
          0.2188700101963998,
          0.21446422098857282,
          0.20983988466349046,
          0.204996368362705,
          0.19993303678193908,
          0.19464925215925846,
          0.18914437426317657,
          0.18341776038068927,
          0.17746876530524053,
          0.1712967413246179,
          0.16490103820877716,
          0.15828100319759603,
          0.1514359809885565,
          0.1443653137243549,
          0.13706834098043952,
          0.12954439975247525,
          0.12179282444373471,
          0.1138129468524152,
          0.10560409615888133,
          0.09716559891283247,
          0.08849677902039468,
          0.07959695773113659,
          0.07046545362500853,
          0.061101582599204805,
          0.05150465785494806,
          0.04167398988419552,
          0.03160888645626656,
          0.021308652604390875,
          0.010772590612176947,
          0
         ]
        },
        {
         "line": {
          "color": "green"
         },
         "mode": "lines",
         "name": "B->WT env OFF",
         "type": "scatter",
         "x": [
          0,
          1,
          2,
          3,
          4,
          5,
          6,
          7,
          8,
          9,
          10,
          11,
          12,
          13,
          14,
          15,
          16,
          17,
          18,
          19,
          20,
          21,
          22,
          23,
          24,
          25,
          26,
          27,
          28,
          29,
          30,
          31,
          32,
          33,
          34,
          35,
          36,
          37,
          38,
          39,
          40,
          41,
          42,
          43,
          44,
          45,
          46,
          47,
          48,
          49,
          50,
          51,
          52,
          53,
          54,
          55,
          56,
          57,
          58,
          59,
          60,
          61,
          62,
          63,
          64,
          65,
          66,
          67,
          68,
          69,
          70,
          71,
          72,
          73,
          74,
          75,
          76,
          77,
          78,
          79,
          80,
          81,
          82,
          83,
          84,
          85,
          86,
          87,
          88,
          89,
          90,
          91,
          92,
          93,
          94,
          95,
          96,
          97,
          98,
          99,
          100,
          101
         ],
         "y": [
          0,
          0.009802960494069209,
          0.019409861778257032,
          0.02882070385256347,
          0.03803548671698853,
          0.0470542103715322,
          0.05587687481619449,
          0.0645034800509754,
          0.07293402607587492,
          0.08116851289089305,
          0.08920694049602981,
          0.09704930889128517,
          0.10469561807665914,
          0.11214586805215175,
          0.11940005881776297,
          0.1264581903734928,
          0.13332026271934125,
          0.13998627585530832,
          0.14645622978139397,
          0.1527301244975983,
          0.1588079600039212,
          0.1646897363003627,
          0.17037545338692286,
          0.17586511126360163,
          0.18115870993039898,
          0.18625624938731497,
          0.19115772963434957,
          0.1958631506715028,
          0.20037251249877464,
          0.20468581511616504,
          0.20880305852367412,
          0.2127242427213018,
          0.21644936770904816,
          0.21997843348691307,
          0.22331144005489661,
          0.22644838741299872,
          0.2293892755612195,
          0.23213410449955887,
          0.23468287422801687,
          0.23703558474659348,
          0.2391922360552887,
          0.24115282815410255,
          0.24291736104303496,
          0.24448583472208604,
          0.24585824919125573,
          0.2470346044505441,
          0.248014900499951,
          0.24879913733947656,
          0.24938731496912067,
          0.24977943338888345,
          0.24997549259876484,
          0.24997549259876484,
          0.24977943338888345,
          0.24938731496912067,
          0.24879913733947656,
          0.248014900499951,
          0.2470346044505441,
          0.24585824919125573,
          0.24448583472208604,
          0.24291736104303496,
          0.24115282815410255,
          0.2391922360552887,
          0.23703558474659348,
          0.23468287422801687,
          0.23213410449955887,
          0.2293892755612195,
          0.22644838741299872,
          0.22331144005489661,
          0.21997843348691307,
          0.21644936770904816,
          0.2127242427213018,
          0.20880305852367412,
          0.20468581511616504,
          0.20037251249877464,
          0.1958631506715028,
          0.19115772963434957,
          0.18625624938731497,
          0.18115870993039898,
          0.17586511126360163,
          0.17037545338692286,
          0.1646897363003627,
          0.1588079600039212,
          0.1527301244975983,
          0.14645622978139397,
          0.13998627585530832,
          0.13332026271934125,
          0.1264581903734928,
          0.11940005881776297,
          0.11214586805215175,
          0.10469561807665914,
          0.09704930889128517,
          0.08920694049602981,
          0.08116851289089305,
          0.07293402607587492,
          0.0645034800509754,
          0.05587687481619449,
          0.0470542103715322,
          0.03803548671698853,
          0.02882070385256347,
          0.019409861778257032,
          0.009802960494069209,
          0
         ]
        },
        {
         "line": {
          "color": "purple"
         },
         "mode": "lines",
         "name": "WT->B env OFF",
         "type": "scatter",
         "x": [
          0,
          1,
          2,
          3,
          4,
          5,
          6,
          7,
          8,
          9,
          10,
          11,
          12,
          13,
          14,
          15,
          16,
          17,
          18,
          19,
          20,
          21,
          22,
          23,
          24,
          25,
          26,
          27,
          28,
          29,
          30,
          31,
          32,
          33,
          34,
          35,
          36,
          37,
          38,
          39,
          40,
          41,
          42,
          43,
          44,
          45,
          46,
          47,
          48,
          49,
          50,
          51,
          52,
          53,
          54,
          55,
          56,
          57,
          58,
          59,
          60,
          61,
          62,
          63,
          64,
          65,
          66,
          67,
          68,
          69,
          70,
          71,
          72,
          73,
          74,
          75,
          76,
          77,
          78,
          79,
          80,
          81,
          82,
          83,
          84,
          85,
          86,
          87,
          88,
          89,
          90,
          91,
          92,
          93,
          94,
          95,
          96,
          97,
          98,
          99,
          100,
          101
         ],
         "y": [
          0,
          0.009802960494069209,
          0.019409861778257032,
          0.02882070385256347,
          0.03803548671698853,
          0.0470542103715322,
          0.05587687481619449,
          0.0645034800509754,
          0.07293402607587492,
          0.08116851289089305,
          0.08920694049602981,
          0.09704930889128517,
          0.10469561807665914,
          0.11214586805215175,
          0.11940005881776297,
          0.1264581903734928,
          0.13332026271934125,
          0.13998627585530832,
          0.14645622978139397,
          0.1527301244975983,
          0.1588079600039212,
          0.1646897363003627,
          0.17037545338692286,
          0.17586511126360163,
          0.18115870993039898,
          0.18625624938731497,
          0.19115772963434957,
          0.1958631506715028,
          0.20037251249877464,
          0.20468581511616504,
          0.20880305852367412,
          0.2127242427213018,
          0.21644936770904816,
          0.21997843348691307,
          0.22331144005489661,
          0.22644838741299872,
          0.2293892755612195,
          0.23213410449955887,
          0.23468287422801687,
          0.23703558474659348,
          0.2391922360552887,
          0.24115282815410255,
          0.24291736104303496,
          0.24448583472208604,
          0.24585824919125573,
          0.2470346044505441,
          0.248014900499951,
          0.24879913733947656,
          0.24938731496912067,
          0.24977943338888345,
          0.24997549259876484,
          0.24997549259876484,
          0.24977943338888345,
          0.24938731496912067,
          0.24879913733947656,
          0.248014900499951,
          0.2470346044505441,
          0.24585824919125573,
          0.24448583472208604,
          0.24291736104303496,
          0.24115282815410255,
          0.2391922360552887,
          0.23703558474659348,
          0.23468287422801687,
          0.23213410449955887,
          0.2293892755612195,
          0.22644838741299872,
          0.22331144005489661,
          0.21997843348691307,
          0.21644936770904816,
          0.2127242427213018,
          0.20880305852367412,
          0.20468581511616504,
          0.20037251249877464,
          0.1958631506715028,
          0.19115772963434957,
          0.18625624938731497,
          0.18115870993039898,
          0.17586511126360163,
          0.17037545338692286,
          0.1646897363003627,
          0.1588079600039212,
          0.1527301244975983,
          0.14645622978139397,
          0.13998627585530832,
          0.13332026271934125,
          0.1264581903734928,
          0.11940005881776297,
          0.11214586805215175,
          0.10469561807665914,
          0.09704930889128517,
          0.08920694049602981,
          0.08116851289089305,
          0.07293402607587492,
          0.0645034800509754,
          0.05587687481619449,
          0.0470542103715322,
          0.03803548671698853,
          0.02882070385256347,
          0.019409861778257032,
          0.009802960494069209,
          0
         ]
        }
       ],
       "layout": {
        "height": 600,
        "plot_bgcolor": "white",
        "template": {
         "data": {
          "bar": [
           {
            "error_x": {
             "color": "#2a3f5f"
            },
            "error_y": {
             "color": "#2a3f5f"
            },
            "marker": {
             "line": {
              "color": "#E5ECF6",
              "width": 0.5
             }
            },
            "type": "bar"
           }
          ],
          "barpolar": [
           {
            "marker": {
             "line": {
              "color": "#E5ECF6",
              "width": 0.5
             }
            },
            "type": "barpolar"
           }
          ],
          "carpet": [
           {
            "aaxis": {
             "endlinecolor": "#2a3f5f",
             "gridcolor": "white",
             "linecolor": "white",
             "minorgridcolor": "white",
             "startlinecolor": "#2a3f5f"
            },
            "baxis": {
             "endlinecolor": "#2a3f5f",
             "gridcolor": "white",
             "linecolor": "white",
             "minorgridcolor": "white",
             "startlinecolor": "#2a3f5f"
            },
            "type": "carpet"
           }
          ],
          "choropleth": [
           {
            "colorbar": {
             "outlinewidth": 0,
             "ticks": ""
            },
            "type": "choropleth"
           }
          ],
          "contour": [
           {
            "colorbar": {
             "outlinewidth": 0,
             "ticks": ""
            },
            "colorscale": [
             [
              0,
              "#0d0887"
             ],
             [
              0.1111111111111111,
              "#46039f"
             ],
             [
              0.2222222222222222,
              "#7201a8"
             ],
             [
              0.3333333333333333,
              "#9c179e"
             ],
             [
              0.4444444444444444,
              "#bd3786"
             ],
             [
              0.5555555555555556,
              "#d8576b"
             ],
             [
              0.6666666666666666,
              "#ed7953"
             ],
             [
              0.7777777777777778,
              "#fb9f3a"
             ],
             [
              0.8888888888888888,
              "#fdca26"
             ],
             [
              1,
              "#f0f921"
             ]
            ],
            "type": "contour"
           }
          ],
          "contourcarpet": [
           {
            "colorbar": {
             "outlinewidth": 0,
             "ticks": ""
            },
            "type": "contourcarpet"
           }
          ],
          "heatmap": [
           {
            "colorbar": {
             "outlinewidth": 0,
             "ticks": ""
            },
            "colorscale": [
             [
              0,
              "#0d0887"
             ],
             [
              0.1111111111111111,
              "#46039f"
             ],
             [
              0.2222222222222222,
              "#7201a8"
             ],
             [
              0.3333333333333333,
              "#9c179e"
             ],
             [
              0.4444444444444444,
              "#bd3786"
             ],
             [
              0.5555555555555556,
              "#d8576b"
             ],
             [
              0.6666666666666666,
              "#ed7953"
             ],
             [
              0.7777777777777778,
              "#fb9f3a"
             ],
             [
              0.8888888888888888,
              "#fdca26"
             ],
             [
              1,
              "#f0f921"
             ]
            ],
            "type": "heatmap"
           }
          ],
          "heatmapgl": [
           {
            "colorbar": {
             "outlinewidth": 0,
             "ticks": ""
            },
            "colorscale": [
             [
              0,
              "#0d0887"
             ],
             [
              0.1111111111111111,
              "#46039f"
             ],
             [
              0.2222222222222222,
              "#7201a8"
             ],
             [
              0.3333333333333333,
              "#9c179e"
             ],
             [
              0.4444444444444444,
              "#bd3786"
             ],
             [
              0.5555555555555556,
              "#d8576b"
             ],
             [
              0.6666666666666666,
              "#ed7953"
             ],
             [
              0.7777777777777778,
              "#fb9f3a"
             ],
             [
              0.8888888888888888,
              "#fdca26"
             ],
             [
              1,
              "#f0f921"
             ]
            ],
            "type": "heatmapgl"
           }
          ],
          "histogram": [
           {
            "marker": {
             "colorbar": {
              "outlinewidth": 0,
              "ticks": ""
             }
            },
            "type": "histogram"
           }
          ],
          "histogram2d": [
           {
            "colorbar": {
             "outlinewidth": 0,
             "ticks": ""
            },
            "colorscale": [
             [
              0,
              "#0d0887"
             ],
             [
              0.1111111111111111,
              "#46039f"
             ],
             [
              0.2222222222222222,
              "#7201a8"
             ],
             [
              0.3333333333333333,
              "#9c179e"
             ],
             [
              0.4444444444444444,
              "#bd3786"
             ],
             [
              0.5555555555555556,
              "#d8576b"
             ],
             [
              0.6666666666666666,
              "#ed7953"
             ],
             [
              0.7777777777777778,
              "#fb9f3a"
             ],
             [
              0.8888888888888888,
              "#fdca26"
             ],
             [
              1,
              "#f0f921"
             ]
            ],
            "type": "histogram2d"
           }
          ],
          "histogram2dcontour": [
           {
            "colorbar": {
             "outlinewidth": 0,
             "ticks": ""
            },
            "colorscale": [
             [
              0,
              "#0d0887"
             ],
             [
              0.1111111111111111,
              "#46039f"
             ],
             [
              0.2222222222222222,
              "#7201a8"
             ],
             [
              0.3333333333333333,
              "#9c179e"
             ],
             [
              0.4444444444444444,
              "#bd3786"
             ],
             [
              0.5555555555555556,
              "#d8576b"
             ],
             [
              0.6666666666666666,
              "#ed7953"
             ],
             [
              0.7777777777777778,
              "#fb9f3a"
             ],
             [
              0.8888888888888888,
              "#fdca26"
             ],
             [
              1,
              "#f0f921"
             ]
            ],
            "type": "histogram2dcontour"
           }
          ],
          "mesh3d": [
           {
            "colorbar": {
             "outlinewidth": 0,
             "ticks": ""
            },
            "type": "mesh3d"
           }
          ],
          "parcoords": [
           {
            "line": {
             "colorbar": {
              "outlinewidth": 0,
              "ticks": ""
             }
            },
            "type": "parcoords"
           }
          ],
          "pie": [
           {
            "automargin": true,
            "type": "pie"
           }
          ],
          "scatter": [
           {
            "marker": {
             "colorbar": {
              "outlinewidth": 0,
              "ticks": ""
             }
            },
            "type": "scatter"
           }
          ],
          "scatter3d": [
           {
            "line": {
             "colorbar": {
              "outlinewidth": 0,
              "ticks": ""
             }
            },
            "marker": {
             "colorbar": {
              "outlinewidth": 0,
              "ticks": ""
             }
            },
            "type": "scatter3d"
           }
          ],
          "scattercarpet": [
           {
            "marker": {
             "colorbar": {
              "outlinewidth": 0,
              "ticks": ""
             }
            },
            "type": "scattercarpet"
           }
          ],
          "scattergeo": [
           {
            "marker": {
             "colorbar": {
              "outlinewidth": 0,
              "ticks": ""
             }
            },
            "type": "scattergeo"
           }
          ],
          "scattergl": [
           {
            "marker": {
             "colorbar": {
              "outlinewidth": 0,
              "ticks": ""
             }
            },
            "type": "scattergl"
           }
          ],
          "scattermapbox": [
           {
            "marker": {
             "colorbar": {
              "outlinewidth": 0,
              "ticks": ""
             }
            },
            "type": "scattermapbox"
           }
          ],
          "scatterpolar": [
           {
            "marker": {
             "colorbar": {
              "outlinewidth": 0,
              "ticks": ""
             }
            },
            "type": "scatterpolar"
           }
          ],
          "scatterpolargl": [
           {
            "marker": {
             "colorbar": {
              "outlinewidth": 0,
              "ticks": ""
             }
            },
            "type": "scatterpolargl"
           }
          ],
          "scatterternary": [
           {
            "marker": {
             "colorbar": {
              "outlinewidth": 0,
              "ticks": ""
             }
            },
            "type": "scatterternary"
           }
          ],
          "surface": [
           {
            "colorbar": {
             "outlinewidth": 0,
             "ticks": ""
            },
            "colorscale": [
             [
              0,
              "#0d0887"
             ],
             [
              0.1111111111111111,
              "#46039f"
             ],
             [
              0.2222222222222222,
              "#7201a8"
             ],
             [
              0.3333333333333333,
              "#9c179e"
             ],
             [
              0.4444444444444444,
              "#bd3786"
             ],
             [
              0.5555555555555556,
              "#d8576b"
             ],
             [
              0.6666666666666666,
              "#ed7953"
             ],
             [
              0.7777777777777778,
              "#fb9f3a"
             ],
             [
              0.8888888888888888,
              "#fdca26"
             ],
             [
              1,
              "#f0f921"
             ]
            ],
            "type": "surface"
           }
          ],
          "table": [
           {
            "cells": {
             "fill": {
              "color": "#EBF0F8"
             },
             "line": {
              "color": "white"
             }
            },
            "header": {
             "fill": {
              "color": "#C8D4E3"
             },
             "line": {
              "color": "white"
             }
            },
            "type": "table"
           }
          ]
         },
         "layout": {
          "annotationdefaults": {
           "arrowcolor": "#2a3f5f",
           "arrowhead": 0,
           "arrowwidth": 1
          },
          "autotypenumbers": "strict",
          "coloraxis": {
           "colorbar": {
            "outlinewidth": 0,
            "ticks": ""
           }
          },
          "colorscale": {
           "diverging": [
            [
             0,
             "#8e0152"
            ],
            [
             0.1,
             "#c51b7d"
            ],
            [
             0.2,
             "#de77ae"
            ],
            [
             0.3,
             "#f1b6da"
            ],
            [
             0.4,
             "#fde0ef"
            ],
            [
             0.5,
             "#f7f7f7"
            ],
            [
             0.6,
             "#e6f5d0"
            ],
            [
             0.7,
             "#b8e186"
            ],
            [
             0.8,
             "#7fbc41"
            ],
            [
             0.9,
             "#4d9221"
            ],
            [
             1,
             "#276419"
            ]
           ],
           "sequential": [
            [
             0,
             "#0d0887"
            ],
            [
             0.1111111111111111,
             "#46039f"
            ],
            [
             0.2222222222222222,
             "#7201a8"
            ],
            [
             0.3333333333333333,
             "#9c179e"
            ],
            [
             0.4444444444444444,
             "#bd3786"
            ],
            [
             0.5555555555555556,
             "#d8576b"
            ],
            [
             0.6666666666666666,
             "#ed7953"
            ],
            [
             0.7777777777777778,
             "#fb9f3a"
            ],
            [
             0.8888888888888888,
             "#fdca26"
            ],
            [
             1,
             "#f0f921"
            ]
           ],
           "sequentialminus": [
            [
             0,
             "#0d0887"
            ],
            [
             0.1111111111111111,
             "#46039f"
            ],
            [
             0.2222222222222222,
             "#7201a8"
            ],
            [
             0.3333333333333333,
             "#9c179e"
            ],
            [
             0.4444444444444444,
             "#bd3786"
            ],
            [
             0.5555555555555556,
             "#d8576b"
            ],
            [
             0.6666666666666666,
             "#ed7953"
            ],
            [
             0.7777777777777778,
             "#fb9f3a"
            ],
            [
             0.8888888888888888,
             "#fdca26"
            ],
            [
             1,
             "#f0f921"
            ]
           ]
          },
          "colorway": [
           "#636efa",
           "#EF553B",
           "#00cc96",
           "#ab63fa",
           "#FFA15A",
           "#19d3f3",
           "#FF6692",
           "#B6E880",
           "#FF97FF",
           "#FECB52"
          ],
          "font": {
           "color": "#2a3f5f"
          },
          "geo": {
           "bgcolor": "white",
           "lakecolor": "white",
           "landcolor": "#E5ECF6",
           "showlakes": true,
           "showland": true,
           "subunitcolor": "white"
          },
          "hoverlabel": {
           "align": "left"
          },
          "hovermode": "closest",
          "mapbox": {
           "style": "light"
          },
          "paper_bgcolor": "white",
          "plot_bgcolor": "#E5ECF6",
          "polar": {
           "angularaxis": {
            "gridcolor": "white",
            "linecolor": "white",
            "ticks": ""
           },
           "bgcolor": "#E5ECF6",
           "radialaxis": {
            "gridcolor": "white",
            "linecolor": "white",
            "ticks": ""
           }
          },
          "scene": {
           "xaxis": {
            "backgroundcolor": "#E5ECF6",
            "gridcolor": "white",
            "gridwidth": 2,
            "linecolor": "white",
            "showbackground": true,
            "ticks": "",
            "zerolinecolor": "white"
           },
           "yaxis": {
            "backgroundcolor": "#E5ECF6",
            "gridcolor": "white",
            "gridwidth": 2,
            "linecolor": "white",
            "showbackground": true,
            "ticks": "",
            "zerolinecolor": "white"
           },
           "zaxis": {
            "backgroundcolor": "#E5ECF6",
            "gridcolor": "white",
            "gridwidth": 2,
            "linecolor": "white",
            "showbackground": true,
            "ticks": "",
            "zerolinecolor": "white"
           }
          },
          "shapedefaults": {
           "line": {
            "color": "#2a3f5f"
           }
          },
          "ternary": {
           "aaxis": {
            "gridcolor": "white",
            "linecolor": "white",
            "ticks": ""
           },
           "baxis": {
            "gridcolor": "white",
            "linecolor": "white",
            "ticks": ""
           },
           "bgcolor": "#E5ECF6",
           "caxis": {
            "gridcolor": "white",
            "linecolor": "white",
            "ticks": ""
           }
          },
          "title": {
           "x": 0.05
          },
          "xaxis": {
           "automargin": true,
           "gridcolor": "white",
           "linecolor": "white",
           "ticks": "",
           "title": {
            "standoff": 15
           },
           "zerolinecolor": "white",
           "zerolinewidth": 2
          },
          "yaxis": {
           "automargin": true,
           "gridcolor": "white",
           "linecolor": "white",
           "ticks": "",
           "title": {
            "standoff": 15
           },
           "zerolinecolor": "white",
           "zerolinewidth": 2
          }
         }
        },
        "title": {
         "text": "Transition probabilities for edge case with no B cells - No selectional advantage + With mutation"
        },
        "width": 1000,
        "xaxis": {
         "linecolor": "black"
        },
        "yaxis": {
         "linecolor": "black"
        }
       }
      }
     },
     "metadata": {}
    }
   ],
   "metadata": {}
  },
  {
   "cell_type": "code",
   "execution_count": null,
   "source": [],
   "outputs": [],
   "metadata": {}
  }
 ]
}